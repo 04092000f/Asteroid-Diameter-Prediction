{
  "cells": [
    {
      "cell_type": "code",
      "execution_count": 1,
      "metadata": {
        "id": "Ssg_N4spewkQ"
      },
      "outputs": [],
      "source": [
        "import pandas as pd \n",
        "import numpy as np\n",
        "import seaborn as sb\n",
        "from scipy import stats\n",
        "import matplotlib.pyplot as plt\n",
        "import math\n",
        "from xgboost import XGBRegressor,XGBClassifier\n",
        "from sklearn.model_selection import train_test_split,GridSearchCV\n",
        "from sklearn.linear_model import LinearRegression, Ridge, Lasso, ElasticNet\n",
        "from scipy.sparse import hstack\n",
        "from sklearn.preprocessing import StandardScaler\n",
        "from sklearn.ensemble import RandomForestRegressor,RandomForestClassifier\n",
        "from sklearn.inspection import permutation_importance\n",
        "from sklearn.feature_selection import SelectKBest\n",
        "from sklearn.feature_selection import chi2"
      ]
    },
    {
      "cell_type": "code",
      "execution_count": 2,
      "metadata": {
        "colab": {
          "base_uri": "https://localhost:8080/"
        },
        "id": "IdUVlS3zflOa",
        "outputId": "2cd1add6-32b9-4342-a69e-62832d59ce84"
      },
      "outputs": [
        {
          "output_type": "stream",
          "name": "stdout",
          "text": [
            "/usr/local/lib/python3.7/dist-packages/gdown/cli.py:131: FutureWarning: Option `--id` was deprecated in version 4.3.1 and will be removed in 5.0. You don't need to pass it anymore to use a file ID.\n",
            "  category=FutureWarning,\n",
            "Downloading...\n",
            "From: https://drive.google.com/uc?id=1-afEh_SyLdQh1tFH3mlcCgXLPj4FWSKm\n",
            "To: /content/Cleaned_Asteroid.csv\n",
            "100% 174M/174M [00:02<00:00, 72.0MB/s]\n"
          ]
        }
      ],
      "source": [
        "# Already have asteroid dataset in drive. Downloading it from drive\n",
        "!gdown --id 1-afEh_SyLdQh1tFH3mlcCgXLPj4FWSKm"
      ]
    },
    {
      "cell_type": "code",
      "execution_count": 3,
      "metadata": {
        "id": "XRsHooSGfAG1"
      },
      "outputs": [],
      "source": [
        "df=pd.read_csv(\"Cleaned_Asteroid.csv\")"
      ]
    },
    {
      "cell_type": "code",
      "execution_count": 4,
      "metadata": {
        "colab": {
          "base_uri": "https://localhost:8080/",
          "height": 250
        },
        "id": "40C2n9UHgBgs",
        "outputId": "8b416a56-4648-4d6e-971f-c2d88406467b"
      },
      "outputs": [
        {
          "output_type": "execute_result",
          "data": {
            "text/plain": [
              "        full_name         a         e          i          om           w  \\\n",
              "0         1 Ceres  2.769165  0.076009  10.594067   80.305532   73.597694   \n",
              "1        2 Pallas  2.772466  0.230337  34.836234  173.080063  310.048857   \n",
              "2          3 Juno  2.669150  0.256942  12.988919  169.852760  248.138626   \n",
              "3         4 Vesta  2.361418  0.088721   7.141771  103.810804  150.728541   \n",
              "4       5 Astraea  2.574249  0.191095   5.366988  141.576604  358.687608   \n",
              "\n",
              "          q        ad     per_y  data_arc  condition_code  n_obs_used     H  \\\n",
              "0  2.558684  2.979647  4.608202    8822.0               0        1002  3.34   \n",
              "1  2.133865  3.411067  4.616444   72318.0               0        8490  4.13   \n",
              "2  1.983332  3.354967  4.360814   72684.0               0        7104  5.33   \n",
              "3  2.151909  2.570926  3.628837   24288.0               0        9325  3.20   \n",
              "4  2.082324  3.066174  4.130323   63431.0               0        2861  6.85   \n",
              "\n",
              "   diameter  albedo neo pha     moid    diam_bin  \n",
              "0   939.400  0.0900   N   N  1.59478  Very Large  \n",
              "1   545.000  0.1010   N   N  1.23324  Very Large  \n",
              "2   246.596  0.2140   N   N  1.03454       Large  \n",
              "3   525.400  0.4228   N   N  1.13948  Very Large  \n",
              "4   106.699  0.2740   N   N  1.09589       Large  "
            ],
            "text/html": [
              "\n",
              "  <div id=\"df-5bd5a591-831c-470c-86fe-4a0dea035998\">\n",
              "    <div class=\"colab-df-container\">\n",
              "      <div>\n",
              "<style scoped>\n",
              "    .dataframe tbody tr th:only-of-type {\n",
              "        vertical-align: middle;\n",
              "    }\n",
              "\n",
              "    .dataframe tbody tr th {\n",
              "        vertical-align: top;\n",
              "    }\n",
              "\n",
              "    .dataframe thead th {\n",
              "        text-align: right;\n",
              "    }\n",
              "</style>\n",
              "<table border=\"1\" class=\"dataframe\">\n",
              "  <thead>\n",
              "    <tr style=\"text-align: right;\">\n",
              "      <th></th>\n",
              "      <th>full_name</th>\n",
              "      <th>a</th>\n",
              "      <th>e</th>\n",
              "      <th>i</th>\n",
              "      <th>om</th>\n",
              "      <th>w</th>\n",
              "      <th>q</th>\n",
              "      <th>ad</th>\n",
              "      <th>per_y</th>\n",
              "      <th>data_arc</th>\n",
              "      <th>condition_code</th>\n",
              "      <th>n_obs_used</th>\n",
              "      <th>H</th>\n",
              "      <th>diameter</th>\n",
              "      <th>albedo</th>\n",
              "      <th>neo</th>\n",
              "      <th>pha</th>\n",
              "      <th>moid</th>\n",
              "      <th>diam_bin</th>\n",
              "    </tr>\n",
              "  </thead>\n",
              "  <tbody>\n",
              "    <tr>\n",
              "      <th>0</th>\n",
              "      <td>1 Ceres</td>\n",
              "      <td>2.769165</td>\n",
              "      <td>0.076009</td>\n",
              "      <td>10.594067</td>\n",
              "      <td>80.305532</td>\n",
              "      <td>73.597694</td>\n",
              "      <td>2.558684</td>\n",
              "      <td>2.979647</td>\n",
              "      <td>4.608202</td>\n",
              "      <td>8822.0</td>\n",
              "      <td>0</td>\n",
              "      <td>1002</td>\n",
              "      <td>3.34</td>\n",
              "      <td>939.400</td>\n",
              "      <td>0.0900</td>\n",
              "      <td>N</td>\n",
              "      <td>N</td>\n",
              "      <td>1.59478</td>\n",
              "      <td>Very Large</td>\n",
              "    </tr>\n",
              "    <tr>\n",
              "      <th>1</th>\n",
              "      <td>2 Pallas</td>\n",
              "      <td>2.772466</td>\n",
              "      <td>0.230337</td>\n",
              "      <td>34.836234</td>\n",
              "      <td>173.080063</td>\n",
              "      <td>310.048857</td>\n",
              "      <td>2.133865</td>\n",
              "      <td>3.411067</td>\n",
              "      <td>4.616444</td>\n",
              "      <td>72318.0</td>\n",
              "      <td>0</td>\n",
              "      <td>8490</td>\n",
              "      <td>4.13</td>\n",
              "      <td>545.000</td>\n",
              "      <td>0.1010</td>\n",
              "      <td>N</td>\n",
              "      <td>N</td>\n",
              "      <td>1.23324</td>\n",
              "      <td>Very Large</td>\n",
              "    </tr>\n",
              "    <tr>\n",
              "      <th>2</th>\n",
              "      <td>3 Juno</td>\n",
              "      <td>2.669150</td>\n",
              "      <td>0.256942</td>\n",
              "      <td>12.988919</td>\n",
              "      <td>169.852760</td>\n",
              "      <td>248.138626</td>\n",
              "      <td>1.983332</td>\n",
              "      <td>3.354967</td>\n",
              "      <td>4.360814</td>\n",
              "      <td>72684.0</td>\n",
              "      <td>0</td>\n",
              "      <td>7104</td>\n",
              "      <td>5.33</td>\n",
              "      <td>246.596</td>\n",
              "      <td>0.2140</td>\n",
              "      <td>N</td>\n",
              "      <td>N</td>\n",
              "      <td>1.03454</td>\n",
              "      <td>Large</td>\n",
              "    </tr>\n",
              "    <tr>\n",
              "      <th>3</th>\n",
              "      <td>4 Vesta</td>\n",
              "      <td>2.361418</td>\n",
              "      <td>0.088721</td>\n",
              "      <td>7.141771</td>\n",
              "      <td>103.810804</td>\n",
              "      <td>150.728541</td>\n",
              "      <td>2.151909</td>\n",
              "      <td>2.570926</td>\n",
              "      <td>3.628837</td>\n",
              "      <td>24288.0</td>\n",
              "      <td>0</td>\n",
              "      <td>9325</td>\n",
              "      <td>3.20</td>\n",
              "      <td>525.400</td>\n",
              "      <td>0.4228</td>\n",
              "      <td>N</td>\n",
              "      <td>N</td>\n",
              "      <td>1.13948</td>\n",
              "      <td>Very Large</td>\n",
              "    </tr>\n",
              "    <tr>\n",
              "      <th>4</th>\n",
              "      <td>5 Astraea</td>\n",
              "      <td>2.574249</td>\n",
              "      <td>0.191095</td>\n",
              "      <td>5.366988</td>\n",
              "      <td>141.576604</td>\n",
              "      <td>358.687608</td>\n",
              "      <td>2.082324</td>\n",
              "      <td>3.066174</td>\n",
              "      <td>4.130323</td>\n",
              "      <td>63431.0</td>\n",
              "      <td>0</td>\n",
              "      <td>2861</td>\n",
              "      <td>6.85</td>\n",
              "      <td>106.699</td>\n",
              "      <td>0.2740</td>\n",
              "      <td>N</td>\n",
              "      <td>N</td>\n",
              "      <td>1.09589</td>\n",
              "      <td>Large</td>\n",
              "    </tr>\n",
              "  </tbody>\n",
              "</table>\n",
              "</div>\n",
              "      <button class=\"colab-df-convert\" onclick=\"convertToInteractive('df-5bd5a591-831c-470c-86fe-4a0dea035998')\"\n",
              "              title=\"Convert this dataframe to an interactive table.\"\n",
              "              style=\"display:none;\">\n",
              "        \n",
              "  <svg xmlns=\"http://www.w3.org/2000/svg\" height=\"24px\"viewBox=\"0 0 24 24\"\n",
              "       width=\"24px\">\n",
              "    <path d=\"M0 0h24v24H0V0z\" fill=\"none\"/>\n",
              "    <path d=\"M18.56 5.44l.94 2.06.94-2.06 2.06-.94-2.06-.94-.94-2.06-.94 2.06-2.06.94zm-11 1L8.5 8.5l.94-2.06 2.06-.94-2.06-.94L8.5 2.5l-.94 2.06-2.06.94zm10 10l.94 2.06.94-2.06 2.06-.94-2.06-.94-.94-2.06-.94 2.06-2.06.94z\"/><path d=\"M17.41 7.96l-1.37-1.37c-.4-.4-.92-.59-1.43-.59-.52 0-1.04.2-1.43.59L10.3 9.45l-7.72 7.72c-.78.78-.78 2.05 0 2.83L4 21.41c.39.39.9.59 1.41.59.51 0 1.02-.2 1.41-.59l7.78-7.78 2.81-2.81c.8-.78.8-2.07 0-2.86zM5.41 20L4 18.59l7.72-7.72 1.47 1.35L5.41 20z\"/>\n",
              "  </svg>\n",
              "      </button>\n",
              "      \n",
              "  <style>\n",
              "    .colab-df-container {\n",
              "      display:flex;\n",
              "      flex-wrap:wrap;\n",
              "      gap: 12px;\n",
              "    }\n",
              "\n",
              "    .colab-df-convert {\n",
              "      background-color: #E8F0FE;\n",
              "      border: none;\n",
              "      border-radius: 50%;\n",
              "      cursor: pointer;\n",
              "      display: none;\n",
              "      fill: #1967D2;\n",
              "      height: 32px;\n",
              "      padding: 0 0 0 0;\n",
              "      width: 32px;\n",
              "    }\n",
              "\n",
              "    .colab-df-convert:hover {\n",
              "      background-color: #E2EBFA;\n",
              "      box-shadow: 0px 1px 2px rgba(60, 64, 67, 0.3), 0px 1px 3px 1px rgba(60, 64, 67, 0.15);\n",
              "      fill: #174EA6;\n",
              "    }\n",
              "\n",
              "    [theme=dark] .colab-df-convert {\n",
              "      background-color: #3B4455;\n",
              "      fill: #D2E3FC;\n",
              "    }\n",
              "\n",
              "    [theme=dark] .colab-df-convert:hover {\n",
              "      background-color: #434B5C;\n",
              "      box-shadow: 0px 1px 3px 1px rgba(0, 0, 0, 0.15);\n",
              "      filter: drop-shadow(0px 1px 2px rgba(0, 0, 0, 0.3));\n",
              "      fill: #FFFFFF;\n",
              "    }\n",
              "  </style>\n",
              "\n",
              "      <script>\n",
              "        const buttonEl =\n",
              "          document.querySelector('#df-5bd5a591-831c-470c-86fe-4a0dea035998 button.colab-df-convert');\n",
              "        buttonEl.style.display =\n",
              "          google.colab.kernel.accessAllowed ? 'block' : 'none';\n",
              "\n",
              "        async function convertToInteractive(key) {\n",
              "          const element = document.querySelector('#df-5bd5a591-831c-470c-86fe-4a0dea035998');\n",
              "          const dataTable =\n",
              "            await google.colab.kernel.invokeFunction('convertToInteractive',\n",
              "                                                     [key], {});\n",
              "          if (!dataTable) return;\n",
              "\n",
              "          const docLinkHtml = 'Like what you see? Visit the ' +\n",
              "            '<a target=\"_blank\" href=https://colab.research.google.com/notebooks/data_table.ipynb>data table notebook</a>'\n",
              "            + ' to learn more about interactive tables.';\n",
              "          element.innerHTML = '';\n",
              "          dataTable['output_type'] = 'display_data';\n",
              "          await google.colab.output.renderOutput(dataTable, element);\n",
              "          const docLink = document.createElement('div');\n",
              "          docLink.innerHTML = docLinkHtml;\n",
              "          element.appendChild(docLink);\n",
              "        }\n",
              "      </script>\n",
              "    </div>\n",
              "  </div>\n",
              "  "
            ]
          },
          "metadata": {},
          "execution_count": 4
        }
      ],
      "source": [
        "df=df.astype({'diameter':float,'condition_code':int})\n",
        "df.head(5)"
      ]
    },
    {
      "cell_type": "markdown",
      "metadata": {
        "id": "O880eJzsjPFI"
      },
      "source": [
        "### Feature Selection"
      ]
    },
    {
      "cell_type": "markdown",
      "metadata": {
        "id": "A9io0Q_LjSYL"
      },
      "source": [
        "#### We are using Correlation Matrix to select Most Important Feature"
      ]
    },
    {
      "cell_type": "code",
      "execution_count": null,
      "metadata": {
        "colab": {
          "base_uri": "https://localhost:8080/"
        },
        "id": "ANe9Yh_MjRYv",
        "outputId": "fbb29f7b-6fd4-4c6a-f255-63e4a8b5ead5"
      },
      "outputs": [
        {
          "output_type": "execute_result",
          "data": {
            "text/plain": [
              "diameter          1.000000\n",
              "H                 0.565614\n",
              "data_arc          0.492110\n",
              "n_obs_used        0.386038\n",
              "moid              0.332416\n",
              "q                 0.329698\n",
              "a                 0.144748\n",
              "albedo            0.105658\n",
              "ad                0.093440\n",
              "condition_code    0.073546\n",
              "i                 0.052540\n",
              "e                 0.049107\n",
              "per_y             0.048955\n",
              "w                 0.002980\n",
              "om                0.001155\n",
              "Name: diameter, dtype: float64"
            ]
          },
          "metadata": {},
          "execution_count": 4
        }
      ],
      "source": [
        "corr=df.corr()\n",
        "corr['diameter'].abs().sort_values(ascending=False)"
      ]
    },
    {
      "cell_type": "markdown",
      "metadata": {
        "id": "sjfwPz0cj4g5"
      },
      "source": [
        "After performing correlation matrix, it is found that H,data_arc,n_obs_used,moid,q,a,albedo have higher correlation with matrix.\n",
        "\n",
        "Select the features with higher absolute correlation value."
      ]
    },
    {
      "cell_type": "code",
      "execution_count": 5,
      "metadata": {
        "id": "sDsZlWrJkI_R"
      },
      "outputs": [],
      "source": [
        "df=df[['H','data_arc','n_obs_used','moid','q','a','albedo','neo','pha','diameter']]"
      ]
    },
    {
      "cell_type": "markdown",
      "metadata": {
        "id": "hpYrsbAqpxH_"
      },
      "source": [
        "## Splitting the dataset\n",
        "\n",
        "* Since the diameter has missing values, we will have missing values of diameter in test data set and train dataset will have non-missing values.\n",
        "\n",
        "* We can also perform Validation Split for better convenience"
      ]
    },
    {
      "cell_type": "code",
      "execution_count": 6,
      "metadata": {
        "colab": {
          "base_uri": "https://localhost:8080/"
        },
        "id": "p-poySQhqS0h",
        "outputId": "fa6b048b-5217-41a4-bfd7-4e8e9bdd08f1"
      },
      "outputs": [
        {
          "output_type": "stream",
          "name": "stdout",
          "text": [
            "(137681, 9) (137681,) (702055, 9)\n"
          ]
        }
      ],
      "source": [
        "# Test Data of missing values of diameter\n",
        "te_dat = df[df[\"diameter\"].isna()]\n",
        "df.dropna(inplace=True)\n",
        "\n",
        "ytr = df[\"diameter\"]\n",
        "xtr = df.drop(\"diameter\", axis=1)\n",
        "xte = te_dat.drop(\"diameter\", axis=1)\n",
        "\n",
        "# 84-16 Splitting With no Random state\n",
        "print(xtr.shape,ytr.shape,xte.shape)"
      ]
    },
    {
      "cell_type": "markdown",
      "metadata": {
        "id": "PaKfHwDPtKW5"
      },
      "source": [
        "## Encoding the data\n",
        "\n",
        "* For Categorical Features"
      ]
    },
    {
      "cell_type": "code",
      "execution_count": 7,
      "metadata": {
        "id": "08mVUKfCs6lb"
      },
      "outputs": [],
      "source": [
        "# NEO\n",
        "xtr_neo_encode=pd.get_dummies(xtr['neo'], drop_first=True)\n",
        "xte_neo_encode=pd.get_dummies(xte['neo'], drop_first=True)"
      ]
    },
    {
      "cell_type": "code",
      "execution_count": 8,
      "metadata": {
        "id": "lLRjgNu9t8fV"
      },
      "outputs": [],
      "source": [
        "# PHA\n",
        "xtr_pha_encode=pd.get_dummies(xtr['pha'], drop_first=True)\n",
        "xte_pha_encode=pd.get_dummies(xte['pha'], drop_first=True)"
      ]
    },
    {
      "cell_type": "markdown",
      "metadata": {
        "id": "IFaJCYOOuDZm"
      },
      "source": [
        "* For Numerical Features"
      ]
    },
    {
      "cell_type": "code",
      "execution_count": 9,
      "metadata": {
        "id": "tQXs9VeguHEt"
      },
      "outputs": [],
      "source": [
        "sd=StandardScaler()"
      ]
    },
    {
      "cell_type": "markdown",
      "metadata": {
        "id": "eUGEwHvquOeD"
      },
      "source": [
        "#### Train Data"
      ]
    },
    {
      "cell_type": "code",
      "execution_count": 10,
      "metadata": {
        "colab": {
          "base_uri": "https://localhost:8080/",
          "height": 0
        },
        "id": "JQEvMTTiuTh9",
        "outputId": "ca7da024-9074-4990-829b-b03463555525"
      },
      "outputs": [
        {
          "output_type": "execute_result",
          "data": {
            "text/plain": [
              "          a         q   data_arc  n_obs_used         H    albedo      moid\n",
              "0 -0.029792  0.302503  -0.012622    0.588733 -8.368553 -0.361170  0.341052\n",
              "1 -0.027624 -0.520575  10.305415   13.457097 -7.810651 -0.260805 -0.364798\n",
              "2 -0.095484 -0.812229  10.364889   11.075212 -6.963205  0.770221 -0.752728\n",
              "3 -0.297605 -0.485614   2.500587   14.892070 -8.467421  2.675338 -0.547849\n",
              "4 -0.157815 -0.620434   8.861286    3.783483 -5.889774  1.317669 -0.632952"
            ],
            "text/html": [
              "\n",
              "  <div id=\"df-22669d6e-d2b2-4f5f-aaf6-60fa386236ef\">\n",
              "    <div class=\"colab-df-container\">\n",
              "      <div>\n",
              "<style scoped>\n",
              "    .dataframe tbody tr th:only-of-type {\n",
              "        vertical-align: middle;\n",
              "    }\n",
              "\n",
              "    .dataframe tbody tr th {\n",
              "        vertical-align: top;\n",
              "    }\n",
              "\n",
              "    .dataframe thead th {\n",
              "        text-align: right;\n",
              "    }\n",
              "</style>\n",
              "<table border=\"1\" class=\"dataframe\">\n",
              "  <thead>\n",
              "    <tr style=\"text-align: right;\">\n",
              "      <th></th>\n",
              "      <th>a</th>\n",
              "      <th>q</th>\n",
              "      <th>data_arc</th>\n",
              "      <th>n_obs_used</th>\n",
              "      <th>H</th>\n",
              "      <th>albedo</th>\n",
              "      <th>moid</th>\n",
              "    </tr>\n",
              "  </thead>\n",
              "  <tbody>\n",
              "    <tr>\n",
              "      <th>0</th>\n",
              "      <td>-0.029792</td>\n",
              "      <td>0.302503</td>\n",
              "      <td>-0.012622</td>\n",
              "      <td>0.588733</td>\n",
              "      <td>-8.368553</td>\n",
              "      <td>-0.361170</td>\n",
              "      <td>0.341052</td>\n",
              "    </tr>\n",
              "    <tr>\n",
              "      <th>1</th>\n",
              "      <td>-0.027624</td>\n",
              "      <td>-0.520575</td>\n",
              "      <td>10.305415</td>\n",
              "      <td>13.457097</td>\n",
              "      <td>-7.810651</td>\n",
              "      <td>-0.260805</td>\n",
              "      <td>-0.364798</td>\n",
              "    </tr>\n",
              "    <tr>\n",
              "      <th>2</th>\n",
              "      <td>-0.095484</td>\n",
              "      <td>-0.812229</td>\n",
              "      <td>10.364889</td>\n",
              "      <td>11.075212</td>\n",
              "      <td>-6.963205</td>\n",
              "      <td>0.770221</td>\n",
              "      <td>-0.752728</td>\n",
              "    </tr>\n",
              "    <tr>\n",
              "      <th>3</th>\n",
              "      <td>-0.297605</td>\n",
              "      <td>-0.485614</td>\n",
              "      <td>2.500587</td>\n",
              "      <td>14.892070</td>\n",
              "      <td>-8.467421</td>\n",
              "      <td>2.675338</td>\n",
              "      <td>-0.547849</td>\n",
              "    </tr>\n",
              "    <tr>\n",
              "      <th>4</th>\n",
              "      <td>-0.157815</td>\n",
              "      <td>-0.620434</td>\n",
              "      <td>8.861286</td>\n",
              "      <td>3.783483</td>\n",
              "      <td>-5.889774</td>\n",
              "      <td>1.317669</td>\n",
              "      <td>-0.632952</td>\n",
              "    </tr>\n",
              "  </tbody>\n",
              "</table>\n",
              "</div>\n",
              "      <button class=\"colab-df-convert\" onclick=\"convertToInteractive('df-22669d6e-d2b2-4f5f-aaf6-60fa386236ef')\"\n",
              "              title=\"Convert this dataframe to an interactive table.\"\n",
              "              style=\"display:none;\">\n",
              "        \n",
              "  <svg xmlns=\"http://www.w3.org/2000/svg\" height=\"24px\"viewBox=\"0 0 24 24\"\n",
              "       width=\"24px\">\n",
              "    <path d=\"M0 0h24v24H0V0z\" fill=\"none\"/>\n",
              "    <path d=\"M18.56 5.44l.94 2.06.94-2.06 2.06-.94-2.06-.94-.94-2.06-.94 2.06-2.06.94zm-11 1L8.5 8.5l.94-2.06 2.06-.94-2.06-.94L8.5 2.5l-.94 2.06-2.06.94zm10 10l.94 2.06.94-2.06 2.06-.94-2.06-.94-.94-2.06-.94 2.06-2.06.94z\"/><path d=\"M17.41 7.96l-1.37-1.37c-.4-.4-.92-.59-1.43-.59-.52 0-1.04.2-1.43.59L10.3 9.45l-7.72 7.72c-.78.78-.78 2.05 0 2.83L4 21.41c.39.39.9.59 1.41.59.51 0 1.02-.2 1.41-.59l7.78-7.78 2.81-2.81c.8-.78.8-2.07 0-2.86zM5.41 20L4 18.59l7.72-7.72 1.47 1.35L5.41 20z\"/>\n",
              "  </svg>\n",
              "      </button>\n",
              "      \n",
              "  <style>\n",
              "    .colab-df-container {\n",
              "      display:flex;\n",
              "      flex-wrap:wrap;\n",
              "      gap: 12px;\n",
              "    }\n",
              "\n",
              "    .colab-df-convert {\n",
              "      background-color: #E8F0FE;\n",
              "      border: none;\n",
              "      border-radius: 50%;\n",
              "      cursor: pointer;\n",
              "      display: none;\n",
              "      fill: #1967D2;\n",
              "      height: 32px;\n",
              "      padding: 0 0 0 0;\n",
              "      width: 32px;\n",
              "    }\n",
              "\n",
              "    .colab-df-convert:hover {\n",
              "      background-color: #E2EBFA;\n",
              "      box-shadow: 0px 1px 2px rgba(60, 64, 67, 0.3), 0px 1px 3px 1px rgba(60, 64, 67, 0.15);\n",
              "      fill: #174EA6;\n",
              "    }\n",
              "\n",
              "    [theme=dark] .colab-df-convert {\n",
              "      background-color: #3B4455;\n",
              "      fill: #D2E3FC;\n",
              "    }\n",
              "\n",
              "    [theme=dark] .colab-df-convert:hover {\n",
              "      background-color: #434B5C;\n",
              "      box-shadow: 0px 1px 3px 1px rgba(0, 0, 0, 0.15);\n",
              "      filter: drop-shadow(0px 1px 2px rgba(0, 0, 0, 0.3));\n",
              "      fill: #FFFFFF;\n",
              "    }\n",
              "  </style>\n",
              "\n",
              "      <script>\n",
              "        const buttonEl =\n",
              "          document.querySelector('#df-22669d6e-d2b2-4f5f-aaf6-60fa386236ef button.colab-df-convert');\n",
              "        buttonEl.style.display =\n",
              "          google.colab.kernel.accessAllowed ? 'block' : 'none';\n",
              "\n",
              "        async function convertToInteractive(key) {\n",
              "          const element = document.querySelector('#df-22669d6e-d2b2-4f5f-aaf6-60fa386236ef');\n",
              "          const dataTable =\n",
              "            await google.colab.kernel.invokeFunction('convertToInteractive',\n",
              "                                                     [key], {});\n",
              "          if (!dataTable) return;\n",
              "\n",
              "          const docLinkHtml = 'Like what you see? Visit the ' +\n",
              "            '<a target=\"_blank\" href=https://colab.research.google.com/notebooks/data_table.ipynb>data table notebook</a>'\n",
              "            + ' to learn more about interactive tables.';\n",
              "          element.innerHTML = '';\n",
              "          dataTable['output_type'] = 'display_data';\n",
              "          await google.colab.output.renderOutput(dataTable, element);\n",
              "          const docLink = document.createElement('div');\n",
              "          docLink.innerHTML = docLinkHtml;\n",
              "          element.appendChild(docLink);\n",
              "        }\n",
              "      </script>\n",
              "    </div>\n",
              "  </div>\n",
              "  "
            ]
          },
          "metadata": {},
          "execution_count": 10
        }
      ],
      "source": [
        "sd.fit(xtr[['a', 'q', 'data_arc', 'n_obs_used', 'H',\n",
        "       'albedo', 'moid']])\n",
        "xtr_norm=sd.transform(xtr[['a', 'q', 'data_arc', 'n_obs_used', 'H',\n",
        "       'albedo', 'moid']])\n",
        "xtr_norm=pd.DataFrame(data=xtr_norm,columns=['a', 'q', 'data_arc', 'n_obs_used', 'H',\n",
        "       'albedo', 'moid'])\n",
        "xtr_norm.head(5)"
      ]
    },
    {
      "cell_type": "markdown",
      "metadata": {
        "id": "BTb_QoLruYPN"
      },
      "source": [
        "#### Test Data"
      ]
    },
    {
      "cell_type": "code",
      "execution_count": 11,
      "metadata": {
        "colab": {
          "base_uri": "https://localhost:8080/",
          "height": 0
        },
        "id": "-RvnEPEeuav6",
        "outputId": "52006830-e1a6-46c7-e28d-359e600933e5"
      },
      "outputs": [
        {
          "output_type": "execute_result",
          "data": {
            "text/plain": [
              "          a         q  data_arc  n_obs_used         H   albedo      moid\n",
              "0 -0.105408 -0.397108  5.067909    2.492866 -2.111580 -0.47066 -0.399530\n",
              "1 -0.133678 -1.671668  5.466519    2.599415 -2.450558 -0.47066 -1.553292\n",
              "2 -0.115431 -2.335321  4.968947    2.003084  0.148275 -0.47066 -2.375477\n",
              "3 -0.375146 -1.079947  4.909473    2.618319 -0.981652 -0.47066 -1.129684\n",
              "4 -0.351346 -1.164690  4.660362    1.717808 -0.981652 -0.47066 -1.214086"
            ],
            "text/html": [
              "\n",
              "  <div id=\"df-78d63e32-ce39-47ce-88e7-7d7f98528032\">\n",
              "    <div class=\"colab-df-container\">\n",
              "      <div>\n",
              "<style scoped>\n",
              "    .dataframe tbody tr th:only-of-type {\n",
              "        vertical-align: middle;\n",
              "    }\n",
              "\n",
              "    .dataframe tbody tr th {\n",
              "        vertical-align: top;\n",
              "    }\n",
              "\n",
              "    .dataframe thead th {\n",
              "        text-align: right;\n",
              "    }\n",
              "</style>\n",
              "<table border=\"1\" class=\"dataframe\">\n",
              "  <thead>\n",
              "    <tr style=\"text-align: right;\">\n",
              "      <th></th>\n",
              "      <th>a</th>\n",
              "      <th>q</th>\n",
              "      <th>data_arc</th>\n",
              "      <th>n_obs_used</th>\n",
              "      <th>H</th>\n",
              "      <th>albedo</th>\n",
              "      <th>moid</th>\n",
              "    </tr>\n",
              "  </thead>\n",
              "  <tbody>\n",
              "    <tr>\n",
              "      <th>0</th>\n",
              "      <td>-0.105408</td>\n",
              "      <td>-0.397108</td>\n",
              "      <td>5.067909</td>\n",
              "      <td>2.492866</td>\n",
              "      <td>-2.111580</td>\n",
              "      <td>-0.47066</td>\n",
              "      <td>-0.399530</td>\n",
              "    </tr>\n",
              "    <tr>\n",
              "      <th>1</th>\n",
              "      <td>-0.133678</td>\n",
              "      <td>-1.671668</td>\n",
              "      <td>5.466519</td>\n",
              "      <td>2.599415</td>\n",
              "      <td>-2.450558</td>\n",
              "      <td>-0.47066</td>\n",
              "      <td>-1.553292</td>\n",
              "    </tr>\n",
              "    <tr>\n",
              "      <th>2</th>\n",
              "      <td>-0.115431</td>\n",
              "      <td>-2.335321</td>\n",
              "      <td>4.968947</td>\n",
              "      <td>2.003084</td>\n",
              "      <td>0.148275</td>\n",
              "      <td>-0.47066</td>\n",
              "      <td>-2.375477</td>\n",
              "    </tr>\n",
              "    <tr>\n",
              "      <th>3</th>\n",
              "      <td>-0.375146</td>\n",
              "      <td>-1.079947</td>\n",
              "      <td>4.909473</td>\n",
              "      <td>2.618319</td>\n",
              "      <td>-0.981652</td>\n",
              "      <td>-0.47066</td>\n",
              "      <td>-1.129684</td>\n",
              "    </tr>\n",
              "    <tr>\n",
              "      <th>4</th>\n",
              "      <td>-0.351346</td>\n",
              "      <td>-1.164690</td>\n",
              "      <td>4.660362</td>\n",
              "      <td>1.717808</td>\n",
              "      <td>-0.981652</td>\n",
              "      <td>-0.47066</td>\n",
              "      <td>-1.214086</td>\n",
              "    </tr>\n",
              "  </tbody>\n",
              "</table>\n",
              "</div>\n",
              "      <button class=\"colab-df-convert\" onclick=\"convertToInteractive('df-78d63e32-ce39-47ce-88e7-7d7f98528032')\"\n",
              "              title=\"Convert this dataframe to an interactive table.\"\n",
              "              style=\"display:none;\">\n",
              "        \n",
              "  <svg xmlns=\"http://www.w3.org/2000/svg\" height=\"24px\"viewBox=\"0 0 24 24\"\n",
              "       width=\"24px\">\n",
              "    <path d=\"M0 0h24v24H0V0z\" fill=\"none\"/>\n",
              "    <path d=\"M18.56 5.44l.94 2.06.94-2.06 2.06-.94-2.06-.94-.94-2.06-.94 2.06-2.06.94zm-11 1L8.5 8.5l.94-2.06 2.06-.94-2.06-.94L8.5 2.5l-.94 2.06-2.06.94zm10 10l.94 2.06.94-2.06 2.06-.94-2.06-.94-.94-2.06-.94 2.06-2.06.94z\"/><path d=\"M17.41 7.96l-1.37-1.37c-.4-.4-.92-.59-1.43-.59-.52 0-1.04.2-1.43.59L10.3 9.45l-7.72 7.72c-.78.78-.78 2.05 0 2.83L4 21.41c.39.39.9.59 1.41.59.51 0 1.02-.2 1.41-.59l7.78-7.78 2.81-2.81c.8-.78.8-2.07 0-2.86zM5.41 20L4 18.59l7.72-7.72 1.47 1.35L5.41 20z\"/>\n",
              "  </svg>\n",
              "      </button>\n",
              "      \n",
              "  <style>\n",
              "    .colab-df-container {\n",
              "      display:flex;\n",
              "      flex-wrap:wrap;\n",
              "      gap: 12px;\n",
              "    }\n",
              "\n",
              "    .colab-df-convert {\n",
              "      background-color: #E8F0FE;\n",
              "      border: none;\n",
              "      border-radius: 50%;\n",
              "      cursor: pointer;\n",
              "      display: none;\n",
              "      fill: #1967D2;\n",
              "      height: 32px;\n",
              "      padding: 0 0 0 0;\n",
              "      width: 32px;\n",
              "    }\n",
              "\n",
              "    .colab-df-convert:hover {\n",
              "      background-color: #E2EBFA;\n",
              "      box-shadow: 0px 1px 2px rgba(60, 64, 67, 0.3), 0px 1px 3px 1px rgba(60, 64, 67, 0.15);\n",
              "      fill: #174EA6;\n",
              "    }\n",
              "\n",
              "    [theme=dark] .colab-df-convert {\n",
              "      background-color: #3B4455;\n",
              "      fill: #D2E3FC;\n",
              "    }\n",
              "\n",
              "    [theme=dark] .colab-df-convert:hover {\n",
              "      background-color: #434B5C;\n",
              "      box-shadow: 0px 1px 3px 1px rgba(0, 0, 0, 0.15);\n",
              "      filter: drop-shadow(0px 1px 2px rgba(0, 0, 0, 0.3));\n",
              "      fill: #FFFFFF;\n",
              "    }\n",
              "  </style>\n",
              "\n",
              "      <script>\n",
              "        const buttonEl =\n",
              "          document.querySelector('#df-78d63e32-ce39-47ce-88e7-7d7f98528032 button.colab-df-convert');\n",
              "        buttonEl.style.display =\n",
              "          google.colab.kernel.accessAllowed ? 'block' : 'none';\n",
              "\n",
              "        async function convertToInteractive(key) {\n",
              "          const element = document.querySelector('#df-78d63e32-ce39-47ce-88e7-7d7f98528032');\n",
              "          const dataTable =\n",
              "            await google.colab.kernel.invokeFunction('convertToInteractive',\n",
              "                                                     [key], {});\n",
              "          if (!dataTable) return;\n",
              "\n",
              "          const docLinkHtml = 'Like what you see? Visit the ' +\n",
              "            '<a target=\"_blank\" href=https://colab.research.google.com/notebooks/data_table.ipynb>data table notebook</a>'\n",
              "            + ' to learn more about interactive tables.';\n",
              "          element.innerHTML = '';\n",
              "          dataTable['output_type'] = 'display_data';\n",
              "          await google.colab.output.renderOutput(dataTable, element);\n",
              "          const docLink = document.createElement('div');\n",
              "          docLink.innerHTML = docLinkHtml;\n",
              "          element.appendChild(docLink);\n",
              "        }\n",
              "      </script>\n",
              "    </div>\n",
              "  </div>\n",
              "  "
            ]
          },
          "metadata": {},
          "execution_count": 11
        }
      ],
      "source": [
        "xte_norm=sd.transform(xte[['a', 'q', 'data_arc', 'n_obs_used', 'H',\n",
        "       'albedo', 'moid']])\n",
        "xte_norm=pd.DataFrame(data=xte_norm,columns=['a', 'q', 'data_arc', 'n_obs_used', 'H',\n",
        "       'albedo', 'moid'])\n",
        "xte_norm.head(5)"
      ]
    },
    {
      "cell_type": "markdown",
      "metadata": {
        "id": "VD70eQ4Dunpo"
      },
      "source": [
        "#### Encoding Numerical and Categorical Features"
      ]
    },
    {
      "cell_type": "markdown",
      "metadata": {
        "id": "peGRCSvcu0Os"
      },
      "source": [
        "* Train Data"
      ]
    },
    {
      "cell_type": "code",
      "execution_count": 12,
      "metadata": {
        "colab": {
          "base_uri": "https://localhost:8080/",
          "height": 0
        },
        "id": "tX5wd0hxuroQ",
        "outputId": "fa1d62ff-f686-4809-e19e-73a1ad4464a8"
      },
      "outputs": [
        {
          "output_type": "execute_result",
          "data": {
            "text/plain": [
              "          a         q   data_arc  n_obs_used         H    albedo      moid  \\\n",
              "0 -0.029792  0.302503  -0.012622    0.588733 -8.368553 -0.361170  0.341052   \n",
              "1 -0.027624 -0.520575  10.305415   13.457097 -7.810651 -0.260805 -0.364798   \n",
              "2 -0.095484 -0.812229  10.364889   11.075212 -6.963205  0.770221 -0.752728   \n",
              "3 -0.297605 -0.485614   2.500587   14.892070 -8.467421  2.675338 -0.547849   \n",
              "4 -0.157815 -0.620434   8.861286    3.783483 -5.889774  1.317669 -0.632952   \n",
              "\n",
              "   neo  pha  \n",
              "0    0    0  \n",
              "1    0    0  \n",
              "2    0    0  \n",
              "3    0    0  \n",
              "4    0    0  "
            ],
            "text/html": [
              "\n",
              "  <div id=\"df-8693cf6d-b399-46df-9994-7ac438d0d677\">\n",
              "    <div class=\"colab-df-container\">\n",
              "      <div>\n",
              "<style scoped>\n",
              "    .dataframe tbody tr th:only-of-type {\n",
              "        vertical-align: middle;\n",
              "    }\n",
              "\n",
              "    .dataframe tbody tr th {\n",
              "        vertical-align: top;\n",
              "    }\n",
              "\n",
              "    .dataframe thead th {\n",
              "        text-align: right;\n",
              "    }\n",
              "</style>\n",
              "<table border=\"1\" class=\"dataframe\">\n",
              "  <thead>\n",
              "    <tr style=\"text-align: right;\">\n",
              "      <th></th>\n",
              "      <th>a</th>\n",
              "      <th>q</th>\n",
              "      <th>data_arc</th>\n",
              "      <th>n_obs_used</th>\n",
              "      <th>H</th>\n",
              "      <th>albedo</th>\n",
              "      <th>moid</th>\n",
              "      <th>neo</th>\n",
              "      <th>pha</th>\n",
              "    </tr>\n",
              "  </thead>\n",
              "  <tbody>\n",
              "    <tr>\n",
              "      <th>0</th>\n",
              "      <td>-0.029792</td>\n",
              "      <td>0.302503</td>\n",
              "      <td>-0.012622</td>\n",
              "      <td>0.588733</td>\n",
              "      <td>-8.368553</td>\n",
              "      <td>-0.361170</td>\n",
              "      <td>0.341052</td>\n",
              "      <td>0</td>\n",
              "      <td>0</td>\n",
              "    </tr>\n",
              "    <tr>\n",
              "      <th>1</th>\n",
              "      <td>-0.027624</td>\n",
              "      <td>-0.520575</td>\n",
              "      <td>10.305415</td>\n",
              "      <td>13.457097</td>\n",
              "      <td>-7.810651</td>\n",
              "      <td>-0.260805</td>\n",
              "      <td>-0.364798</td>\n",
              "      <td>0</td>\n",
              "      <td>0</td>\n",
              "    </tr>\n",
              "    <tr>\n",
              "      <th>2</th>\n",
              "      <td>-0.095484</td>\n",
              "      <td>-0.812229</td>\n",
              "      <td>10.364889</td>\n",
              "      <td>11.075212</td>\n",
              "      <td>-6.963205</td>\n",
              "      <td>0.770221</td>\n",
              "      <td>-0.752728</td>\n",
              "      <td>0</td>\n",
              "      <td>0</td>\n",
              "    </tr>\n",
              "    <tr>\n",
              "      <th>3</th>\n",
              "      <td>-0.297605</td>\n",
              "      <td>-0.485614</td>\n",
              "      <td>2.500587</td>\n",
              "      <td>14.892070</td>\n",
              "      <td>-8.467421</td>\n",
              "      <td>2.675338</td>\n",
              "      <td>-0.547849</td>\n",
              "      <td>0</td>\n",
              "      <td>0</td>\n",
              "    </tr>\n",
              "    <tr>\n",
              "      <th>4</th>\n",
              "      <td>-0.157815</td>\n",
              "      <td>-0.620434</td>\n",
              "      <td>8.861286</td>\n",
              "      <td>3.783483</td>\n",
              "      <td>-5.889774</td>\n",
              "      <td>1.317669</td>\n",
              "      <td>-0.632952</td>\n",
              "      <td>0</td>\n",
              "      <td>0</td>\n",
              "    </tr>\n",
              "  </tbody>\n",
              "</table>\n",
              "</div>\n",
              "      <button class=\"colab-df-convert\" onclick=\"convertToInteractive('df-8693cf6d-b399-46df-9994-7ac438d0d677')\"\n",
              "              title=\"Convert this dataframe to an interactive table.\"\n",
              "              style=\"display:none;\">\n",
              "        \n",
              "  <svg xmlns=\"http://www.w3.org/2000/svg\" height=\"24px\"viewBox=\"0 0 24 24\"\n",
              "       width=\"24px\">\n",
              "    <path d=\"M0 0h24v24H0V0z\" fill=\"none\"/>\n",
              "    <path d=\"M18.56 5.44l.94 2.06.94-2.06 2.06-.94-2.06-.94-.94-2.06-.94 2.06-2.06.94zm-11 1L8.5 8.5l.94-2.06 2.06-.94-2.06-.94L8.5 2.5l-.94 2.06-2.06.94zm10 10l.94 2.06.94-2.06 2.06-.94-2.06-.94-.94-2.06-.94 2.06-2.06.94z\"/><path d=\"M17.41 7.96l-1.37-1.37c-.4-.4-.92-.59-1.43-.59-.52 0-1.04.2-1.43.59L10.3 9.45l-7.72 7.72c-.78.78-.78 2.05 0 2.83L4 21.41c.39.39.9.59 1.41.59.51 0 1.02-.2 1.41-.59l7.78-7.78 2.81-2.81c.8-.78.8-2.07 0-2.86zM5.41 20L4 18.59l7.72-7.72 1.47 1.35L5.41 20z\"/>\n",
              "  </svg>\n",
              "      </button>\n",
              "      \n",
              "  <style>\n",
              "    .colab-df-container {\n",
              "      display:flex;\n",
              "      flex-wrap:wrap;\n",
              "      gap: 12px;\n",
              "    }\n",
              "\n",
              "    .colab-df-convert {\n",
              "      background-color: #E8F0FE;\n",
              "      border: none;\n",
              "      border-radius: 50%;\n",
              "      cursor: pointer;\n",
              "      display: none;\n",
              "      fill: #1967D2;\n",
              "      height: 32px;\n",
              "      padding: 0 0 0 0;\n",
              "      width: 32px;\n",
              "    }\n",
              "\n",
              "    .colab-df-convert:hover {\n",
              "      background-color: #E2EBFA;\n",
              "      box-shadow: 0px 1px 2px rgba(60, 64, 67, 0.3), 0px 1px 3px 1px rgba(60, 64, 67, 0.15);\n",
              "      fill: #174EA6;\n",
              "    }\n",
              "\n",
              "    [theme=dark] .colab-df-convert {\n",
              "      background-color: #3B4455;\n",
              "      fill: #D2E3FC;\n",
              "    }\n",
              "\n",
              "    [theme=dark] .colab-df-convert:hover {\n",
              "      background-color: #434B5C;\n",
              "      box-shadow: 0px 1px 3px 1px rgba(0, 0, 0, 0.15);\n",
              "      filter: drop-shadow(0px 1px 2px rgba(0, 0, 0, 0.3));\n",
              "      fill: #FFFFFF;\n",
              "    }\n",
              "  </style>\n",
              "\n",
              "      <script>\n",
              "        const buttonEl =\n",
              "          document.querySelector('#df-8693cf6d-b399-46df-9994-7ac438d0d677 button.colab-df-convert');\n",
              "        buttonEl.style.display =\n",
              "          google.colab.kernel.accessAllowed ? 'block' : 'none';\n",
              "\n",
              "        async function convertToInteractive(key) {\n",
              "          const element = document.querySelector('#df-8693cf6d-b399-46df-9994-7ac438d0d677');\n",
              "          const dataTable =\n",
              "            await google.colab.kernel.invokeFunction('convertToInteractive',\n",
              "                                                     [key], {});\n",
              "          if (!dataTable) return;\n",
              "\n",
              "          const docLinkHtml = 'Like what you see? Visit the ' +\n",
              "            '<a target=\"_blank\" href=https://colab.research.google.com/notebooks/data_table.ipynb>data table notebook</a>'\n",
              "            + ' to learn more about interactive tables.';\n",
              "          element.innerHTML = '';\n",
              "          dataTable['output_type'] = 'display_data';\n",
              "          await google.colab.output.renderOutput(dataTable, element);\n",
              "          const docLink = document.createElement('div');\n",
              "          docLink.innerHTML = docLinkHtml;\n",
              "          element.appendChild(docLink);\n",
              "        }\n",
              "      </script>\n",
              "    </div>\n",
              "  </div>\n",
              "  "
            ]
          },
          "metadata": {},
          "execution_count": 12
        }
      ],
      "source": [
        "xtr=xtr_norm[['a','q','data_arc','n_obs_used','H','albedo','moid']]\n",
        "xtr['neo']=xtr_neo_encode.values\n",
        "xtr['pha']=xtr_pha_encode.values\n",
        "xtr.head(5)"
      ]
    },
    {
      "cell_type": "markdown",
      "metadata": {
        "id": "8a9vhRy8u3rJ"
      },
      "source": [
        "* Test Data"
      ]
    },
    {
      "cell_type": "code",
      "execution_count": 13,
      "metadata": {
        "colab": {
          "base_uri": "https://localhost:8080/",
          "height": 0
        },
        "id": "5glM7d_Fu5Uj",
        "outputId": "8d017ea9-11ed-4020-f12a-4332ea6d386b"
      },
      "outputs": [
        {
          "output_type": "execute_result",
          "data": {
            "text/plain": [
              "          a         q  data_arc  n_obs_used         H   albedo      moid  neo  \\\n",
              "0 -0.105408 -0.397108  5.067909    2.492866 -2.111580 -0.47066 -0.399530    0   \n",
              "1 -0.133678 -1.671668  5.466519    2.599415 -2.450558 -0.47066 -1.553292    0   \n",
              "2 -0.115431 -2.335321  4.968947    2.003084  0.148275 -0.47066 -2.375477    1   \n",
              "3 -0.375146 -1.079947  4.909473    2.618319 -0.981652 -0.47066 -1.129684    0   \n",
              "4 -0.351346 -1.164690  4.660362    1.717808 -0.981652 -0.47066 -1.214086    0   \n",
              "\n",
              "   pha  \n",
              "0    0  \n",
              "1    0  \n",
              "2    0  \n",
              "3    0  \n",
              "4    0  "
            ],
            "text/html": [
              "\n",
              "  <div id=\"df-9fb6daed-82f0-4898-a6ce-dd2245840742\">\n",
              "    <div class=\"colab-df-container\">\n",
              "      <div>\n",
              "<style scoped>\n",
              "    .dataframe tbody tr th:only-of-type {\n",
              "        vertical-align: middle;\n",
              "    }\n",
              "\n",
              "    .dataframe tbody tr th {\n",
              "        vertical-align: top;\n",
              "    }\n",
              "\n",
              "    .dataframe thead th {\n",
              "        text-align: right;\n",
              "    }\n",
              "</style>\n",
              "<table border=\"1\" class=\"dataframe\">\n",
              "  <thead>\n",
              "    <tr style=\"text-align: right;\">\n",
              "      <th></th>\n",
              "      <th>a</th>\n",
              "      <th>q</th>\n",
              "      <th>data_arc</th>\n",
              "      <th>n_obs_used</th>\n",
              "      <th>H</th>\n",
              "      <th>albedo</th>\n",
              "      <th>moid</th>\n",
              "      <th>neo</th>\n",
              "      <th>pha</th>\n",
              "    </tr>\n",
              "  </thead>\n",
              "  <tbody>\n",
              "    <tr>\n",
              "      <th>0</th>\n",
              "      <td>-0.105408</td>\n",
              "      <td>-0.397108</td>\n",
              "      <td>5.067909</td>\n",
              "      <td>2.492866</td>\n",
              "      <td>-2.111580</td>\n",
              "      <td>-0.47066</td>\n",
              "      <td>-0.399530</td>\n",
              "      <td>0</td>\n",
              "      <td>0</td>\n",
              "    </tr>\n",
              "    <tr>\n",
              "      <th>1</th>\n",
              "      <td>-0.133678</td>\n",
              "      <td>-1.671668</td>\n",
              "      <td>5.466519</td>\n",
              "      <td>2.599415</td>\n",
              "      <td>-2.450558</td>\n",
              "      <td>-0.47066</td>\n",
              "      <td>-1.553292</td>\n",
              "      <td>0</td>\n",
              "      <td>0</td>\n",
              "    </tr>\n",
              "    <tr>\n",
              "      <th>2</th>\n",
              "      <td>-0.115431</td>\n",
              "      <td>-2.335321</td>\n",
              "      <td>4.968947</td>\n",
              "      <td>2.003084</td>\n",
              "      <td>0.148275</td>\n",
              "      <td>-0.47066</td>\n",
              "      <td>-2.375477</td>\n",
              "      <td>1</td>\n",
              "      <td>0</td>\n",
              "    </tr>\n",
              "    <tr>\n",
              "      <th>3</th>\n",
              "      <td>-0.375146</td>\n",
              "      <td>-1.079947</td>\n",
              "      <td>4.909473</td>\n",
              "      <td>2.618319</td>\n",
              "      <td>-0.981652</td>\n",
              "      <td>-0.47066</td>\n",
              "      <td>-1.129684</td>\n",
              "      <td>0</td>\n",
              "      <td>0</td>\n",
              "    </tr>\n",
              "    <tr>\n",
              "      <th>4</th>\n",
              "      <td>-0.351346</td>\n",
              "      <td>-1.164690</td>\n",
              "      <td>4.660362</td>\n",
              "      <td>1.717808</td>\n",
              "      <td>-0.981652</td>\n",
              "      <td>-0.47066</td>\n",
              "      <td>-1.214086</td>\n",
              "      <td>0</td>\n",
              "      <td>0</td>\n",
              "    </tr>\n",
              "  </tbody>\n",
              "</table>\n",
              "</div>\n",
              "      <button class=\"colab-df-convert\" onclick=\"convertToInteractive('df-9fb6daed-82f0-4898-a6ce-dd2245840742')\"\n",
              "              title=\"Convert this dataframe to an interactive table.\"\n",
              "              style=\"display:none;\">\n",
              "        \n",
              "  <svg xmlns=\"http://www.w3.org/2000/svg\" height=\"24px\"viewBox=\"0 0 24 24\"\n",
              "       width=\"24px\">\n",
              "    <path d=\"M0 0h24v24H0V0z\" fill=\"none\"/>\n",
              "    <path d=\"M18.56 5.44l.94 2.06.94-2.06 2.06-.94-2.06-.94-.94-2.06-.94 2.06-2.06.94zm-11 1L8.5 8.5l.94-2.06 2.06-.94-2.06-.94L8.5 2.5l-.94 2.06-2.06.94zm10 10l.94 2.06.94-2.06 2.06-.94-2.06-.94-.94-2.06-.94 2.06-2.06.94z\"/><path d=\"M17.41 7.96l-1.37-1.37c-.4-.4-.92-.59-1.43-.59-.52 0-1.04.2-1.43.59L10.3 9.45l-7.72 7.72c-.78.78-.78 2.05 0 2.83L4 21.41c.39.39.9.59 1.41.59.51 0 1.02-.2 1.41-.59l7.78-7.78 2.81-2.81c.8-.78.8-2.07 0-2.86zM5.41 20L4 18.59l7.72-7.72 1.47 1.35L5.41 20z\"/>\n",
              "  </svg>\n",
              "      </button>\n",
              "      \n",
              "  <style>\n",
              "    .colab-df-container {\n",
              "      display:flex;\n",
              "      flex-wrap:wrap;\n",
              "      gap: 12px;\n",
              "    }\n",
              "\n",
              "    .colab-df-convert {\n",
              "      background-color: #E8F0FE;\n",
              "      border: none;\n",
              "      border-radius: 50%;\n",
              "      cursor: pointer;\n",
              "      display: none;\n",
              "      fill: #1967D2;\n",
              "      height: 32px;\n",
              "      padding: 0 0 0 0;\n",
              "      width: 32px;\n",
              "    }\n",
              "\n",
              "    .colab-df-convert:hover {\n",
              "      background-color: #E2EBFA;\n",
              "      box-shadow: 0px 1px 2px rgba(60, 64, 67, 0.3), 0px 1px 3px 1px rgba(60, 64, 67, 0.15);\n",
              "      fill: #174EA6;\n",
              "    }\n",
              "\n",
              "    [theme=dark] .colab-df-convert {\n",
              "      background-color: #3B4455;\n",
              "      fill: #D2E3FC;\n",
              "    }\n",
              "\n",
              "    [theme=dark] .colab-df-convert:hover {\n",
              "      background-color: #434B5C;\n",
              "      box-shadow: 0px 1px 3px 1px rgba(0, 0, 0, 0.15);\n",
              "      filter: drop-shadow(0px 1px 2px rgba(0, 0, 0, 0.3));\n",
              "      fill: #FFFFFF;\n",
              "    }\n",
              "  </style>\n",
              "\n",
              "      <script>\n",
              "        const buttonEl =\n",
              "          document.querySelector('#df-9fb6daed-82f0-4898-a6ce-dd2245840742 button.colab-df-convert');\n",
              "        buttonEl.style.display =\n",
              "          google.colab.kernel.accessAllowed ? 'block' : 'none';\n",
              "\n",
              "        async function convertToInteractive(key) {\n",
              "          const element = document.querySelector('#df-9fb6daed-82f0-4898-a6ce-dd2245840742');\n",
              "          const dataTable =\n",
              "            await google.colab.kernel.invokeFunction('convertToInteractive',\n",
              "                                                     [key], {});\n",
              "          if (!dataTable) return;\n",
              "\n",
              "          const docLinkHtml = 'Like what you see? Visit the ' +\n",
              "            '<a target=\"_blank\" href=https://colab.research.google.com/notebooks/data_table.ipynb>data table notebook</a>'\n",
              "            + ' to learn more about interactive tables.';\n",
              "          element.innerHTML = '';\n",
              "          dataTable['output_type'] = 'display_data';\n",
              "          await google.colab.output.renderOutput(dataTable, element);\n",
              "          const docLink = document.createElement('div');\n",
              "          docLink.innerHTML = docLinkHtml;\n",
              "          element.appendChild(docLink);\n",
              "        }\n",
              "      </script>\n",
              "    </div>\n",
              "  </div>\n",
              "  "
            ]
          },
          "metadata": {},
          "execution_count": 13
        }
      ],
      "source": [
        "xte=xte_norm[['a','q','data_arc','n_obs_used','H','albedo','moid']]\n",
        "xte['neo']=xte_neo_encode.values\n",
        "xte['pha']=xte_pha_encode.values\n",
        "xte.head(5)"
      ]
    },
    {
      "cell_type": "markdown",
      "metadata": {
        "id": "OpgT6AWSvYvv"
      },
      "source": [
        "#### Building Models"
      ]
    },
    {
      "cell_type": "markdown",
      "metadata": {
        "id": "tJ6OTcIgJxJC"
      },
      "source": [
        "### Using R Squared as performance metric for the problem"
      ]
    },
    {
      "cell_type": "markdown",
      "metadata": {
        "id": "SAil-CvHveW4"
      },
      "source": [
        "* Linear Regression"
      ]
    },
    {
      "cell_type": "code",
      "execution_count": 14,
      "metadata": {
        "colab": {
          "base_uri": "https://localhost:8080/"
        },
        "id": "3Cf08NZILd0U",
        "outputId": "8787d9b4-3431-4b08-dd89-f11268697772"
      },
      "outputs": [
        {
          "output_type": "stream",
          "name": "stderr",
          "text": [
            "/usr/local/lib/python3.7/dist-packages/statsmodels/tools/_testing.py:19: FutureWarning: pandas.util.testing is deprecated. Use the functions in the public API at pandas.testing instead.\n",
            "  import pandas.util.testing as tm\n"
          ]
        },
        {
          "output_type": "stream",
          "name": "stdout",
          "text": [
            "    variables         VIF\n",
            "0           a    1.160467\n",
            "1           q  217.798754\n",
            "2    data_arc    2.523042\n",
            "3  n_obs_used    5.915914\n",
            "4           H    6.203478\n",
            "5      albedo    1.364416\n",
            "6        moid  222.042839\n",
            "7         neo    1.859653\n",
            "8         pha    1.352095\n"
          ]
        }
      ],
      "source": [
        "# Assumptions of multicollinearity\n",
        "from statsmodels.stats.outliers_influence import variance_inflation_factor\n",
        "def calc_vif(X):\n",
        "\n",
        "    # Calculating VIF\n",
        "    vif = pd.DataFrame()\n",
        "    vif[\"variables\"] = X.columns\n",
        "    vif[\"VIF\"] = [variance_inflation_factor(X.values, i) for i in range(X.shape[1])]\n",
        "\n",
        "    return(vif)\n",
        "\n",
        "print(calc_vif(xtr))"
      ]
    },
    {
      "cell_type": "markdown",
      "metadata": {
        "id": "zylzDKIUOzvH"
      },
      "source": [
        "After looking at the above observation, it can be concluded that:\n",
        "1. ‘q’ and ‘moid’ have a high VIF value, meaning they can be predicted by other independent variables in the dataset.\n",
        "2. VIF is preferred as it can show the correlation of a variable with a group of other variables.\n",
        "3. We can drop higher correlated features."
      ]
    },
    {
      "cell_type": "code",
      "execution_count": 15,
      "metadata": {
        "id": "5gwW2b0hPw4Z"
      },
      "outputs": [],
      "source": [
        "xtr1=xtr.copy() # Will have highest correlated feature dropped\n",
        "xte1=xte.copy() # Will have highest correlated feature dropped"
      ]
    },
    {
      "cell_type": "markdown",
      "metadata": {
        "id": "FamHDj4WQljz"
      },
      "source": [
        "#### Training the model for dropped correlated feature"
      ]
    },
    {
      "cell_type": "code",
      "execution_count": 16,
      "metadata": {
        "id": "lOK5dMzyQOii"
      },
      "outputs": [],
      "source": [
        "xtr1.drop(columns=['moid'],axis=1,inplace=True)\n",
        "xte1.drop(columns=['moid'],axis=1,inplace=True)"
      ]
    },
    {
      "cell_type": "code",
      "execution_count": 17,
      "metadata": {
        "colab": {
          "base_uri": "https://localhost:8080/"
        },
        "id": "saGfDfKVQev0",
        "outputId": "e737806b-5d49-457b-ee4b-9ed68808dce2"
      },
      "outputs": [
        {
          "output_type": "stream",
          "name": "stdout",
          "text": [
            "    variables       VIF\n",
            "0           a  1.158789\n",
            "1           q  2.263614\n",
            "2    data_arc  2.511184\n",
            "3  n_obs_used  5.576538\n",
            "4           H  5.757707\n",
            "5      albedo  1.364138\n",
            "6         neo  1.453489\n",
            "7         pha  1.351712\n"
          ]
        }
      ],
      "source": [
        "print(calc_vif(xtr1))"
      ]
    },
    {
      "cell_type": "code",
      "source": [
        "xtr1,xcv1,ytr1,ycv1=train_test_split(xtr1,ytr,test_size=0.2)"
      ],
      "metadata": {
        "id": "VaywNxdziPUq"
      },
      "execution_count": 18,
      "outputs": []
    },
    {
      "cell_type": "code",
      "execution_count": 19,
      "metadata": {
        "id": "vRe7RX1PvX4M"
      },
      "outputs": [],
      "source": [
        "model=LinearRegression()\n",
        "model.fit(xtr1,ytr1)\n",
        "ypred=model.predict(xte1)"
      ]
    },
    {
      "cell_type": "code",
      "execution_count": 20,
      "metadata": {
        "colab": {
          "base_uri": "https://localhost:8080/"
        },
        "id": "dl3yMVGTwVu7",
        "outputId": "6f86cfc0-af62-4d32-cbd1-560db3e6d03b"
      },
      "outputs": [
        {
          "output_type": "stream",
          "name": "stdout",
          "text": [
            "R^2 of the train model is :  0.4328952103757191\n"
          ]
        }
      ],
      "source": [
        "print(\"R^2 of the train model is : \",model.score(xtr1,ytr1))"
      ]
    },
    {
      "cell_type": "markdown",
      "metadata": {
        "id": "yjqsNcHuxg7z"
      },
      "source": [
        "* Ridge Regression"
      ]
    },
    {
      "cell_type": "code",
      "execution_count": 21,
      "metadata": {
        "colab": {
          "base_uri": "https://localhost:8080/"
        },
        "id": "zB1KFFq9S90Q",
        "outputId": "7cdf6bc4-9ce5-4262-c43e-0a03e75a04ec"
      },
      "outputs": [
        {
          "output_type": "stream",
          "name": "stdout",
          "text": [
            "R Squared Error: 0.446\n",
            "Best Param: {'alpha': 10}\n"
          ]
        }
      ],
      "source": [
        "from numpy import arange\n",
        "from pandas import read_csv\n",
        "from sklearn.model_selection import GridSearchCV\n",
        "from sklearn.model_selection import RepeatedKFold\n",
        "from sklearn.linear_model import Ridge\n",
        "# load the dataset\n",
        "# define model\n",
        "model = Ridge()\n",
        "# define model evaluation method\n",
        "cv = RepeatedKFold(n_splits=10, n_repeats=3, random_state=1)\n",
        "# define grid\n",
        "grid = dict()\n",
        "grid['alpha'] = [0.001,0.01,0.1,1,10]\n",
        "# define search\n",
        "search = GridSearchCV(model, grid, scoring='r2', cv=cv, n_jobs=-1)\n",
        "# perform the search\n",
        "results = search.fit(xtr1, ytr1)\n",
        "# summarize\n",
        "print('R Squared Error: %.3f' % results.best_score_)\n",
        "print('Best Param: %s' % results.best_params_)"
      ]
    },
    {
      "cell_type": "markdown",
      "metadata": {
        "id": "LA589g2D5lq-"
      },
      "source": [
        "* Lasso Regression"
      ]
    },
    {
      "cell_type": "code",
      "execution_count": 22,
      "metadata": {
        "colab": {
          "base_uri": "https://localhost:8080/"
        },
        "id": "24IO3nvn5n7Z",
        "outputId": "1d0c7f1e-8144-46b7-a613-f21da5cb7ad0"
      },
      "outputs": [
        {
          "output_type": "stream",
          "name": "stdout",
          "text": [
            "R Squared : 0.446\n",
            "Best Params : {'alpha': 0.001}\n"
          ]
        }
      ],
      "source": [
        "# define model\n",
        "model = Lasso()\n",
        "# define model evaluation method\n",
        "cv = RepeatedKFold(n_splits=10, n_repeats=3, random_state=1)\n",
        "# define grid\n",
        "grid = dict()\n",
        "grid['alpha'] = [0.001,0.01,0.1,1,10]\n",
        "# define search\n",
        "search = GridSearchCV(model, grid, scoring='r2', cv=cv, n_jobs=-1)\n",
        "# perform the search\n",
        "results = search.fit(xtr1, ytr1)\n",
        "# summarize\n",
        "print('R Squared : %.3f' % results.best_score_)\n",
        "print('Best Params : %s' % results.best_params_)"
      ]
    },
    {
      "cell_type": "markdown",
      "metadata": {
        "id": "QR4KvIpr2WzL"
      },
      "source": [
        "* Elastic Net"
      ]
    },
    {
      "cell_type": "code",
      "execution_count": 23,
      "metadata": {
        "colab": {
          "base_uri": "https://localhost:8080/"
        },
        "id": "GWPiNPDQZZCV",
        "outputId": "251b60dd-657a-48de-fad4-1a27ba5bde63"
      },
      "outputs": [
        {
          "output_type": "stream",
          "name": "stdout",
          "text": [
            "R Squared : 0.446\n",
            "Best Params : {'alpha': 0.001, 'l1_ratio': 0.9, 'max_iter': 100}\n"
          ]
        }
      ],
      "source": [
        "# define model\n",
        "model = ElasticNet()\n",
        "# define model evaluation method\n",
        "cv = RepeatedKFold(n_splits=10, n_repeats=3, random_state=1)\n",
        "# define grid\n",
        "grid = dict()\n",
        "grid['alpha'] = [0.001,0.01,0.1,1,10]\n",
        "grid['max_iter']=[100,200]\n",
        "grid['l1_ratio']=arange(0, 1, 0.1)\n",
        "search = GridSearchCV(model, grid, scoring='r2', cv=cv, n_jobs=-1)\n",
        "# perform the search\n",
        "results = search.fit(xtr1, ytr1)\n",
        "# summarize\n",
        "print('R Squared : %.3f' % results.best_score_)\n",
        "print('Best Params : %s' % results.best_params_)"
      ]
    },
    {
      "cell_type": "markdown",
      "source": [
        "* Adaboost Regressor"
      ],
      "metadata": {
        "id": "mqHoVHJtmJTu"
      }
    },
    {
      "cell_type": "code",
      "source": [
        "# Splitting the dataset\n",
        "xtr,xcv,ytr,ycv=train_test_split(xtr,ytr,test_size=0.2)"
      ],
      "metadata": {
        "id": "Qo7IxNZ2kFfq"
      },
      "execution_count": 29,
      "outputs": []
    },
    {
      "cell_type": "code",
      "source": [
        "from sklearn.model_selection import RepeatedKFold,KFold,cross_val_score\n",
        "from sklearn.ensemble import AdaBoostRegressor\n",
        "ada=AdaBoostRegressor()\n",
        "# evaluate the model\n",
        "grid = dict()\n",
        "grid['n_estimators'] = [100, 250, 500]\n",
        "grid['learning_rate'] = [0.0001, 0.001]\n",
        "# define the grid search procedure\n",
        "grid_search = GridSearchCV(estimator=ada, param_grid=grid, n_jobs=-1, cv=10, scoring='r2',verbose=2)\n",
        "# execute the grid search\n",
        "grid_result = grid_search.fit(xtr, ytr)\n",
        "# summarize the best score and configuration\n",
        "print(\"Best: %f using %s\" % (grid_result.best_score_, grid_result.best_params_))"
      ],
      "metadata": {
        "colab": {
          "base_uri": "https://localhost:8080/"
        },
        "id": "uUpk69CrmLuP",
        "outputId": "2f71c280-b66e-4eb0-d25d-c91734389345"
      },
      "execution_count": 32,
      "outputs": [
        {
          "output_type": "stream",
          "name": "stdout",
          "text": [
            "Fitting 10 folds for each of 6 candidates, totalling 60 fits\n",
            "Best: 0.853050 using {'learning_rate': 0.001, 'n_estimators': 500}\n"
          ]
        }
      ]
    },
    {
      "cell_type": "markdown",
      "metadata": {
        "id": "FSbfbi3_-vyT"
      },
      "source": [
        "* Random Forest Regressor"
      ]
    },
    {
      "cell_type": "code",
      "execution_count": 31,
      "metadata": {
        "colab": {
          "base_uri": "https://localhost:8080/"
        },
        "id": "psn2TEs0-0cX",
        "outputId": "70deccb9-c7c9-4df9-a99f-9c0c19c54f83"
      },
      "outputs": [
        {
          "output_type": "stream",
          "name": "stdout",
          "text": [
            "Fitting 10 folds for each of 6 candidates, totalling 60 fits\n",
            "R Squared : 0.953\n",
            "Best Params : {'max_depth': 5, 'n_estimators': 100}\n"
          ]
        }
      ],
      "source": [
        "param_grid = {\n",
        "    'max_depth': [3,5],\n",
        "    'n_estimators': [100,250,500]\n",
        "}\n",
        "# Create a based model\n",
        "rf = RandomForestRegressor()\n",
        "# Instantiate the grid search model\n",
        "grid_search = GridSearchCV(estimator = rf,scoring=\"r2\", param_grid = param_grid, \n",
        "                          cv = 10 , n_jobs = -1, verbose = 2)\n",
        "\n",
        "# Fit the grid search to the data\n",
        "grid_search.fit(xtr,ytr)\n",
        "print('R Squared : %.3f' % grid_search.best_score_)\n",
        "print('Best Params : %s' % grid_search.best_params_)"
      ]
    },
    {
      "cell_type": "markdown",
      "source": [
        "#### XGBoost Regressor"
      ],
      "metadata": {
        "id": "1gn_KZ7hR5Dd"
      }
    },
    {
      "cell_type": "code",
      "execution_count": 30,
      "metadata": {
        "colab": {
          "base_uri": "https://localhost:8080/"
        },
        "id": "TSYy9QyuA7kp",
        "outputId": "4c0d01de-3516-4a23-c903-ad40331142d1"
      },
      "outputs": [
        {
          "output_type": "stream",
          "name": "stdout",
          "text": [
            "Fitting 10 folds for each of 6 candidates, totalling 60 fits\n",
            "[07:48:48] WARNING: /workspace/src/objective/regression_obj.cu:152: reg:linear is now deprecated in favor of reg:squarederror.\n",
            "R Squared : 0.963\n",
            "Best Params : {'max_depth': 3, 'n_estimators': 250}\n"
          ]
        }
      ],
      "source": [
        "param_grid = {\n",
        "    'max_depth': [3,5],\n",
        "    'n_estimators': [100,250,500]\n",
        "}\n",
        "# Create a based model\n",
        "xgb = XGBRegressor()\n",
        "# Instantiate the grid search model\n",
        "grid_search = GridSearchCV(estimator = xgb,scoring=\"r2\", param_grid = param_grid, \n",
        "                          cv = 10 , n_jobs = -1, verbose = 2)\n",
        "\n",
        "# Fit the grid search to the data\n",
        "grid_search.fit(xtr,ytr)\n",
        "print('R Squared : %.3f' % grid_search.best_score_)\n",
        "print('Best Params : %s' % grid_search.best_params_)"
      ]
    },
    {
      "cell_type": "markdown",
      "source": [
        "## Negative Mean Absolute Error\n",
        "\n",
        "* This is the negative value of mean absolute error.\n",
        "* The best value is 0.\n",
        "* Value closer to 0 indicates less error.\n",
        "* Value farther from 0 indicates higher error.   "
      ],
      "metadata": {
        "id": "Q_-0cOVmgNp0"
      }
    },
    {
      "cell_type": "markdown",
      "source": [
        "#### Ridge Regression"
      ],
      "metadata": {
        "id": "W_mDHxAi0tn2"
      }
    },
    {
      "cell_type": "code",
      "source": [
        "# define model\n",
        "model = Ridge()\n",
        "# define model evaluation method\n",
        "cv = RepeatedKFold(n_splits=10, n_repeats=3, random_state=1)\n",
        "# define grid\n",
        "grid = dict()\n",
        "grid['alpha'] = [0.001,0.01,0.1,1,10]\n",
        "# define search\n",
        "search = GridSearchCV(model, grid, scoring='neg_mean_absolute_error',cv=cv, n_jobs=-1)\n",
        "# perform the search\n",
        "results = search.fit(xtr1, ytr1)\n",
        "# summarize\n",
        "print('Negative Mean Absolute Error: %.3f' % results.best_score_)\n",
        "print('Best Param: %s' % results.best_params_)"
      ],
      "metadata": {
        "colab": {
          "base_uri": "https://localhost:8080/"
        },
        "id": "gkpwhDJ9lwVv",
        "outputId": "dac80203-2f06-46b1-da82-315a2135ace1"
      },
      "execution_count": 24,
      "outputs": [
        {
          "output_type": "stream",
          "name": "stdout",
          "text": [
            "Negative Mean Absolute Error: -2.688\n",
            "Best Param: {'alpha': 10}\n"
          ]
        }
      ]
    },
    {
      "cell_type": "markdown",
      "source": [
        "#### Lasso Regression"
      ],
      "metadata": {
        "id": "zFewmW510x4_"
      }
    },
    {
      "cell_type": "code",
      "source": [
        "# define model\n",
        "model = Lasso()\n",
        "# define model evaluation method\n",
        "cv = RepeatedKFold(n_splits=10, n_repeats=3, random_state=1)\n",
        "# define grid\n",
        "grid = dict()\n",
        "grid['alpha'] = [0.001,0.01,0.1,1,10]\n",
        "# define search\n",
        "search = GridSearchCV(model, grid, scoring='neg_mean_absolute_error',cv=cv, n_jobs=-1)\n",
        "# perform the search\n",
        "results = search.fit(xtr1, ytr1)\n",
        "# summarize\n",
        "print('Negative Mean Absolute Error: %.3f' % results.best_score_)\n",
        "print('Best Param: %s' % results.best_params_)"
      ],
      "metadata": {
        "colab": {
          "base_uri": "https://localhost:8080/"
        },
        "id": "EQK_67hTnljU",
        "outputId": "5fd11cd1-2ee4-41d8-8fe3-5be1101573d5"
      },
      "execution_count": 25,
      "outputs": [
        {
          "output_type": "stream",
          "name": "stdout",
          "text": [
            "Negative Mean Absolute Error: -2.146\n",
            "Best Param: {'alpha': 1}\n"
          ]
        }
      ]
    },
    {
      "cell_type": "markdown",
      "source": [
        "#### ElasticNet Regression"
      ],
      "metadata": {
        "id": "FswNFuQh02us"
      }
    },
    {
      "cell_type": "code",
      "source": [
        "# define model\n",
        "model = ElasticNet()\n",
        "# define model evaluation method\n",
        "cv = RepeatedKFold(n_splits=10, n_repeats=3, random_state=1)\n",
        "# define grid\n",
        "grid = dict()\n",
        "grid['alpha'] = [0.001,0.01,0.1,1,10]\n",
        "grid['max_iter']=[100,200]\n",
        "grid['l1_ratio']=arange(0, 1, 0.1)\n",
        "search = GridSearchCV(model, grid, scoring='neg_mean_absolute_error', cv=cv, n_jobs=-1)\n",
        "# perform the search\n",
        "results = search.fit(xtr1, ytr1)\n",
        "# summarize\n",
        "print('R Squared : %.3f' % results.best_score_)\n",
        "print('Best Params : %s' % results.best_params_)"
      ],
      "metadata": {
        "colab": {
          "base_uri": "https://localhost:8080/"
        },
        "id": "cczB7rH-mtUv",
        "outputId": "7b16f8b7-c476-4354-d488-75ce3962c72b"
      },
      "execution_count": 27,
      "outputs": [
        {
          "output_type": "stream",
          "name": "stdout",
          "text": [
            "R Squared : -1.983\n",
            "Best Params : {'alpha': 1, 'l1_ratio': 0.0, 'max_iter': 100}\n"
          ]
        },
        {
          "output_type": "stream",
          "name": "stderr",
          "text": [
            "/usr/local/lib/python3.7/dist-packages/sklearn/linear_model/_coordinate_descent.py:648: ConvergenceWarning: Objective did not converge. You might want to increase the number of iterations, check the scale of the features or consider increasing regularisation. Duality gap: 3.714e+06, tolerance: 1.019e+03 Linear regression models with null weight for the l1 regularization term are more efficiently fitted using one of the solvers implemented in sklearn.linear_model.Ridge/RidgeCV instead.\n",
            "  coef_, l1_reg, l2_reg, X, y, max_iter, tol, rng, random, positive\n"
          ]
        }
      ]
    },
    {
      "cell_type": "markdown",
      "source": [
        "#### AdaBoost Regressor"
      ],
      "metadata": {
        "id": "FiByguxI0pgZ"
      }
    },
    {
      "cell_type": "code",
      "source": [
        "from sklearn.model_selection import RepeatedKFold,KFold,cross_val_score\n",
        "from sklearn.ensemble import AdaBoostRegressor\n",
        "ada=AdaBoostRegressor()\n",
        "# evaluate the model\n",
        "grid = dict()\n",
        "grid['n_estimators'] = [100, 250, 500]\n",
        "grid['learning_rate'] = [0.0001, 0.001]\n",
        "# define the grid search procedure\n",
        "grid_search = GridSearchCV(estimator=ada, param_grid=grid, n_jobs=-1, cv=10, scoring='neg_mean_absolute_error',verbose=2)\n",
        "# execute the grid search\n",
        "grid_result = grid_search.fit(xtr, ytr)\n",
        "# summarize the best score and configuration\n",
        "print(\"Best: %f using %s\" % (grid_result.best_score_, grid_result.best_params_))"
      ],
      "metadata": {
        "colab": {
          "base_uri": "https://localhost:8080/"
        },
        "outputId": "41af8eab-3307-4ad7-c963-4b305ac25d8f",
        "id": "KSxm9yxn0uZq"
      },
      "execution_count": null,
      "outputs": [
        {
          "output_type": "stream",
          "name": "stdout",
          "text": [
            "Fitting 10 folds for each of 6 candidates, totalling 60 fits\n",
            "Best: -1.803316 using {'learning_rate': 0.0001, 'n_estimators': 250}\n"
          ]
        }
      ]
    },
    {
      "cell_type": "markdown",
      "source": [
        "#### Random Forest Regressor"
      ],
      "metadata": {
        "id": "dswUR-1J0k9t"
      }
    },
    {
      "cell_type": "code",
      "source": [
        "param_grid = {\n",
        "    'max_depth': [3,5],\n",
        "    'n_estimators': [100,250,500]\n",
        "}\n",
        "# Create a based model\n",
        "rf = RandomForestRegressor()\n",
        "# Instantiate the grid search model\n",
        "grid_search = GridSearchCV(estimator = rf,scoring=\"neg_mean_absolute_error\", param_grid = param_grid, \n",
        "                          cv = 10 , n_jobs = -1, verbose = 2)\n",
        "\n",
        "# Fit the grid search to the data\n",
        "grid_search.fit(xtr,ytr)\n",
        "print('R Squared : %.3f' % grid_search.best_score_)\n",
        "print('Best Params : %s' % grid_search.best_params_)"
      ],
      "metadata": {
        "colab": {
          "base_uri": "https://localhost:8080/"
        },
        "outputId": "eccb7021-bc41-484a-dc27-8e0dca5f374b",
        "id": "2fKYa0gY08d0"
      },
      "execution_count": null,
      "outputs": [
        {
          "output_type": "stream",
          "name": "stdout",
          "text": [
            "Fitting 10 folds for each of 6 candidates, totalling 60 fits\n",
            "R Squared : -0.914\n",
            "Best Params : {'max_depth': 5, 'n_estimators': 500}\n"
          ]
        }
      ]
    },
    {
      "cell_type": "markdown",
      "source": [
        "#### XGBoost Regressor"
      ],
      "metadata": {
        "id": "tyrhes-I0it0"
      }
    },
    {
      "cell_type": "code",
      "source": [
        "param_grid = {\n",
        "    'max_depth': [3,5],\n",
        "    'n_estimators': [100,250,500]\n",
        "}\n",
        "# Create a based model\n",
        "xgb = XGBRegressor()\n",
        "# Instantiate the grid search model\n",
        "grid_search = GridSearchCV(estimator = xgb,scoring=\"neg_mean_absolute_error\", param_grid = param_grid, \n",
        "                          cv = 10 , n_jobs = -1, verbose = 2)\n",
        "\n",
        "# Fit the grid search to the data\n",
        "grid_search.fit(xtr,ytr)\n",
        "print('R Squared : %.3f' % grid_search.best_score_)\n",
        "print('Best Params : %s' % grid_search.best_params_)"
      ],
      "metadata": {
        "colab": {
          "base_uri": "https://localhost:8080/"
        },
        "outputId": "4ed17b0d-13db-45eb-ad26-48e63bdc8b33",
        "id": "oqDLrbCs1Gig"
      },
      "execution_count": null,
      "outputs": [
        {
          "output_type": "stream",
          "name": "stdout",
          "text": [
            "Fitting 10 folds for each of 6 candidates, totalling 60 fits\n",
            "[07:51:21] WARNING: /workspace/src/objective/regression_obj.cu:152: reg:linear is now deprecated in favor of reg:squarederror.\n",
            "R Squared : -0.405\n",
            "Best Params : {'max_depth': 5, 'n_estimators': 500}\n"
          ]
        }
      ]
    },
    {
      "cell_type": "markdown",
      "source": [
        "### Pretty Table Observations"
      ],
      "metadata": {
        "id": "tddvAMjF7qM7"
      }
    },
    {
      "cell_type": "markdown",
      "source": [
        "#### For R Squared Error"
      ],
      "metadata": {
        "id": "BEGeYPy1CYt8"
      }
    },
    {
      "cell_type": "code",
      "source": [
        "from prettytable import PrettyTable\n",
        "tab = PrettyTable([\"Sr No\", \"Model\", \"Best Hyperparameters\", \"Best Score(R Squared)\"])\n",
        "# Add rows\n",
        "tab.add_row([\"1.\", \"Linear Regression\", \"-\", \"0.4329\"])\n",
        "tab.add_row([\"2.\", \"Ridge Regression\", \"{'alpha' : 10}\", \"0.446\"])\n",
        "tab.add_row([\"3.\", \"Lasso Regression\", \"{'alpha' : 0.001}\", \"0.446\"])\n",
        "tab.add_row([\"4.\", \"ElasticNet Regression\", \"{'alpha' : 0.001,'l1_ratio': 0.9, 'max_iter': 100}\", \"0.446\"])\n",
        "tab.add_row([\"5.\",\"Adaboost Regressor\",\"{'learning_rate': 0.0001, 'n_estimators': 250}\",\"0.853\"])\n",
        "tab.add_row([\"6.\",\"Random Forest Regressor\",\"{'max_depth': 5, 'n_estimators': 100}\",\"0.953\"])\n",
        "tab.add_row([\"7.\",\"XGBoost Regressor\",\"{'max_depth': 3, 'n_estimators': 250}\",\"0.963\"])\n",
        "print(tab)"
      ],
      "metadata": {
        "colab": {
          "base_uri": "https://localhost:8080/"
        },
        "id": "WpQtLS5f7onu",
        "outputId": "c2fa2cf6-f24f-4ed1-9b73-b43540b29cce"
      },
      "execution_count": 33,
      "outputs": [
        {
          "output_type": "stream",
          "name": "stdout",
          "text": [
            "+-------+-------------------------+----------------------------------------------------+-----------------------+\n",
            "| Sr No |          Model          |                Best Hyperparameters                | Best Score(R Squared) |\n",
            "+-------+-------------------------+----------------------------------------------------+-----------------------+\n",
            "|   1.  |    Linear Regression    |                         -                          |         0.4329        |\n",
            "|   2.  |     Ridge Regression    |                   {'alpha' : 10}                   |         0.446         |\n",
            "|   3.  |     Lasso Regression    |                 {'alpha' : 0.001}                  |         0.446         |\n",
            "|   4.  |  ElasticNet Regression  | {'alpha' : 0.001,'l1_ratio': 0.9, 'max_iter': 100} |         0.446         |\n",
            "|   5.  |    Adaboost Regressor   |   {'learning_rate': 0.0001, 'n_estimators': 250}   |         0.853         |\n",
            "|   6.  | Random Forest Regressor |       {'max_depth': 5, 'n_estimators': 100}        |         0.953         |\n",
            "|   7.  |    XGBoost Regressor    |       {'max_depth': 3, 'n_estimators': 250}        |         0.963         |\n",
            "+-------+-------------------------+----------------------------------------------------+-----------------------+\n"
          ]
        }
      ]
    },
    {
      "cell_type": "markdown",
      "source": [
        "#### Negative Mean Absolute Error"
      ],
      "metadata": {
        "id": "kW75hTRFDaAe"
      }
    },
    {
      "cell_type": "code",
      "source": [
        "from prettytable import PrettyTable\n",
        "tab = PrettyTable([\"Sr No\", \"Model\", \"Best Hyperparameters\", \"Negative Mean Absolute Error\"])\n",
        "# Add rows\n",
        "tab.add_row([\"1.\", \"Linear Regression\", \"-\", \"-\"])\n",
        "tab.add_row([\"2.\", \"Ridge Regression\", \"{'alpha' : 10}\", \"-2.688\"])\n",
        "tab.add_row([\"3.\", \"Lasso Regression\", \"{'alpha' : 1}\", \"-2.146\"])\n",
        "tab.add_row([\"4.\", \"ElasticNet Regression\", \"{'alpha': 1, 'l1_ratio': 0.0, 'max_iter': 100}\", \"-1.983\"])\n",
        "tab.add_row([\"5.\",\"Adaboost Regressor\",\"{'learning_rate': 0.0001, 'n_estimators': 250}\",\"-1.803\"])\n",
        "tab.add_row([\"6.\",\"Random Forest Regressor\",\"{'max_depth': 5, 'n_estimators': 500}\",\"-0.914\"])\n",
        "tab.add_row([\"7.\",\"XGBoost Regressor\",\"{'max_depth': 5, 'n_estimators': 500}\",\"-0.405\"])\n",
        "print(tab)"
      ],
      "metadata": {
        "id": "q42EMALrDcka",
        "colab": {
          "base_uri": "https://localhost:8080/"
        },
        "outputId": "66222e35-e3c0-4358-9ec5-a2e4bd720d3a"
      },
      "execution_count": 34,
      "outputs": [
        {
          "output_type": "stream",
          "name": "stdout",
          "text": [
            "+-------+-------------------------+------------------------------------------------+------------------------------+\n",
            "| Sr No |          Model          |              Best Hyperparameters              | Negative Mean Absolute Error |\n",
            "+-------+-------------------------+------------------------------------------------+------------------------------+\n",
            "|   1.  |    Linear Regression    |                       -                        |              -               |\n",
            "|   2.  |     Ridge Regression    |                 {'alpha' : 10}                 |            -2.688            |\n",
            "|   3.  |     Lasso Regression    |                 {'alpha' : 1}                  |            -2.146            |\n",
            "|   4.  |  ElasticNet Regression  | {'alpha': 1, 'l1_ratio': 0.0, 'max_iter': 100} |            -1.983            |\n",
            "|   5.  |    Adaboost Regressor   | {'learning_rate': 0.0001, 'n_estimators': 250} |            -1.803            |\n",
            "|   6.  | Random Forest Regressor |     {'max_depth': 5, 'n_estimators': 500}      |            -0.914            |\n",
            "|   7.  |    XGBoost Regressor    |     {'max_depth': 5, 'n_estimators': 500}      |            -0.405            |\n",
            "+-------+-------------------------+------------------------------------------------+------------------------------+\n"
          ]
        }
      ]
    },
    {
      "cell_type": "markdown",
      "metadata": {
        "id": "s6aQ9UUwmKsN"
      },
      "source": [
        "### Conclusion:\n",
        "\n",
        "<b>For R squared:</b>\n",
        "1. After lots of model training, It can be observed that XGBoost Regressor performs best out of all models.\n",
        "\n",
        "2. Lasso, Ridge and Elastic Net Regression has almost similar performance.\n",
        "\n",
        "3. Out of all Models, Linear Regression performs poorly.\n",
        "\n",
        "4. R^2 Error is taken as performance metric in this regression problem.\n",
        "\n",
        "5. All of the ensembles perform very well.\n",
        "\n",
        "6. Higher values of R-square determines the less difference between the predicted values and actual values and hence represents a good model.\n",
        "\n",
        "\n",
        "\n",
        "<b> For Negative Mean Absolute Error : </b>\n",
        "\n",
        "1. After lots of model training, It can be observed that XGBoost Regressor performs best in terms of negative mean absolute error out of all models.\n",
        "\n",
        "2. Lasso Performs better than Ridge whereas ElasticNet gives out the best performance out of all Linear Regression models.\n",
        "\n",
        "3. Negative Mean Absolute Error is taken as performance metric in this regression problem.\n",
        "\n",
        "4. All of the ensembles perform very well.\n",
        "\n",
        "5. Higher values of Negative Mean Absolute Error determines the less difference between the predicted values and actual values and hence represents a good model.\n"
      ]
    }
  ],
  "metadata": {
    "colab": {
      "name": "Asteroid_FE_and_Model_building.ipynb",
      "provenance": []
    },
    "gpuClass": "standard",
    "kernelspec": {
      "display_name": "Python 3",
      "name": "python3"
    },
    "language_info": {
      "name": "python"
    }
  },
  "nbformat": 4,
  "nbformat_minor": 0
}