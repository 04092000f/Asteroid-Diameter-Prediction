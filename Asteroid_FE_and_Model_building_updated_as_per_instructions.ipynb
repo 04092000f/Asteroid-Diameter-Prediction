{
  "cells": [
    {
      "cell_type": "code",
      "source": [
        "!pip install xgboost==1.5.2"
      ],
      "metadata": {
        "colab": {
          "base_uri": "https://localhost:8080/"
        },
        "id": "3hrusHm0I3gj",
        "outputId": "ae62275a-4b4c-413c-d1a2-9f3ba8effce5"
      },
      "execution_count": 1,
      "outputs": [
        {
          "output_type": "stream",
          "name": "stdout",
          "text": [
            "Looking in indexes: https://pypi.org/simple, https://us-python.pkg.dev/colab-wheels/public/simple/\n",
            "Collecting xgboost==1.5.2\n",
            "  Downloading xgboost-1.5.2-py3-none-manylinux2014_x86_64.whl (173.6 MB)\n",
            "\u001b[K     |████████████████████████████████| 173.6 MB 8.9 kB/s \n",
            "\u001b[?25hRequirement already satisfied: scipy in /usr/local/lib/python3.7/dist-packages (from xgboost==1.5.2) (1.7.3)\n",
            "Requirement already satisfied: numpy in /usr/local/lib/python3.7/dist-packages (from xgboost==1.5.2) (1.21.6)\n",
            "Installing collected packages: xgboost\n",
            "  Attempting uninstall: xgboost\n",
            "    Found existing installation: xgboost 0.90\n",
            "    Uninstalling xgboost-0.90:\n",
            "      Successfully uninstalled xgboost-0.90\n",
            "Successfully installed xgboost-1.5.2\n"
          ]
        }
      ]
    },
    {
      "cell_type": "code",
      "execution_count": 2,
      "metadata": {
        "id": "Ssg_N4spewkQ"
      },
      "outputs": [],
      "source": [
        "import pandas as pd \n",
        "import numpy as np\n",
        "import seaborn as sb\n",
        "from scipy import stats\n",
        "import matplotlib.pyplot as plt\n",
        "from sklearn.metrics import mean_absolute_error\n",
        "import math\n",
        "from xgboost import XGBRegressor,XGBClassifier\n",
        "from sklearn.model_selection import train_test_split,GridSearchCV\n",
        "from sklearn.linear_model import LinearRegression, Ridge, Lasso, ElasticNet\n",
        "from scipy.sparse import hstack\n",
        "from sklearn.preprocessing import StandardScaler\n",
        "from sklearn.ensemble import RandomForestRegressor,RandomForestClassifier\n",
        "from sklearn.inspection import permutation_importance\n",
        "from sklearn.feature_selection import SelectKBest\n",
        "from sklearn.feature_selection import chi2"
      ]
    },
    {
      "cell_type": "code",
      "execution_count": 3,
      "metadata": {
        "colab": {
          "base_uri": "https://localhost:8080/"
        },
        "id": "IdUVlS3zflOa",
        "outputId": "2fab208b-128f-4f04-a26c-c65090d89df7"
      },
      "outputs": [
        {
          "output_type": "stream",
          "name": "stdout",
          "text": [
            "/usr/local/lib/python3.7/dist-packages/gdown/cli.py:131: FutureWarning: Option `--id` was deprecated in version 4.3.1 and will be removed in 5.0. You don't need to pass it anymore to use a file ID.\n",
            "  category=FutureWarning,\n",
            "Downloading...\n",
            "From: https://drive.google.com/uc?id=1-afEh_SyLdQh1tFH3mlcCgXLPj4FWSKm\n",
            "To: /content/Cleaned_Asteroid.csv\n",
            "100% 174M/174M [00:02<00:00, 80.1MB/s]\n"
          ]
        }
      ],
      "source": [
        "# Already have asteroid dataset in drive. Downloading it from drive\n",
        "!gdown --id 1-afEh_SyLdQh1tFH3mlcCgXLPj4FWSKm"
      ]
    },
    {
      "cell_type": "code",
      "execution_count": 4,
      "metadata": {
        "id": "XRsHooSGfAG1"
      },
      "outputs": [],
      "source": [
        "df=pd.read_csv(\"Cleaned_Asteroid.csv\")"
      ]
    },
    {
      "cell_type": "code",
      "execution_count": 5,
      "metadata": {
        "colab": {
          "base_uri": "https://localhost:8080/",
          "height": 322
        },
        "id": "40C2n9UHgBgs",
        "outputId": "3a6f5d27-6566-4059-8d1a-c737df961e12"
      },
      "outputs": [
        {
          "output_type": "execute_result",
          "data": {
            "text/plain": [
              "        full_name         a         e          i          om           w  \\\n",
              "0         1 Ceres  2.769165  0.076009  10.594067   80.305532   73.597694   \n",
              "1        2 Pallas  2.772466  0.230337  34.836234  173.080063  310.048857   \n",
              "2          3 Juno  2.669150  0.256942  12.988919  169.852760  248.138626   \n",
              "3         4 Vesta  2.361418  0.088721   7.141771  103.810804  150.728541   \n",
              "4       5 Astraea  2.574249  0.191095   5.366988  141.576604  358.687608   \n",
              "\n",
              "          q        ad     per_y  data_arc  condition_code  n_obs_used     H  \\\n",
              "0  2.558684  2.979647  4.608202    8822.0               0        1002  3.34   \n",
              "1  2.133865  3.411067  4.616444   72318.0               0        8490  4.13   \n",
              "2  1.983332  3.354967  4.360814   72684.0               0        7104  5.33   \n",
              "3  2.151909  2.570926  3.628837   24288.0               0        9325  3.20   \n",
              "4  2.082324  3.066174  4.130323   63431.0               0        2861  6.85   \n",
              "\n",
              "   diameter  albedo neo pha     moid    diam_bin  \n",
              "0   939.400  0.0900   N   N  1.59478  Very Large  \n",
              "1   545.000  0.1010   N   N  1.23324  Very Large  \n",
              "2   246.596  0.2140   N   N  1.03454       Large  \n",
              "3   525.400  0.4228   N   N  1.13948  Very Large  \n",
              "4   106.699  0.2740   N   N  1.09589       Large  "
            ],
            "text/html": [
              "\n",
              "  <div id=\"df-1d700564-b349-4cba-b8ae-c076aa825d03\">\n",
              "    <div class=\"colab-df-container\">\n",
              "      <div>\n",
              "<style scoped>\n",
              "    .dataframe tbody tr th:only-of-type {\n",
              "        vertical-align: middle;\n",
              "    }\n",
              "\n",
              "    .dataframe tbody tr th {\n",
              "        vertical-align: top;\n",
              "    }\n",
              "\n",
              "    .dataframe thead th {\n",
              "        text-align: right;\n",
              "    }\n",
              "</style>\n",
              "<table border=\"1\" class=\"dataframe\">\n",
              "  <thead>\n",
              "    <tr style=\"text-align: right;\">\n",
              "      <th></th>\n",
              "      <th>full_name</th>\n",
              "      <th>a</th>\n",
              "      <th>e</th>\n",
              "      <th>i</th>\n",
              "      <th>om</th>\n",
              "      <th>w</th>\n",
              "      <th>q</th>\n",
              "      <th>ad</th>\n",
              "      <th>per_y</th>\n",
              "      <th>data_arc</th>\n",
              "      <th>condition_code</th>\n",
              "      <th>n_obs_used</th>\n",
              "      <th>H</th>\n",
              "      <th>diameter</th>\n",
              "      <th>albedo</th>\n",
              "      <th>neo</th>\n",
              "      <th>pha</th>\n",
              "      <th>moid</th>\n",
              "      <th>diam_bin</th>\n",
              "    </tr>\n",
              "  </thead>\n",
              "  <tbody>\n",
              "    <tr>\n",
              "      <th>0</th>\n",
              "      <td>1 Ceres</td>\n",
              "      <td>2.769165</td>\n",
              "      <td>0.076009</td>\n",
              "      <td>10.594067</td>\n",
              "      <td>80.305532</td>\n",
              "      <td>73.597694</td>\n",
              "      <td>2.558684</td>\n",
              "      <td>2.979647</td>\n",
              "      <td>4.608202</td>\n",
              "      <td>8822.0</td>\n",
              "      <td>0</td>\n",
              "      <td>1002</td>\n",
              "      <td>3.34</td>\n",
              "      <td>939.400</td>\n",
              "      <td>0.0900</td>\n",
              "      <td>N</td>\n",
              "      <td>N</td>\n",
              "      <td>1.59478</td>\n",
              "      <td>Very Large</td>\n",
              "    </tr>\n",
              "    <tr>\n",
              "      <th>1</th>\n",
              "      <td>2 Pallas</td>\n",
              "      <td>2.772466</td>\n",
              "      <td>0.230337</td>\n",
              "      <td>34.836234</td>\n",
              "      <td>173.080063</td>\n",
              "      <td>310.048857</td>\n",
              "      <td>2.133865</td>\n",
              "      <td>3.411067</td>\n",
              "      <td>4.616444</td>\n",
              "      <td>72318.0</td>\n",
              "      <td>0</td>\n",
              "      <td>8490</td>\n",
              "      <td>4.13</td>\n",
              "      <td>545.000</td>\n",
              "      <td>0.1010</td>\n",
              "      <td>N</td>\n",
              "      <td>N</td>\n",
              "      <td>1.23324</td>\n",
              "      <td>Very Large</td>\n",
              "    </tr>\n",
              "    <tr>\n",
              "      <th>2</th>\n",
              "      <td>3 Juno</td>\n",
              "      <td>2.669150</td>\n",
              "      <td>0.256942</td>\n",
              "      <td>12.988919</td>\n",
              "      <td>169.852760</td>\n",
              "      <td>248.138626</td>\n",
              "      <td>1.983332</td>\n",
              "      <td>3.354967</td>\n",
              "      <td>4.360814</td>\n",
              "      <td>72684.0</td>\n",
              "      <td>0</td>\n",
              "      <td>7104</td>\n",
              "      <td>5.33</td>\n",
              "      <td>246.596</td>\n",
              "      <td>0.2140</td>\n",
              "      <td>N</td>\n",
              "      <td>N</td>\n",
              "      <td>1.03454</td>\n",
              "      <td>Large</td>\n",
              "    </tr>\n",
              "    <tr>\n",
              "      <th>3</th>\n",
              "      <td>4 Vesta</td>\n",
              "      <td>2.361418</td>\n",
              "      <td>0.088721</td>\n",
              "      <td>7.141771</td>\n",
              "      <td>103.810804</td>\n",
              "      <td>150.728541</td>\n",
              "      <td>2.151909</td>\n",
              "      <td>2.570926</td>\n",
              "      <td>3.628837</td>\n",
              "      <td>24288.0</td>\n",
              "      <td>0</td>\n",
              "      <td>9325</td>\n",
              "      <td>3.20</td>\n",
              "      <td>525.400</td>\n",
              "      <td>0.4228</td>\n",
              "      <td>N</td>\n",
              "      <td>N</td>\n",
              "      <td>1.13948</td>\n",
              "      <td>Very Large</td>\n",
              "    </tr>\n",
              "    <tr>\n",
              "      <th>4</th>\n",
              "      <td>5 Astraea</td>\n",
              "      <td>2.574249</td>\n",
              "      <td>0.191095</td>\n",
              "      <td>5.366988</td>\n",
              "      <td>141.576604</td>\n",
              "      <td>358.687608</td>\n",
              "      <td>2.082324</td>\n",
              "      <td>3.066174</td>\n",
              "      <td>4.130323</td>\n",
              "      <td>63431.0</td>\n",
              "      <td>0</td>\n",
              "      <td>2861</td>\n",
              "      <td>6.85</td>\n",
              "      <td>106.699</td>\n",
              "      <td>0.2740</td>\n",
              "      <td>N</td>\n",
              "      <td>N</td>\n",
              "      <td>1.09589</td>\n",
              "      <td>Large</td>\n",
              "    </tr>\n",
              "  </tbody>\n",
              "</table>\n",
              "</div>\n",
              "      <button class=\"colab-df-convert\" onclick=\"convertToInteractive('df-1d700564-b349-4cba-b8ae-c076aa825d03')\"\n",
              "              title=\"Convert this dataframe to an interactive table.\"\n",
              "              style=\"display:none;\">\n",
              "        \n",
              "  <svg xmlns=\"http://www.w3.org/2000/svg\" height=\"24px\"viewBox=\"0 0 24 24\"\n",
              "       width=\"24px\">\n",
              "    <path d=\"M0 0h24v24H0V0z\" fill=\"none\"/>\n",
              "    <path d=\"M18.56 5.44l.94 2.06.94-2.06 2.06-.94-2.06-.94-.94-2.06-.94 2.06-2.06.94zm-11 1L8.5 8.5l.94-2.06 2.06-.94-2.06-.94L8.5 2.5l-.94 2.06-2.06.94zm10 10l.94 2.06.94-2.06 2.06-.94-2.06-.94-.94-2.06-.94 2.06-2.06.94z\"/><path d=\"M17.41 7.96l-1.37-1.37c-.4-.4-.92-.59-1.43-.59-.52 0-1.04.2-1.43.59L10.3 9.45l-7.72 7.72c-.78.78-.78 2.05 0 2.83L4 21.41c.39.39.9.59 1.41.59.51 0 1.02-.2 1.41-.59l7.78-7.78 2.81-2.81c.8-.78.8-2.07 0-2.86zM5.41 20L4 18.59l7.72-7.72 1.47 1.35L5.41 20z\"/>\n",
              "  </svg>\n",
              "      </button>\n",
              "      \n",
              "  <style>\n",
              "    .colab-df-container {\n",
              "      display:flex;\n",
              "      flex-wrap:wrap;\n",
              "      gap: 12px;\n",
              "    }\n",
              "\n",
              "    .colab-df-convert {\n",
              "      background-color: #E8F0FE;\n",
              "      border: none;\n",
              "      border-radius: 50%;\n",
              "      cursor: pointer;\n",
              "      display: none;\n",
              "      fill: #1967D2;\n",
              "      height: 32px;\n",
              "      padding: 0 0 0 0;\n",
              "      width: 32px;\n",
              "    }\n",
              "\n",
              "    .colab-df-convert:hover {\n",
              "      background-color: #E2EBFA;\n",
              "      box-shadow: 0px 1px 2px rgba(60, 64, 67, 0.3), 0px 1px 3px 1px rgba(60, 64, 67, 0.15);\n",
              "      fill: #174EA6;\n",
              "    }\n",
              "\n",
              "    [theme=dark] .colab-df-convert {\n",
              "      background-color: #3B4455;\n",
              "      fill: #D2E3FC;\n",
              "    }\n",
              "\n",
              "    [theme=dark] .colab-df-convert:hover {\n",
              "      background-color: #434B5C;\n",
              "      box-shadow: 0px 1px 3px 1px rgba(0, 0, 0, 0.15);\n",
              "      filter: drop-shadow(0px 1px 2px rgba(0, 0, 0, 0.3));\n",
              "      fill: #FFFFFF;\n",
              "    }\n",
              "  </style>\n",
              "\n",
              "      <script>\n",
              "        const buttonEl =\n",
              "          document.querySelector('#df-1d700564-b349-4cba-b8ae-c076aa825d03 button.colab-df-convert');\n",
              "        buttonEl.style.display =\n",
              "          google.colab.kernel.accessAllowed ? 'block' : 'none';\n",
              "\n",
              "        async function convertToInteractive(key) {\n",
              "          const element = document.querySelector('#df-1d700564-b349-4cba-b8ae-c076aa825d03');\n",
              "          const dataTable =\n",
              "            await google.colab.kernel.invokeFunction('convertToInteractive',\n",
              "                                                     [key], {});\n",
              "          if (!dataTable) return;\n",
              "\n",
              "          const docLinkHtml = 'Like what you see? Visit the ' +\n",
              "            '<a target=\"_blank\" href=https://colab.research.google.com/notebooks/data_table.ipynb>data table notebook</a>'\n",
              "            + ' to learn more about interactive tables.';\n",
              "          element.innerHTML = '';\n",
              "          dataTable['output_type'] = 'display_data';\n",
              "          await google.colab.output.renderOutput(dataTable, element);\n",
              "          const docLink = document.createElement('div');\n",
              "          docLink.innerHTML = docLinkHtml;\n",
              "          element.appendChild(docLink);\n",
              "        }\n",
              "      </script>\n",
              "    </div>\n",
              "  </div>\n",
              "  "
            ]
          },
          "metadata": {},
          "execution_count": 5
        }
      ],
      "source": [
        "df=df.astype({'diameter':float,'condition_code':int})\n",
        "df.head(5)"
      ]
    },
    {
      "cell_type": "markdown",
      "metadata": {
        "id": "O880eJzsjPFI"
      },
      "source": [
        "### Feature Selection"
      ]
    },
    {
      "cell_type": "markdown",
      "metadata": {
        "id": "A9io0Q_LjSYL"
      },
      "source": [
        "#### We are using Correlation Matrix to select Most Important Feature"
      ]
    },
    {
      "cell_type": "code",
      "execution_count": null,
      "metadata": {
        "colab": {
          "base_uri": "https://localhost:8080/"
        },
        "id": "ANe9Yh_MjRYv",
        "outputId": "74b616df-02ab-4e11-ba66-74a02b23ead7"
      },
      "outputs": [
        {
          "output_type": "execute_result",
          "data": {
            "text/plain": [
              "diameter          1.000000\n",
              "H                 0.566501\n",
              "data_arc          0.492110\n",
              "n_obs_used        0.386038\n",
              "moid              0.332416\n",
              "q                 0.329698\n",
              "a                 0.144748\n",
              "albedo            0.106077\n",
              "ad                0.093440\n",
              "condition_code    0.073546\n",
              "i                 0.052540\n",
              "e                 0.049107\n",
              "per_y             0.048955\n",
              "w                 0.002980\n",
              "om                0.001155\n",
              "Name: diameter, dtype: float64"
            ]
          },
          "metadata": {},
          "execution_count": 4
        }
      ],
      "source": [
        "corr=df.corr()\n",
        "corr['diameter'].abs().sort_values(ascending=False)"
      ]
    },
    {
      "cell_type": "markdown",
      "metadata": {
        "id": "sjfwPz0cj4g5"
      },
      "source": [
        "After performing correlation matrix, it is found that H,data_arc,n_obs_used,moid,q,a,albedo have higher correlation with matrix.\n",
        "\n",
        "Select the features with higher absolute correlation value."
      ]
    },
    {
      "cell_type": "code",
      "execution_count": 6,
      "metadata": {
        "id": "sDsZlWrJkI_R"
      },
      "outputs": [],
      "source": [
        "df=df[['H','data_arc','n_obs_used','moid','q','a','albedo','neo','pha','diameter']]"
      ]
    },
    {
      "cell_type": "markdown",
      "metadata": {
        "id": "hpYrsbAqpxH_"
      },
      "source": [
        "## Splitting the dataset\n",
        "\n",
        "* Since the diameter has missing values, we will have missing values of diameter in test data set and train dataset will have non-missing values.\n",
        "\n",
        "* We can also perform Validation Split for better convenience"
      ]
    },
    {
      "cell_type": "code",
      "execution_count": null,
      "metadata": {
        "colab": {
          "base_uri": "https://localhost:8080/"
        },
        "id": "p-poySQhqS0h",
        "outputId": "c30399cd-3561-4b69-e4fb-9687b008b8bb"
      },
      "outputs": [
        {
          "output_type": "stream",
          "name": "stdout",
          "text": [
            "(137681, 9) (137681,)\n"
          ]
        }
      ],
      "source": [
        "df1=df.copy()\n",
        "df1.dropna(inplace=True)\n",
        "\n",
        "y = df1[\"diameter\"]\n",
        "x = df1.drop(\"diameter\", axis=1)\n",
        "\n",
        "print(x.shape,y.shape)"
      ]
    },
    {
      "cell_type": "code",
      "source": [
        "def get_gen_grp(diam):\n",
        "    \n",
        "    if (diam <= 10):\n",
        "        return 'Small'\n",
        "    \n",
        "    elif (diam > 10) and (diam <= 100):\n",
        "        return 'Medium'\n",
        "    \n",
        "    elif (diam > 100) and (diam <= 500):\n",
        "        return 'Large'\n",
        "\n",
        "    elif (diam > 500):\n",
        "        return 'Very Large'\n",
        "    \n",
        "    else:\n",
        "        return 'Missing'"
      ],
      "metadata": {
        "id": "LyEv_IYMnBc3"
      },
      "execution_count": null,
      "outputs": []
    },
    {
      "cell_type": "code",
      "source": [
        "y_binned = y.apply(get_gen_grp)"
      ],
      "metadata": {
        "id": "CWLdlDiPoKUC"
      },
      "execution_count": null,
      "outputs": []
    },
    {
      "cell_type": "code",
      "source": [
        "# Save your Y values in a new ndarray,\n",
        "# broken down by the bins created above.\n",
        "# Pass y_binned to the stratify argument,\n",
        "# and sklearn will handle the rest\n",
        "\n",
        "xtr, xte, ytr, yte = train_test_split(x, y, test_size=0.33, stratify=y_binned,random_state=42)\n",
        "y_binned = ytr.apply(get_gen_grp)\n",
        "xtr, xcv, ytr, ycv = train_test_split(xtr, ytr, test_size=0.2, stratify=y_binned,random_state=42)"
      ],
      "metadata": {
        "id": "x9aODKICi-n8"
      },
      "execution_count": null,
      "outputs": []
    },
    {
      "cell_type": "code",
      "source": [
        "# Making this For missing Diameter Points\n",
        "data = df.copy()\n",
        "\n",
        "\n",
        "test_data = data[data[\"diameter\"].isna()]\n",
        "data.dropna(inplace=True)\n",
        "\n",
        "y_train = data[\"diameter\"]\n",
        "x_train = data.drop(\"diameter\", axis=1)\n",
        "x_test = test_data.drop(\"diameter\", axis=1)"
      ],
      "metadata": {
        "id": "_ZHqbl5GxpSx"
      },
      "execution_count": 7,
      "outputs": []
    },
    {
      "cell_type": "code",
      "source": [
        "print(\"Train data : \",xtr.shape)\n",
        "print(\"Test data : \",xte.shape)\n",
        "print(\"Validation Data : \",xcv.shape)"
      ],
      "metadata": {
        "colab": {
          "base_uri": "https://localhost:8080/"
        },
        "id": "23M54GglYka4",
        "outputId": "cb0d54f2-8f6b-42b9-a9e0-281ede08b957"
      },
      "execution_count": null,
      "outputs": [
        {
          "output_type": "stream",
          "name": "stdout",
          "text": [
            "Train data :  (73796, 9)\n",
            "Test data :  (45435, 9)\n",
            "Validation Data :  (18450, 9)\n"
          ]
        }
      ]
    },
    {
      "cell_type": "code",
      "source": [
        "# Taking missing diameter values as test data\n",
        "print(\"Train data : \",x_train.shape)\n",
        "print(\"Test data : \",x_test.shape)"
      ],
      "metadata": {
        "colab": {
          "base_uri": "https://localhost:8080/"
        },
        "id": "4r07gAs8zkNe",
        "outputId": "249f80b2-e760-4d7d-e1ac-31de8a60f0cc"
      },
      "execution_count": 8,
      "outputs": [
        {
          "output_type": "stream",
          "name": "stdout",
          "text": [
            "Train data :  (137681, 9)\n",
            "Test data :  (702055, 9)\n"
          ]
        }
      ]
    },
    {
      "cell_type": "markdown",
      "metadata": {
        "id": "PaKfHwDPtKW5"
      },
      "source": [
        "## Encoding the data\n",
        "\n",
        "* For Categorical Features"
      ]
    },
    {
      "cell_type": "code",
      "source": [
        "from sklearn.preprocessing import OneHotEncoder\n",
        "enc = OneHotEncoder(handle_unknown='error',drop='if_binary',sparse=False)"
      ],
      "metadata": {
        "id": "RbLDZ00N0UFF"
      },
      "execution_count": 10,
      "outputs": []
    },
    {
      "cell_type": "code",
      "execution_count": null,
      "metadata": {
        "id": "08mVUKfCs6lb"
      },
      "outputs": [],
      "source": [
        "# NEO\n",
        "enc.fit(xtr['neo'].values.reshape(-1,1))\n",
        "xtr_neo_encode=enc.transform(xtr['neo'].values.reshape(-1,1))\n",
        "xte_neo_encode=enc.transform(xte['neo'].values.reshape(-1,1))\n",
        "xcv_neo_encode=enc.transform(xcv['neo'].values.reshape(-1,1))"
      ]
    },
    {
      "cell_type": "code",
      "source": [
        "# NEO for missing diameter values\n",
        "enc.fit(x_train['neo'].values.reshape(-1,1))\n",
        "x_train_neo_encode=enc.transform(x_train['neo'].values.reshape(-1,1))\n",
        "x_test_neo_encode=enc.transform(x_test['neo'].values.reshape(-1,1))"
      ],
      "metadata": {
        "id": "T24h_99BWWkT"
      },
      "execution_count": 11,
      "outputs": []
    },
    {
      "cell_type": "code",
      "execution_count": null,
      "metadata": {
        "id": "lLRjgNu9t8fV"
      },
      "outputs": [],
      "source": [
        "# PHA\n",
        "enc.fit(xtr['pha'].values.reshape(-1,1))\n",
        "xtr_pha_encode=enc.transform(xtr['pha'].values.reshape(-1,1))\n",
        "xte_pha_encode=enc.transform(xte['pha'].values.reshape(-1,1))\n",
        "xcv_pha_encode=enc.transform(xcv['pha'].values.reshape(-1,1))"
      ]
    },
    {
      "cell_type": "code",
      "source": [
        "# PHA for missing diameter values\n",
        "enc.fit(x_train['pha'].values.reshape(-1,1))\n",
        "x_train_pha_encode=enc.transform(x_train['pha'].values.reshape(-1,1))\n",
        "x_test_pha_encode=enc.transform(x_test['pha'].values.reshape(-1,1))"
      ],
      "metadata": {
        "id": "ad6H1En6W939"
      },
      "execution_count": 12,
      "outputs": []
    },
    {
      "cell_type": "markdown",
      "metadata": {
        "id": "IFaJCYOOuDZm"
      },
      "source": [
        "* For Numerical Features"
      ]
    },
    {
      "cell_type": "code",
      "execution_count": 13,
      "metadata": {
        "id": "tQXs9VeguHEt"
      },
      "outputs": [],
      "source": [
        "sd=StandardScaler()"
      ]
    },
    {
      "cell_type": "markdown",
      "metadata": {
        "id": "eUGEwHvquOeD"
      },
      "source": [
        "#### Train Data"
      ]
    },
    {
      "cell_type": "code",
      "execution_count": null,
      "metadata": {
        "colab": {
          "base_uri": "https://localhost:8080/",
          "height": 206
        },
        "id": "JQEvMTTiuTh9",
        "outputId": "cc6b19fe-a757-43b0-d301-ddc8df55b971"
      },
      "outputs": [
        {
          "output_type": "execute_result",
          "data": {
            "text/plain": [
              "          a         q  data_arc  n_obs_used         H    albedo      moid\n",
              "0  0.194575 -0.228851 -0.203960   -0.188852 -0.486813 -0.866970 -0.264413\n",
              "1  0.192109  0.452161  2.454209    1.508338 -0.980177 -0.500787  0.426278\n",
              "2 -0.092617 -0.217243 -0.143081   -0.963731  1.345683 -0.665569 -0.243129\n",
              "3  0.230832  0.084360 -0.105456   -0.152851 -0.980177 -0.491632  0.240638\n",
              "4  0.115235  0.386575 -0.470730   -0.279712 -0.204891  0.021025  0.413315"
            ],
            "text/html": [
              "\n",
              "  <div id=\"df-6e153d42-4e51-4772-9217-771eb992d2ac\">\n",
              "    <div class=\"colab-df-container\">\n",
              "      <div>\n",
              "<style scoped>\n",
              "    .dataframe tbody tr th:only-of-type {\n",
              "        vertical-align: middle;\n",
              "    }\n",
              "\n",
              "    .dataframe tbody tr th {\n",
              "        vertical-align: top;\n",
              "    }\n",
              "\n",
              "    .dataframe thead th {\n",
              "        text-align: right;\n",
              "    }\n",
              "</style>\n",
              "<table border=\"1\" class=\"dataframe\">\n",
              "  <thead>\n",
              "    <tr style=\"text-align: right;\">\n",
              "      <th></th>\n",
              "      <th>a</th>\n",
              "      <th>q</th>\n",
              "      <th>data_arc</th>\n",
              "      <th>n_obs_used</th>\n",
              "      <th>H</th>\n",
              "      <th>albedo</th>\n",
              "      <th>moid</th>\n",
              "    </tr>\n",
              "  </thead>\n",
              "  <tbody>\n",
              "    <tr>\n",
              "      <th>0</th>\n",
              "      <td>0.194575</td>\n",
              "      <td>-0.228851</td>\n",
              "      <td>-0.203960</td>\n",
              "      <td>-0.188852</td>\n",
              "      <td>-0.486813</td>\n",
              "      <td>-0.866970</td>\n",
              "      <td>-0.264413</td>\n",
              "    </tr>\n",
              "    <tr>\n",
              "      <th>1</th>\n",
              "      <td>0.192109</td>\n",
              "      <td>0.452161</td>\n",
              "      <td>2.454209</td>\n",
              "      <td>1.508338</td>\n",
              "      <td>-0.980177</td>\n",
              "      <td>-0.500787</td>\n",
              "      <td>0.426278</td>\n",
              "    </tr>\n",
              "    <tr>\n",
              "      <th>2</th>\n",
              "      <td>-0.092617</td>\n",
              "      <td>-0.217243</td>\n",
              "      <td>-0.143081</td>\n",
              "      <td>-0.963731</td>\n",
              "      <td>1.345683</td>\n",
              "      <td>-0.665569</td>\n",
              "      <td>-0.243129</td>\n",
              "    </tr>\n",
              "    <tr>\n",
              "      <th>3</th>\n",
              "      <td>0.230832</td>\n",
              "      <td>0.084360</td>\n",
              "      <td>-0.105456</td>\n",
              "      <td>-0.152851</td>\n",
              "      <td>-0.980177</td>\n",
              "      <td>-0.491632</td>\n",
              "      <td>0.240638</td>\n",
              "    </tr>\n",
              "    <tr>\n",
              "      <th>4</th>\n",
              "      <td>0.115235</td>\n",
              "      <td>0.386575</td>\n",
              "      <td>-0.470730</td>\n",
              "      <td>-0.279712</td>\n",
              "      <td>-0.204891</td>\n",
              "      <td>0.021025</td>\n",
              "      <td>0.413315</td>\n",
              "    </tr>\n",
              "  </tbody>\n",
              "</table>\n",
              "</div>\n",
              "      <button class=\"colab-df-convert\" onclick=\"convertToInteractive('df-6e153d42-4e51-4772-9217-771eb992d2ac')\"\n",
              "              title=\"Convert this dataframe to an interactive table.\"\n",
              "              style=\"display:none;\">\n",
              "        \n",
              "  <svg xmlns=\"http://www.w3.org/2000/svg\" height=\"24px\"viewBox=\"0 0 24 24\"\n",
              "       width=\"24px\">\n",
              "    <path d=\"M0 0h24v24H0V0z\" fill=\"none\"/>\n",
              "    <path d=\"M18.56 5.44l.94 2.06.94-2.06 2.06-.94-2.06-.94-.94-2.06-.94 2.06-2.06.94zm-11 1L8.5 8.5l.94-2.06 2.06-.94-2.06-.94L8.5 2.5l-.94 2.06-2.06.94zm10 10l.94 2.06.94-2.06 2.06-.94-2.06-.94-.94-2.06-.94 2.06-2.06.94z\"/><path d=\"M17.41 7.96l-1.37-1.37c-.4-.4-.92-.59-1.43-.59-.52 0-1.04.2-1.43.59L10.3 9.45l-7.72 7.72c-.78.78-.78 2.05 0 2.83L4 21.41c.39.39.9.59 1.41.59.51 0 1.02-.2 1.41-.59l7.78-7.78 2.81-2.81c.8-.78.8-2.07 0-2.86zM5.41 20L4 18.59l7.72-7.72 1.47 1.35L5.41 20z\"/>\n",
              "  </svg>\n",
              "      </button>\n",
              "      \n",
              "  <style>\n",
              "    .colab-df-container {\n",
              "      display:flex;\n",
              "      flex-wrap:wrap;\n",
              "      gap: 12px;\n",
              "    }\n",
              "\n",
              "    .colab-df-convert {\n",
              "      background-color: #E8F0FE;\n",
              "      border: none;\n",
              "      border-radius: 50%;\n",
              "      cursor: pointer;\n",
              "      display: none;\n",
              "      fill: #1967D2;\n",
              "      height: 32px;\n",
              "      padding: 0 0 0 0;\n",
              "      width: 32px;\n",
              "    }\n",
              "\n",
              "    .colab-df-convert:hover {\n",
              "      background-color: #E2EBFA;\n",
              "      box-shadow: 0px 1px 2px rgba(60, 64, 67, 0.3), 0px 1px 3px 1px rgba(60, 64, 67, 0.15);\n",
              "      fill: #174EA6;\n",
              "    }\n",
              "\n",
              "    [theme=dark] .colab-df-convert {\n",
              "      background-color: #3B4455;\n",
              "      fill: #D2E3FC;\n",
              "    }\n",
              "\n",
              "    [theme=dark] .colab-df-convert:hover {\n",
              "      background-color: #434B5C;\n",
              "      box-shadow: 0px 1px 3px 1px rgba(0, 0, 0, 0.15);\n",
              "      filter: drop-shadow(0px 1px 2px rgba(0, 0, 0, 0.3));\n",
              "      fill: #FFFFFF;\n",
              "    }\n",
              "  </style>\n",
              "\n",
              "      <script>\n",
              "        const buttonEl =\n",
              "          document.querySelector('#df-6e153d42-4e51-4772-9217-771eb992d2ac button.colab-df-convert');\n",
              "        buttonEl.style.display =\n",
              "          google.colab.kernel.accessAllowed ? 'block' : 'none';\n",
              "\n",
              "        async function convertToInteractive(key) {\n",
              "          const element = document.querySelector('#df-6e153d42-4e51-4772-9217-771eb992d2ac');\n",
              "          const dataTable =\n",
              "            await google.colab.kernel.invokeFunction('convertToInteractive',\n",
              "                                                     [key], {});\n",
              "          if (!dataTable) return;\n",
              "\n",
              "          const docLinkHtml = 'Like what you see? Visit the ' +\n",
              "            '<a target=\"_blank\" href=https://colab.research.google.com/notebooks/data_table.ipynb>data table notebook</a>'\n",
              "            + ' to learn more about interactive tables.';\n",
              "          element.innerHTML = '';\n",
              "          dataTable['output_type'] = 'display_data';\n",
              "          await google.colab.output.renderOutput(dataTable, element);\n",
              "          const docLink = document.createElement('div');\n",
              "          docLink.innerHTML = docLinkHtml;\n",
              "          element.appendChild(docLink);\n",
              "        }\n",
              "      </script>\n",
              "    </div>\n",
              "  </div>\n",
              "  "
            ]
          },
          "metadata": {},
          "execution_count": 19
        }
      ],
      "source": [
        "sd.fit(xtr[['a', 'q', 'data_arc', 'n_obs_used', 'H',\n",
        "       'albedo', 'moid']])\n",
        "xtr_norm=sd.transform(xtr[['a', 'q', 'data_arc', 'n_obs_used', 'H',\n",
        "       'albedo', 'moid']])\n",
        "xtr_norm=pd.DataFrame(data=xtr_norm,columns=['a', 'q', 'data_arc', 'n_obs_used', 'H',\n",
        "       'albedo', 'moid'])\n",
        "xtr_norm.head(5)"
      ]
    },
    {
      "cell_type": "code",
      "source": [
        "# for missing diameter values\n",
        "sd.fit(x_train[['a', 'q', 'data_arc', 'n_obs_used', 'H',\n",
        "       'albedo', 'moid']])\n",
        "x_train_norm=sd.transform(x_train[['a', 'q', 'data_arc', 'n_obs_used', 'H',\n",
        "       'albedo', 'moid']])\n",
        "x_train_norm=pd.DataFrame(data=x_train_norm,columns=['a', 'q', 'data_arc', 'n_obs_used', 'H',\n",
        "       'albedo', 'moid'])\n",
        "x_train_norm.shape"
      ],
      "metadata": {
        "colab": {
          "base_uri": "https://localhost:8080/"
        },
        "id": "m1D9fK3XXN5l",
        "outputId": "fef6a0d8-e198-499c-e075-fa4312cad64d"
      },
      "execution_count": 14,
      "outputs": [
        {
          "output_type": "execute_result",
          "data": {
            "text/plain": [
              "(137681, 7)"
            ]
          },
          "metadata": {},
          "execution_count": 14
        }
      ]
    },
    {
      "cell_type": "markdown",
      "metadata": {
        "id": "BTb_QoLruYPN"
      },
      "source": [
        "#### Test Data"
      ]
    },
    {
      "cell_type": "code",
      "execution_count": null,
      "metadata": {
        "colab": {
          "base_uri": "https://localhost:8080/",
          "height": 206
        },
        "id": "-RvnEPEeuav6",
        "outputId": "927db8a7-a0fe-49f8-ec1d-4206048d0077"
      },
      "outputs": [
        {
          "output_type": "execute_result",
          "data": {
            "text/plain": [
              "          a         q  data_arc  n_obs_used         H    albedo      moid\n",
              "0 -0.318625 -1.029335 -0.275750   -0.610052  0.925903  1.675331 -1.093568\n",
              "1  0.119695  0.170960 -0.271366   -0.246037  0.007970 -0.526874  0.179751\n",
              "2  0.022270 -0.270871 -1.447034   -1.107998  1.137734 -0.645665 -0.254651\n",
              "3  0.099376  1.026296 -0.256913    0.627943 -0.909964  0.386904  1.002517\n",
              "4  0.172358 -0.198264 -0.397864    0.210699 -0.556912 -0.536012 -0.168756"
            ],
            "text/html": [
              "\n",
              "  <div id=\"df-7fb67bf1-2017-41d5-8fd7-d0aa9737972a\">\n",
              "    <div class=\"colab-df-container\">\n",
              "      <div>\n",
              "<style scoped>\n",
              "    .dataframe tbody tr th:only-of-type {\n",
              "        vertical-align: middle;\n",
              "    }\n",
              "\n",
              "    .dataframe tbody tr th {\n",
              "        vertical-align: top;\n",
              "    }\n",
              "\n",
              "    .dataframe thead th {\n",
              "        text-align: right;\n",
              "    }\n",
              "</style>\n",
              "<table border=\"1\" class=\"dataframe\">\n",
              "  <thead>\n",
              "    <tr style=\"text-align: right;\">\n",
              "      <th></th>\n",
              "      <th>a</th>\n",
              "      <th>q</th>\n",
              "      <th>data_arc</th>\n",
              "      <th>n_obs_used</th>\n",
              "      <th>H</th>\n",
              "      <th>albedo</th>\n",
              "      <th>moid</th>\n",
              "    </tr>\n",
              "  </thead>\n",
              "  <tbody>\n",
              "    <tr>\n",
              "      <th>0</th>\n",
              "      <td>-0.318625</td>\n",
              "      <td>-1.029335</td>\n",
              "      <td>-0.275750</td>\n",
              "      <td>-0.610052</td>\n",
              "      <td>0.925903</td>\n",
              "      <td>1.675331</td>\n",
              "      <td>-1.093568</td>\n",
              "    </tr>\n",
              "    <tr>\n",
              "      <th>1</th>\n",
              "      <td>0.119695</td>\n",
              "      <td>0.170960</td>\n",
              "      <td>-0.271366</td>\n",
              "      <td>-0.246037</td>\n",
              "      <td>0.007970</td>\n",
              "      <td>-0.526874</td>\n",
              "      <td>0.179751</td>\n",
              "    </tr>\n",
              "    <tr>\n",
              "      <th>2</th>\n",
              "      <td>0.022270</td>\n",
              "      <td>-0.270871</td>\n",
              "      <td>-1.447034</td>\n",
              "      <td>-1.107998</td>\n",
              "      <td>1.137734</td>\n",
              "      <td>-0.645665</td>\n",
              "      <td>-0.254651</td>\n",
              "    </tr>\n",
              "    <tr>\n",
              "      <th>3</th>\n",
              "      <td>0.099376</td>\n",
              "      <td>1.026296</td>\n",
              "      <td>-0.256913</td>\n",
              "      <td>0.627943</td>\n",
              "      <td>-0.909964</td>\n",
              "      <td>0.386904</td>\n",
              "      <td>1.002517</td>\n",
              "    </tr>\n",
              "    <tr>\n",
              "      <th>4</th>\n",
              "      <td>0.172358</td>\n",
              "      <td>-0.198264</td>\n",
              "      <td>-0.397864</td>\n",
              "      <td>0.210699</td>\n",
              "      <td>-0.556912</td>\n",
              "      <td>-0.536012</td>\n",
              "      <td>-0.168756</td>\n",
              "    </tr>\n",
              "  </tbody>\n",
              "</table>\n",
              "</div>\n",
              "      <button class=\"colab-df-convert\" onclick=\"convertToInteractive('df-7fb67bf1-2017-41d5-8fd7-d0aa9737972a')\"\n",
              "              title=\"Convert this dataframe to an interactive table.\"\n",
              "              style=\"display:none;\">\n",
              "        \n",
              "  <svg xmlns=\"http://www.w3.org/2000/svg\" height=\"24px\"viewBox=\"0 0 24 24\"\n",
              "       width=\"24px\">\n",
              "    <path d=\"M0 0h24v24H0V0z\" fill=\"none\"/>\n",
              "    <path d=\"M18.56 5.44l.94 2.06.94-2.06 2.06-.94-2.06-.94-.94-2.06-.94 2.06-2.06.94zm-11 1L8.5 8.5l.94-2.06 2.06-.94-2.06-.94L8.5 2.5l-.94 2.06-2.06.94zm10 10l.94 2.06.94-2.06 2.06-.94-2.06-.94-.94-2.06-.94 2.06-2.06.94z\"/><path d=\"M17.41 7.96l-1.37-1.37c-.4-.4-.92-.59-1.43-.59-.52 0-1.04.2-1.43.59L10.3 9.45l-7.72 7.72c-.78.78-.78 2.05 0 2.83L4 21.41c.39.39.9.59 1.41.59.51 0 1.02-.2 1.41-.59l7.78-7.78 2.81-2.81c.8-.78.8-2.07 0-2.86zM5.41 20L4 18.59l7.72-7.72 1.47 1.35L5.41 20z\"/>\n",
              "  </svg>\n",
              "      </button>\n",
              "      \n",
              "  <style>\n",
              "    .colab-df-container {\n",
              "      display:flex;\n",
              "      flex-wrap:wrap;\n",
              "      gap: 12px;\n",
              "    }\n",
              "\n",
              "    .colab-df-convert {\n",
              "      background-color: #E8F0FE;\n",
              "      border: none;\n",
              "      border-radius: 50%;\n",
              "      cursor: pointer;\n",
              "      display: none;\n",
              "      fill: #1967D2;\n",
              "      height: 32px;\n",
              "      padding: 0 0 0 0;\n",
              "      width: 32px;\n",
              "    }\n",
              "\n",
              "    .colab-df-convert:hover {\n",
              "      background-color: #E2EBFA;\n",
              "      box-shadow: 0px 1px 2px rgba(60, 64, 67, 0.3), 0px 1px 3px 1px rgba(60, 64, 67, 0.15);\n",
              "      fill: #174EA6;\n",
              "    }\n",
              "\n",
              "    [theme=dark] .colab-df-convert {\n",
              "      background-color: #3B4455;\n",
              "      fill: #D2E3FC;\n",
              "    }\n",
              "\n",
              "    [theme=dark] .colab-df-convert:hover {\n",
              "      background-color: #434B5C;\n",
              "      box-shadow: 0px 1px 3px 1px rgba(0, 0, 0, 0.15);\n",
              "      filter: drop-shadow(0px 1px 2px rgba(0, 0, 0, 0.3));\n",
              "      fill: #FFFFFF;\n",
              "    }\n",
              "  </style>\n",
              "\n",
              "      <script>\n",
              "        const buttonEl =\n",
              "          document.querySelector('#df-7fb67bf1-2017-41d5-8fd7-d0aa9737972a button.colab-df-convert');\n",
              "        buttonEl.style.display =\n",
              "          google.colab.kernel.accessAllowed ? 'block' : 'none';\n",
              "\n",
              "        async function convertToInteractive(key) {\n",
              "          const element = document.querySelector('#df-7fb67bf1-2017-41d5-8fd7-d0aa9737972a');\n",
              "          const dataTable =\n",
              "            await google.colab.kernel.invokeFunction('convertToInteractive',\n",
              "                                                     [key], {});\n",
              "          if (!dataTable) return;\n",
              "\n",
              "          const docLinkHtml = 'Like what you see? Visit the ' +\n",
              "            '<a target=\"_blank\" href=https://colab.research.google.com/notebooks/data_table.ipynb>data table notebook</a>'\n",
              "            + ' to learn more about interactive tables.';\n",
              "          element.innerHTML = '';\n",
              "          dataTable['output_type'] = 'display_data';\n",
              "          await google.colab.output.renderOutput(dataTable, element);\n",
              "          const docLink = document.createElement('div');\n",
              "          docLink.innerHTML = docLinkHtml;\n",
              "          element.appendChild(docLink);\n",
              "        }\n",
              "      </script>\n",
              "    </div>\n",
              "  </div>\n",
              "  "
            ]
          },
          "metadata": {},
          "execution_count": 21
        }
      ],
      "source": [
        "xte_norm=sd.transform(xte[['a', 'q', 'data_arc', 'n_obs_used', 'H',\n",
        "       'albedo', 'moid']])\n",
        "xte_norm=pd.DataFrame(data=xte_norm,columns=['a', 'q', 'data_arc', 'n_obs_used', 'H',\n",
        "       'albedo', 'moid'])\n",
        "xte_norm.head(5)"
      ]
    },
    {
      "cell_type": "code",
      "source": [
        "# for missing diameter values\n",
        "x_test_norm=sd.transform(x_test[['a', 'q', 'data_arc', 'n_obs_used', 'H',\n",
        "       'albedo', 'moid']])\n",
        "x_test_norm=pd.DataFrame(data=x_test_norm,columns=['a', 'q', 'data_arc', 'n_obs_used', 'H',\n",
        "       'albedo', 'moid'])\n",
        "x_test_norm.shape"
      ],
      "metadata": {
        "colab": {
          "base_uri": "https://localhost:8080/"
        },
        "id": "a4E3z15FXjYt",
        "outputId": "b10a0093-3aef-4f08-b81d-f5959cc78ede"
      },
      "execution_count": 15,
      "outputs": [
        {
          "output_type": "execute_result",
          "data": {
            "text/plain": [
              "(702055, 7)"
            ]
          },
          "metadata": {},
          "execution_count": 15
        }
      ]
    },
    {
      "cell_type": "markdown",
      "source": [
        "#### Validation Data"
      ],
      "metadata": {
        "id": "TiAwjDRVZTAs"
      }
    },
    {
      "cell_type": "code",
      "source": [
        "xcv_norm=sd.transform(xcv[['a', 'q', 'data_arc', 'n_obs_used', 'H',\n",
        "       'albedo', 'moid']])\n",
        "xcv_norm=pd.DataFrame(data=xcv_norm,columns=['a', 'q', 'data_arc', 'n_obs_used', 'H',\n",
        "       'albedo', 'moid'])\n",
        "xcv_norm.head(5)"
      ],
      "metadata": {
        "colab": {
          "base_uri": "https://localhost:8080/",
          "height": 206
        },
        "id": "02K-vN_EZXem",
        "outputId": "5df879a6-39a7-4a43-9fdb-60d61ec65896"
      },
      "execution_count": null,
      "outputs": [
        {
          "output_type": "execute_result",
          "data": {
            "text/plain": [
              "          a         q  data_arc  n_obs_used         H    albedo      moid\n",
              "0 -0.311660 -1.147161 -0.276724   -0.536219  0.784683 -0.855834 -1.145684\n",
              "1 -0.197834 -0.152285 -0.404846   -0.682169  0.855293 -0.618252 -0.176829\n",
              "2 -0.320636 -0.884338  2.653353    2.597402 -0.627523  1.757572 -0.932238\n",
              "3 -0.365295 -0.468528  0.960001    1.024582 -0.133251  3.603403 -0.476485\n",
              "4 -0.155190 -0.495946 -0.108656    0.226152  0.149190  1.318958 -0.491498"
            ],
            "text/html": [
              "\n",
              "  <div id=\"df-4d7f8ddd-4655-42a4-9669-a04dc1c41aa9\">\n",
              "    <div class=\"colab-df-container\">\n",
              "      <div>\n",
              "<style scoped>\n",
              "    .dataframe tbody tr th:only-of-type {\n",
              "        vertical-align: middle;\n",
              "    }\n",
              "\n",
              "    .dataframe tbody tr th {\n",
              "        vertical-align: top;\n",
              "    }\n",
              "\n",
              "    .dataframe thead th {\n",
              "        text-align: right;\n",
              "    }\n",
              "</style>\n",
              "<table border=\"1\" class=\"dataframe\">\n",
              "  <thead>\n",
              "    <tr style=\"text-align: right;\">\n",
              "      <th></th>\n",
              "      <th>a</th>\n",
              "      <th>q</th>\n",
              "      <th>data_arc</th>\n",
              "      <th>n_obs_used</th>\n",
              "      <th>H</th>\n",
              "      <th>albedo</th>\n",
              "      <th>moid</th>\n",
              "    </tr>\n",
              "  </thead>\n",
              "  <tbody>\n",
              "    <tr>\n",
              "      <th>0</th>\n",
              "      <td>-0.311660</td>\n",
              "      <td>-1.147161</td>\n",
              "      <td>-0.276724</td>\n",
              "      <td>-0.536219</td>\n",
              "      <td>0.784683</td>\n",
              "      <td>-0.855834</td>\n",
              "      <td>-1.145684</td>\n",
              "    </tr>\n",
              "    <tr>\n",
              "      <th>1</th>\n",
              "      <td>-0.197834</td>\n",
              "      <td>-0.152285</td>\n",
              "      <td>-0.404846</td>\n",
              "      <td>-0.682169</td>\n",
              "      <td>0.855293</td>\n",
              "      <td>-0.618252</td>\n",
              "      <td>-0.176829</td>\n",
              "    </tr>\n",
              "    <tr>\n",
              "      <th>2</th>\n",
              "      <td>-0.320636</td>\n",
              "      <td>-0.884338</td>\n",
              "      <td>2.653353</td>\n",
              "      <td>2.597402</td>\n",
              "      <td>-0.627523</td>\n",
              "      <td>1.757572</td>\n",
              "      <td>-0.932238</td>\n",
              "    </tr>\n",
              "    <tr>\n",
              "      <th>3</th>\n",
              "      <td>-0.365295</td>\n",
              "      <td>-0.468528</td>\n",
              "      <td>0.960001</td>\n",
              "      <td>1.024582</td>\n",
              "      <td>-0.133251</td>\n",
              "      <td>3.603403</td>\n",
              "      <td>-0.476485</td>\n",
              "    </tr>\n",
              "    <tr>\n",
              "      <th>4</th>\n",
              "      <td>-0.155190</td>\n",
              "      <td>-0.495946</td>\n",
              "      <td>-0.108656</td>\n",
              "      <td>0.226152</td>\n",
              "      <td>0.149190</td>\n",
              "      <td>1.318958</td>\n",
              "      <td>-0.491498</td>\n",
              "    </tr>\n",
              "  </tbody>\n",
              "</table>\n",
              "</div>\n",
              "      <button class=\"colab-df-convert\" onclick=\"convertToInteractive('df-4d7f8ddd-4655-42a4-9669-a04dc1c41aa9')\"\n",
              "              title=\"Convert this dataframe to an interactive table.\"\n",
              "              style=\"display:none;\">\n",
              "        \n",
              "  <svg xmlns=\"http://www.w3.org/2000/svg\" height=\"24px\"viewBox=\"0 0 24 24\"\n",
              "       width=\"24px\">\n",
              "    <path d=\"M0 0h24v24H0V0z\" fill=\"none\"/>\n",
              "    <path d=\"M18.56 5.44l.94 2.06.94-2.06 2.06-.94-2.06-.94-.94-2.06-.94 2.06-2.06.94zm-11 1L8.5 8.5l.94-2.06 2.06-.94-2.06-.94L8.5 2.5l-.94 2.06-2.06.94zm10 10l.94 2.06.94-2.06 2.06-.94-2.06-.94-.94-2.06-.94 2.06-2.06.94z\"/><path d=\"M17.41 7.96l-1.37-1.37c-.4-.4-.92-.59-1.43-.59-.52 0-1.04.2-1.43.59L10.3 9.45l-7.72 7.72c-.78.78-.78 2.05 0 2.83L4 21.41c.39.39.9.59 1.41.59.51 0 1.02-.2 1.41-.59l7.78-7.78 2.81-2.81c.8-.78.8-2.07 0-2.86zM5.41 20L4 18.59l7.72-7.72 1.47 1.35L5.41 20z\"/>\n",
              "  </svg>\n",
              "      </button>\n",
              "      \n",
              "  <style>\n",
              "    .colab-df-container {\n",
              "      display:flex;\n",
              "      flex-wrap:wrap;\n",
              "      gap: 12px;\n",
              "    }\n",
              "\n",
              "    .colab-df-convert {\n",
              "      background-color: #E8F0FE;\n",
              "      border: none;\n",
              "      border-radius: 50%;\n",
              "      cursor: pointer;\n",
              "      display: none;\n",
              "      fill: #1967D2;\n",
              "      height: 32px;\n",
              "      padding: 0 0 0 0;\n",
              "      width: 32px;\n",
              "    }\n",
              "\n",
              "    .colab-df-convert:hover {\n",
              "      background-color: #E2EBFA;\n",
              "      box-shadow: 0px 1px 2px rgba(60, 64, 67, 0.3), 0px 1px 3px 1px rgba(60, 64, 67, 0.15);\n",
              "      fill: #174EA6;\n",
              "    }\n",
              "\n",
              "    [theme=dark] .colab-df-convert {\n",
              "      background-color: #3B4455;\n",
              "      fill: #D2E3FC;\n",
              "    }\n",
              "\n",
              "    [theme=dark] .colab-df-convert:hover {\n",
              "      background-color: #434B5C;\n",
              "      box-shadow: 0px 1px 3px 1px rgba(0, 0, 0, 0.15);\n",
              "      filter: drop-shadow(0px 1px 2px rgba(0, 0, 0, 0.3));\n",
              "      fill: #FFFFFF;\n",
              "    }\n",
              "  </style>\n",
              "\n",
              "      <script>\n",
              "        const buttonEl =\n",
              "          document.querySelector('#df-4d7f8ddd-4655-42a4-9669-a04dc1c41aa9 button.colab-df-convert');\n",
              "        buttonEl.style.display =\n",
              "          google.colab.kernel.accessAllowed ? 'block' : 'none';\n",
              "\n",
              "        async function convertToInteractive(key) {\n",
              "          const element = document.querySelector('#df-4d7f8ddd-4655-42a4-9669-a04dc1c41aa9');\n",
              "          const dataTable =\n",
              "            await google.colab.kernel.invokeFunction('convertToInteractive',\n",
              "                                                     [key], {});\n",
              "          if (!dataTable) return;\n",
              "\n",
              "          const docLinkHtml = 'Like what you see? Visit the ' +\n",
              "            '<a target=\"_blank\" href=https://colab.research.google.com/notebooks/data_table.ipynb>data table notebook</a>'\n",
              "            + ' to learn more about interactive tables.';\n",
              "          element.innerHTML = '';\n",
              "          dataTable['output_type'] = 'display_data';\n",
              "          await google.colab.output.renderOutput(dataTable, element);\n",
              "          const docLink = document.createElement('div');\n",
              "          docLink.innerHTML = docLinkHtml;\n",
              "          element.appendChild(docLink);\n",
              "        }\n",
              "      </script>\n",
              "    </div>\n",
              "  </div>\n",
              "  "
            ]
          },
          "metadata": {},
          "execution_count": 23
        }
      ]
    },
    {
      "cell_type": "markdown",
      "metadata": {
        "id": "VD70eQ4Dunpo"
      },
      "source": [
        "#### Encoding Numerical and Categorical Features"
      ]
    },
    {
      "cell_type": "markdown",
      "metadata": {
        "id": "peGRCSvcu0Os"
      },
      "source": [
        "* Train Data"
      ]
    },
    {
      "cell_type": "code",
      "execution_count": null,
      "metadata": {
        "colab": {
          "base_uri": "https://localhost:8080/",
          "height": 223
        },
        "id": "tX5wd0hxuroQ",
        "outputId": "85865188-0cf4-4a46-e0c9-b5892c6d32cd"
      },
      "outputs": [
        {
          "output_type": "stream",
          "name": "stdout",
          "text": [
            "(73796, 9)\n"
          ]
        },
        {
          "output_type": "execute_result",
          "data": {
            "text/plain": [
              "          a         q  data_arc  n_obs_used         H    albedo      moid  \\\n",
              "0  0.194575 -0.228851 -0.203960   -0.188852 -0.486813 -0.866970 -0.264413   \n",
              "1  0.192109  0.452161  2.454209    1.508338 -0.980177 -0.500787  0.426278   \n",
              "2 -0.092617 -0.217243 -0.143081   -0.963731  1.345683 -0.665569 -0.243129   \n",
              "3  0.230832  0.084360 -0.105456   -0.152851 -0.980177 -0.491632  0.240638   \n",
              "4  0.115235  0.386575 -0.470730   -0.279712 -0.204891  0.021025  0.413315   \n",
              "\n",
              "   neo  pha  \n",
              "0  0.0  0.0  \n",
              "1  0.0  0.0  \n",
              "2  0.0  0.0  \n",
              "3  0.0  0.0  \n",
              "4  0.0  0.0  "
            ],
            "text/html": [
              "\n",
              "  <div id=\"df-aa02f6e0-ffab-4808-b0ee-98b37ad830e1\">\n",
              "    <div class=\"colab-df-container\">\n",
              "      <div>\n",
              "<style scoped>\n",
              "    .dataframe tbody tr th:only-of-type {\n",
              "        vertical-align: middle;\n",
              "    }\n",
              "\n",
              "    .dataframe tbody tr th {\n",
              "        vertical-align: top;\n",
              "    }\n",
              "\n",
              "    .dataframe thead th {\n",
              "        text-align: right;\n",
              "    }\n",
              "</style>\n",
              "<table border=\"1\" class=\"dataframe\">\n",
              "  <thead>\n",
              "    <tr style=\"text-align: right;\">\n",
              "      <th></th>\n",
              "      <th>a</th>\n",
              "      <th>q</th>\n",
              "      <th>data_arc</th>\n",
              "      <th>n_obs_used</th>\n",
              "      <th>H</th>\n",
              "      <th>albedo</th>\n",
              "      <th>moid</th>\n",
              "      <th>neo</th>\n",
              "      <th>pha</th>\n",
              "    </tr>\n",
              "  </thead>\n",
              "  <tbody>\n",
              "    <tr>\n",
              "      <th>0</th>\n",
              "      <td>0.194575</td>\n",
              "      <td>-0.228851</td>\n",
              "      <td>-0.203960</td>\n",
              "      <td>-0.188852</td>\n",
              "      <td>-0.486813</td>\n",
              "      <td>-0.866970</td>\n",
              "      <td>-0.264413</td>\n",
              "      <td>0.0</td>\n",
              "      <td>0.0</td>\n",
              "    </tr>\n",
              "    <tr>\n",
              "      <th>1</th>\n",
              "      <td>0.192109</td>\n",
              "      <td>0.452161</td>\n",
              "      <td>2.454209</td>\n",
              "      <td>1.508338</td>\n",
              "      <td>-0.980177</td>\n",
              "      <td>-0.500787</td>\n",
              "      <td>0.426278</td>\n",
              "      <td>0.0</td>\n",
              "      <td>0.0</td>\n",
              "    </tr>\n",
              "    <tr>\n",
              "      <th>2</th>\n",
              "      <td>-0.092617</td>\n",
              "      <td>-0.217243</td>\n",
              "      <td>-0.143081</td>\n",
              "      <td>-0.963731</td>\n",
              "      <td>1.345683</td>\n",
              "      <td>-0.665569</td>\n",
              "      <td>-0.243129</td>\n",
              "      <td>0.0</td>\n",
              "      <td>0.0</td>\n",
              "    </tr>\n",
              "    <tr>\n",
              "      <th>3</th>\n",
              "      <td>0.230832</td>\n",
              "      <td>0.084360</td>\n",
              "      <td>-0.105456</td>\n",
              "      <td>-0.152851</td>\n",
              "      <td>-0.980177</td>\n",
              "      <td>-0.491632</td>\n",
              "      <td>0.240638</td>\n",
              "      <td>0.0</td>\n",
              "      <td>0.0</td>\n",
              "    </tr>\n",
              "    <tr>\n",
              "      <th>4</th>\n",
              "      <td>0.115235</td>\n",
              "      <td>0.386575</td>\n",
              "      <td>-0.470730</td>\n",
              "      <td>-0.279712</td>\n",
              "      <td>-0.204891</td>\n",
              "      <td>0.021025</td>\n",
              "      <td>0.413315</td>\n",
              "      <td>0.0</td>\n",
              "      <td>0.0</td>\n",
              "    </tr>\n",
              "  </tbody>\n",
              "</table>\n",
              "</div>\n",
              "      <button class=\"colab-df-convert\" onclick=\"convertToInteractive('df-aa02f6e0-ffab-4808-b0ee-98b37ad830e1')\"\n",
              "              title=\"Convert this dataframe to an interactive table.\"\n",
              "              style=\"display:none;\">\n",
              "        \n",
              "  <svg xmlns=\"http://www.w3.org/2000/svg\" height=\"24px\"viewBox=\"0 0 24 24\"\n",
              "       width=\"24px\">\n",
              "    <path d=\"M0 0h24v24H0V0z\" fill=\"none\"/>\n",
              "    <path d=\"M18.56 5.44l.94 2.06.94-2.06 2.06-.94-2.06-.94-.94-2.06-.94 2.06-2.06.94zm-11 1L8.5 8.5l.94-2.06 2.06-.94-2.06-.94L8.5 2.5l-.94 2.06-2.06.94zm10 10l.94 2.06.94-2.06 2.06-.94-2.06-.94-.94-2.06-.94 2.06-2.06.94z\"/><path d=\"M17.41 7.96l-1.37-1.37c-.4-.4-.92-.59-1.43-.59-.52 0-1.04.2-1.43.59L10.3 9.45l-7.72 7.72c-.78.78-.78 2.05 0 2.83L4 21.41c.39.39.9.59 1.41.59.51 0 1.02-.2 1.41-.59l7.78-7.78 2.81-2.81c.8-.78.8-2.07 0-2.86zM5.41 20L4 18.59l7.72-7.72 1.47 1.35L5.41 20z\"/>\n",
              "  </svg>\n",
              "      </button>\n",
              "      \n",
              "  <style>\n",
              "    .colab-df-container {\n",
              "      display:flex;\n",
              "      flex-wrap:wrap;\n",
              "      gap: 12px;\n",
              "    }\n",
              "\n",
              "    .colab-df-convert {\n",
              "      background-color: #E8F0FE;\n",
              "      border: none;\n",
              "      border-radius: 50%;\n",
              "      cursor: pointer;\n",
              "      display: none;\n",
              "      fill: #1967D2;\n",
              "      height: 32px;\n",
              "      padding: 0 0 0 0;\n",
              "      width: 32px;\n",
              "    }\n",
              "\n",
              "    .colab-df-convert:hover {\n",
              "      background-color: #E2EBFA;\n",
              "      box-shadow: 0px 1px 2px rgba(60, 64, 67, 0.3), 0px 1px 3px 1px rgba(60, 64, 67, 0.15);\n",
              "      fill: #174EA6;\n",
              "    }\n",
              "\n",
              "    [theme=dark] .colab-df-convert {\n",
              "      background-color: #3B4455;\n",
              "      fill: #D2E3FC;\n",
              "    }\n",
              "\n",
              "    [theme=dark] .colab-df-convert:hover {\n",
              "      background-color: #434B5C;\n",
              "      box-shadow: 0px 1px 3px 1px rgba(0, 0, 0, 0.15);\n",
              "      filter: drop-shadow(0px 1px 2px rgba(0, 0, 0, 0.3));\n",
              "      fill: #FFFFFF;\n",
              "    }\n",
              "  </style>\n",
              "\n",
              "      <script>\n",
              "        const buttonEl =\n",
              "          document.querySelector('#df-aa02f6e0-ffab-4808-b0ee-98b37ad830e1 button.colab-df-convert');\n",
              "        buttonEl.style.display =\n",
              "          google.colab.kernel.accessAllowed ? 'block' : 'none';\n",
              "\n",
              "        async function convertToInteractive(key) {\n",
              "          const element = document.querySelector('#df-aa02f6e0-ffab-4808-b0ee-98b37ad830e1');\n",
              "          const dataTable =\n",
              "            await google.colab.kernel.invokeFunction('convertToInteractive',\n",
              "                                                     [key], {});\n",
              "          if (!dataTable) return;\n",
              "\n",
              "          const docLinkHtml = 'Like what you see? Visit the ' +\n",
              "            '<a target=\"_blank\" href=https://colab.research.google.com/notebooks/data_table.ipynb>data table notebook</a>'\n",
              "            + ' to learn more about interactive tables.';\n",
              "          element.innerHTML = '';\n",
              "          dataTable['output_type'] = 'display_data';\n",
              "          await google.colab.output.renderOutput(dataTable, element);\n",
              "          const docLink = document.createElement('div');\n",
              "          docLink.innerHTML = docLinkHtml;\n",
              "          element.appendChild(docLink);\n",
              "        }\n",
              "      </script>\n",
              "    </div>\n",
              "  </div>\n",
              "  "
            ]
          },
          "metadata": {},
          "execution_count": 25
        }
      ],
      "source": [
        "xtr=xtr_norm[['a','q','data_arc','n_obs_used','H','albedo','moid']]\n",
        "xtr['neo']=xtr_neo_encode\n",
        "xtr['pha']=xtr_pha_encode\n",
        "print(xtr.shape)\n",
        "xtr.head(5)"
      ]
    },
    {
      "cell_type": "code",
      "source": [
        "# for missing diameter values\n",
        "x_train=x_train_norm[['a','q','data_arc','n_obs_used','H','albedo','moid']]\n",
        "x_train['neo']=x_train_neo_encode\n",
        "x_train['pha']=x_train_pha_encode\n",
        "print(x_train.shape)\n",
        "x_train.head(5)"
      ],
      "metadata": {
        "colab": {
          "base_uri": "https://localhost:8080/",
          "height": 223
        },
        "id": "qXdNO0UdX5mp",
        "outputId": "a8228edb-20f9-45cc-f558-b61763513925"
      },
      "execution_count": 16,
      "outputs": [
        {
          "output_type": "stream",
          "name": "stdout",
          "text": [
            "(137681, 9)\n"
          ]
        },
        {
          "output_type": "execute_result",
          "data": {
            "text/plain": [
              "          a         q   data_arc  n_obs_used         H    albedo      moid  \\\n",
              "0 -0.029792  0.302503  -0.012622    0.588733 -8.368553 -0.361170  0.341052   \n",
              "1 -0.027624 -0.520575  10.305415   13.457097 -7.810651 -0.260805 -0.364798   \n",
              "2 -0.095484 -0.812229  10.364889   11.075212 -6.963205  0.770221 -0.752728   \n",
              "3 -0.297605 -0.485614   2.500587   14.892070 -8.467421  2.675338 -0.547849   \n",
              "4 -0.157815 -0.620434   8.861286    3.783483 -5.889774  1.317669 -0.632952   \n",
              "\n",
              "   neo  pha  \n",
              "0  0.0  0.0  \n",
              "1  0.0  0.0  \n",
              "2  0.0  0.0  \n",
              "3  0.0  0.0  \n",
              "4  0.0  0.0  "
            ],
            "text/html": [
              "\n",
              "  <div id=\"df-52c9d556-e01d-49d9-be20-72709f918663\">\n",
              "    <div class=\"colab-df-container\">\n",
              "      <div>\n",
              "<style scoped>\n",
              "    .dataframe tbody tr th:only-of-type {\n",
              "        vertical-align: middle;\n",
              "    }\n",
              "\n",
              "    .dataframe tbody tr th {\n",
              "        vertical-align: top;\n",
              "    }\n",
              "\n",
              "    .dataframe thead th {\n",
              "        text-align: right;\n",
              "    }\n",
              "</style>\n",
              "<table border=\"1\" class=\"dataframe\">\n",
              "  <thead>\n",
              "    <tr style=\"text-align: right;\">\n",
              "      <th></th>\n",
              "      <th>a</th>\n",
              "      <th>q</th>\n",
              "      <th>data_arc</th>\n",
              "      <th>n_obs_used</th>\n",
              "      <th>H</th>\n",
              "      <th>albedo</th>\n",
              "      <th>moid</th>\n",
              "      <th>neo</th>\n",
              "      <th>pha</th>\n",
              "    </tr>\n",
              "  </thead>\n",
              "  <tbody>\n",
              "    <tr>\n",
              "      <th>0</th>\n",
              "      <td>-0.029792</td>\n",
              "      <td>0.302503</td>\n",
              "      <td>-0.012622</td>\n",
              "      <td>0.588733</td>\n",
              "      <td>-8.368553</td>\n",
              "      <td>-0.361170</td>\n",
              "      <td>0.341052</td>\n",
              "      <td>0.0</td>\n",
              "      <td>0.0</td>\n",
              "    </tr>\n",
              "    <tr>\n",
              "      <th>1</th>\n",
              "      <td>-0.027624</td>\n",
              "      <td>-0.520575</td>\n",
              "      <td>10.305415</td>\n",
              "      <td>13.457097</td>\n",
              "      <td>-7.810651</td>\n",
              "      <td>-0.260805</td>\n",
              "      <td>-0.364798</td>\n",
              "      <td>0.0</td>\n",
              "      <td>0.0</td>\n",
              "    </tr>\n",
              "    <tr>\n",
              "      <th>2</th>\n",
              "      <td>-0.095484</td>\n",
              "      <td>-0.812229</td>\n",
              "      <td>10.364889</td>\n",
              "      <td>11.075212</td>\n",
              "      <td>-6.963205</td>\n",
              "      <td>0.770221</td>\n",
              "      <td>-0.752728</td>\n",
              "      <td>0.0</td>\n",
              "      <td>0.0</td>\n",
              "    </tr>\n",
              "    <tr>\n",
              "      <th>3</th>\n",
              "      <td>-0.297605</td>\n",
              "      <td>-0.485614</td>\n",
              "      <td>2.500587</td>\n",
              "      <td>14.892070</td>\n",
              "      <td>-8.467421</td>\n",
              "      <td>2.675338</td>\n",
              "      <td>-0.547849</td>\n",
              "      <td>0.0</td>\n",
              "      <td>0.0</td>\n",
              "    </tr>\n",
              "    <tr>\n",
              "      <th>4</th>\n",
              "      <td>-0.157815</td>\n",
              "      <td>-0.620434</td>\n",
              "      <td>8.861286</td>\n",
              "      <td>3.783483</td>\n",
              "      <td>-5.889774</td>\n",
              "      <td>1.317669</td>\n",
              "      <td>-0.632952</td>\n",
              "      <td>0.0</td>\n",
              "      <td>0.0</td>\n",
              "    </tr>\n",
              "  </tbody>\n",
              "</table>\n",
              "</div>\n",
              "      <button class=\"colab-df-convert\" onclick=\"convertToInteractive('df-52c9d556-e01d-49d9-be20-72709f918663')\"\n",
              "              title=\"Convert this dataframe to an interactive table.\"\n",
              "              style=\"display:none;\">\n",
              "        \n",
              "  <svg xmlns=\"http://www.w3.org/2000/svg\" height=\"24px\"viewBox=\"0 0 24 24\"\n",
              "       width=\"24px\">\n",
              "    <path d=\"M0 0h24v24H0V0z\" fill=\"none\"/>\n",
              "    <path d=\"M18.56 5.44l.94 2.06.94-2.06 2.06-.94-2.06-.94-.94-2.06-.94 2.06-2.06.94zm-11 1L8.5 8.5l.94-2.06 2.06-.94-2.06-.94L8.5 2.5l-.94 2.06-2.06.94zm10 10l.94 2.06.94-2.06 2.06-.94-2.06-.94-.94-2.06-.94 2.06-2.06.94z\"/><path d=\"M17.41 7.96l-1.37-1.37c-.4-.4-.92-.59-1.43-.59-.52 0-1.04.2-1.43.59L10.3 9.45l-7.72 7.72c-.78.78-.78 2.05 0 2.83L4 21.41c.39.39.9.59 1.41.59.51 0 1.02-.2 1.41-.59l7.78-7.78 2.81-2.81c.8-.78.8-2.07 0-2.86zM5.41 20L4 18.59l7.72-7.72 1.47 1.35L5.41 20z\"/>\n",
              "  </svg>\n",
              "      </button>\n",
              "      \n",
              "  <style>\n",
              "    .colab-df-container {\n",
              "      display:flex;\n",
              "      flex-wrap:wrap;\n",
              "      gap: 12px;\n",
              "    }\n",
              "\n",
              "    .colab-df-convert {\n",
              "      background-color: #E8F0FE;\n",
              "      border: none;\n",
              "      border-radius: 50%;\n",
              "      cursor: pointer;\n",
              "      display: none;\n",
              "      fill: #1967D2;\n",
              "      height: 32px;\n",
              "      padding: 0 0 0 0;\n",
              "      width: 32px;\n",
              "    }\n",
              "\n",
              "    .colab-df-convert:hover {\n",
              "      background-color: #E2EBFA;\n",
              "      box-shadow: 0px 1px 2px rgba(60, 64, 67, 0.3), 0px 1px 3px 1px rgba(60, 64, 67, 0.15);\n",
              "      fill: #174EA6;\n",
              "    }\n",
              "\n",
              "    [theme=dark] .colab-df-convert {\n",
              "      background-color: #3B4455;\n",
              "      fill: #D2E3FC;\n",
              "    }\n",
              "\n",
              "    [theme=dark] .colab-df-convert:hover {\n",
              "      background-color: #434B5C;\n",
              "      box-shadow: 0px 1px 3px 1px rgba(0, 0, 0, 0.15);\n",
              "      filter: drop-shadow(0px 1px 2px rgba(0, 0, 0, 0.3));\n",
              "      fill: #FFFFFF;\n",
              "    }\n",
              "  </style>\n",
              "\n",
              "      <script>\n",
              "        const buttonEl =\n",
              "          document.querySelector('#df-52c9d556-e01d-49d9-be20-72709f918663 button.colab-df-convert');\n",
              "        buttonEl.style.display =\n",
              "          google.colab.kernel.accessAllowed ? 'block' : 'none';\n",
              "\n",
              "        async function convertToInteractive(key) {\n",
              "          const element = document.querySelector('#df-52c9d556-e01d-49d9-be20-72709f918663');\n",
              "          const dataTable =\n",
              "            await google.colab.kernel.invokeFunction('convertToInteractive',\n",
              "                                                     [key], {});\n",
              "          if (!dataTable) return;\n",
              "\n",
              "          const docLinkHtml = 'Like what you see? Visit the ' +\n",
              "            '<a target=\"_blank\" href=https://colab.research.google.com/notebooks/data_table.ipynb>data table notebook</a>'\n",
              "            + ' to learn more about interactive tables.';\n",
              "          element.innerHTML = '';\n",
              "          dataTable['output_type'] = 'display_data';\n",
              "          await google.colab.output.renderOutput(dataTable, element);\n",
              "          const docLink = document.createElement('div');\n",
              "          docLink.innerHTML = docLinkHtml;\n",
              "          element.appendChild(docLink);\n",
              "        }\n",
              "      </script>\n",
              "    </div>\n",
              "  </div>\n",
              "  "
            ]
          },
          "metadata": {},
          "execution_count": 16
        }
      ]
    },
    {
      "cell_type": "markdown",
      "metadata": {
        "id": "8a9vhRy8u3rJ"
      },
      "source": [
        "* Test Data"
      ]
    },
    {
      "cell_type": "code",
      "execution_count": null,
      "metadata": {
        "colab": {
          "base_uri": "https://localhost:8080/",
          "height": 206
        },
        "id": "5glM7d_Fu5Uj",
        "outputId": "cc4c74c0-5974-4520-f1be-59a6b55a2260"
      },
      "outputs": [
        {
          "output_type": "execute_result",
          "data": {
            "text/plain": [
              "          a         q  data_arc  n_obs_used         H    albedo      moid  \\\n",
              "0 -0.318625 -1.029335 -0.275750   -0.610052  0.925903  1.675331 -1.093568   \n",
              "1  0.119695  0.170960 -0.271366   -0.246037  0.007970 -0.526874  0.179751   \n",
              "2  0.022270 -0.270871 -1.447034   -1.107998  1.137734 -0.645665 -0.254651   \n",
              "3  0.099376  1.026296 -0.256913    0.627943 -0.909964  0.386904  1.002517   \n",
              "4  0.172358 -0.198264 -0.397864    0.210699 -0.556912 -0.536012 -0.168756   \n",
              "\n",
              "   neo  pha  \n",
              "0  0.0  0.0  \n",
              "1  0.0  0.0  \n",
              "2  0.0  0.0  \n",
              "3  0.0  0.0  \n",
              "4  0.0  0.0  "
            ],
            "text/html": [
              "\n",
              "  <div id=\"df-11ec0fb8-58f0-49fe-8a7b-73d5b981efe4\">\n",
              "    <div class=\"colab-df-container\">\n",
              "      <div>\n",
              "<style scoped>\n",
              "    .dataframe tbody tr th:only-of-type {\n",
              "        vertical-align: middle;\n",
              "    }\n",
              "\n",
              "    .dataframe tbody tr th {\n",
              "        vertical-align: top;\n",
              "    }\n",
              "\n",
              "    .dataframe thead th {\n",
              "        text-align: right;\n",
              "    }\n",
              "</style>\n",
              "<table border=\"1\" class=\"dataframe\">\n",
              "  <thead>\n",
              "    <tr style=\"text-align: right;\">\n",
              "      <th></th>\n",
              "      <th>a</th>\n",
              "      <th>q</th>\n",
              "      <th>data_arc</th>\n",
              "      <th>n_obs_used</th>\n",
              "      <th>H</th>\n",
              "      <th>albedo</th>\n",
              "      <th>moid</th>\n",
              "      <th>neo</th>\n",
              "      <th>pha</th>\n",
              "    </tr>\n",
              "  </thead>\n",
              "  <tbody>\n",
              "    <tr>\n",
              "      <th>0</th>\n",
              "      <td>-0.318625</td>\n",
              "      <td>-1.029335</td>\n",
              "      <td>-0.275750</td>\n",
              "      <td>-0.610052</td>\n",
              "      <td>0.925903</td>\n",
              "      <td>1.675331</td>\n",
              "      <td>-1.093568</td>\n",
              "      <td>0.0</td>\n",
              "      <td>0.0</td>\n",
              "    </tr>\n",
              "    <tr>\n",
              "      <th>1</th>\n",
              "      <td>0.119695</td>\n",
              "      <td>0.170960</td>\n",
              "      <td>-0.271366</td>\n",
              "      <td>-0.246037</td>\n",
              "      <td>0.007970</td>\n",
              "      <td>-0.526874</td>\n",
              "      <td>0.179751</td>\n",
              "      <td>0.0</td>\n",
              "      <td>0.0</td>\n",
              "    </tr>\n",
              "    <tr>\n",
              "      <th>2</th>\n",
              "      <td>0.022270</td>\n",
              "      <td>-0.270871</td>\n",
              "      <td>-1.447034</td>\n",
              "      <td>-1.107998</td>\n",
              "      <td>1.137734</td>\n",
              "      <td>-0.645665</td>\n",
              "      <td>-0.254651</td>\n",
              "      <td>0.0</td>\n",
              "      <td>0.0</td>\n",
              "    </tr>\n",
              "    <tr>\n",
              "      <th>3</th>\n",
              "      <td>0.099376</td>\n",
              "      <td>1.026296</td>\n",
              "      <td>-0.256913</td>\n",
              "      <td>0.627943</td>\n",
              "      <td>-0.909964</td>\n",
              "      <td>0.386904</td>\n",
              "      <td>1.002517</td>\n",
              "      <td>0.0</td>\n",
              "      <td>0.0</td>\n",
              "    </tr>\n",
              "    <tr>\n",
              "      <th>4</th>\n",
              "      <td>0.172358</td>\n",
              "      <td>-0.198264</td>\n",
              "      <td>-0.397864</td>\n",
              "      <td>0.210699</td>\n",
              "      <td>-0.556912</td>\n",
              "      <td>-0.536012</td>\n",
              "      <td>-0.168756</td>\n",
              "      <td>0.0</td>\n",
              "      <td>0.0</td>\n",
              "    </tr>\n",
              "  </tbody>\n",
              "</table>\n",
              "</div>\n",
              "      <button class=\"colab-df-convert\" onclick=\"convertToInteractive('df-11ec0fb8-58f0-49fe-8a7b-73d5b981efe4')\"\n",
              "              title=\"Convert this dataframe to an interactive table.\"\n",
              "              style=\"display:none;\">\n",
              "        \n",
              "  <svg xmlns=\"http://www.w3.org/2000/svg\" height=\"24px\"viewBox=\"0 0 24 24\"\n",
              "       width=\"24px\">\n",
              "    <path d=\"M0 0h24v24H0V0z\" fill=\"none\"/>\n",
              "    <path d=\"M18.56 5.44l.94 2.06.94-2.06 2.06-.94-2.06-.94-.94-2.06-.94 2.06-2.06.94zm-11 1L8.5 8.5l.94-2.06 2.06-.94-2.06-.94L8.5 2.5l-.94 2.06-2.06.94zm10 10l.94 2.06.94-2.06 2.06-.94-2.06-.94-.94-2.06-.94 2.06-2.06.94z\"/><path d=\"M17.41 7.96l-1.37-1.37c-.4-.4-.92-.59-1.43-.59-.52 0-1.04.2-1.43.59L10.3 9.45l-7.72 7.72c-.78.78-.78 2.05 0 2.83L4 21.41c.39.39.9.59 1.41.59.51 0 1.02-.2 1.41-.59l7.78-7.78 2.81-2.81c.8-.78.8-2.07 0-2.86zM5.41 20L4 18.59l7.72-7.72 1.47 1.35L5.41 20z\"/>\n",
              "  </svg>\n",
              "      </button>\n",
              "      \n",
              "  <style>\n",
              "    .colab-df-container {\n",
              "      display:flex;\n",
              "      flex-wrap:wrap;\n",
              "      gap: 12px;\n",
              "    }\n",
              "\n",
              "    .colab-df-convert {\n",
              "      background-color: #E8F0FE;\n",
              "      border: none;\n",
              "      border-radius: 50%;\n",
              "      cursor: pointer;\n",
              "      display: none;\n",
              "      fill: #1967D2;\n",
              "      height: 32px;\n",
              "      padding: 0 0 0 0;\n",
              "      width: 32px;\n",
              "    }\n",
              "\n",
              "    .colab-df-convert:hover {\n",
              "      background-color: #E2EBFA;\n",
              "      box-shadow: 0px 1px 2px rgba(60, 64, 67, 0.3), 0px 1px 3px 1px rgba(60, 64, 67, 0.15);\n",
              "      fill: #174EA6;\n",
              "    }\n",
              "\n",
              "    [theme=dark] .colab-df-convert {\n",
              "      background-color: #3B4455;\n",
              "      fill: #D2E3FC;\n",
              "    }\n",
              "\n",
              "    [theme=dark] .colab-df-convert:hover {\n",
              "      background-color: #434B5C;\n",
              "      box-shadow: 0px 1px 3px 1px rgba(0, 0, 0, 0.15);\n",
              "      filter: drop-shadow(0px 1px 2px rgba(0, 0, 0, 0.3));\n",
              "      fill: #FFFFFF;\n",
              "    }\n",
              "  </style>\n",
              "\n",
              "      <script>\n",
              "        const buttonEl =\n",
              "          document.querySelector('#df-11ec0fb8-58f0-49fe-8a7b-73d5b981efe4 button.colab-df-convert');\n",
              "        buttonEl.style.display =\n",
              "          google.colab.kernel.accessAllowed ? 'block' : 'none';\n",
              "\n",
              "        async function convertToInteractive(key) {\n",
              "          const element = document.querySelector('#df-11ec0fb8-58f0-49fe-8a7b-73d5b981efe4');\n",
              "          const dataTable =\n",
              "            await google.colab.kernel.invokeFunction('convertToInteractive',\n",
              "                                                     [key], {});\n",
              "          if (!dataTable) return;\n",
              "\n",
              "          const docLinkHtml = 'Like what you see? Visit the ' +\n",
              "            '<a target=\"_blank\" href=https://colab.research.google.com/notebooks/data_table.ipynb>data table notebook</a>'\n",
              "            + ' to learn more about interactive tables.';\n",
              "          element.innerHTML = '';\n",
              "          dataTable['output_type'] = 'display_data';\n",
              "          await google.colab.output.renderOutput(dataTable, element);\n",
              "          const docLink = document.createElement('div');\n",
              "          docLink.innerHTML = docLinkHtml;\n",
              "          element.appendChild(docLink);\n",
              "        }\n",
              "      </script>\n",
              "    </div>\n",
              "  </div>\n",
              "  "
            ]
          },
          "metadata": {},
          "execution_count": 27
        }
      ],
      "source": [
        "xte=xte_norm[['a','q','data_arc','n_obs_used','H','albedo','moid']]\n",
        "xte['neo']=xte_neo_encode\n",
        "xte['pha']=xte_pha_encode\n",
        "xte.head(5)"
      ]
    },
    {
      "cell_type": "code",
      "source": [
        "# for missing diameter values\n",
        "x_test=x_test_norm[['a','q','data_arc','n_obs_used','H','albedo','moid']]\n",
        "x_test['neo']=x_test_neo_encode\n",
        "x_test['pha']=x_test_pha_encode\n",
        "print(x_test.shape)\n",
        "x_test.head(5)"
      ],
      "metadata": {
        "colab": {
          "base_uri": "https://localhost:8080/",
          "height": 223
        },
        "id": "7Kb3ldbQYONg",
        "outputId": "504ba35d-5e29-449c-eee0-7274b6f58ab1"
      },
      "execution_count": 17,
      "outputs": [
        {
          "output_type": "stream",
          "name": "stdout",
          "text": [
            "(702055, 9)\n"
          ]
        },
        {
          "output_type": "execute_result",
          "data": {
            "text/plain": [
              "          a         q  data_arc  n_obs_used         H   albedo      moid  neo  \\\n",
              "0 -0.105408 -0.397108  5.067909    2.492866 -2.111580 -0.47066 -0.399530  0.0   \n",
              "1 -0.133678 -1.671668  5.466519    2.599415 -2.450558 -0.47066 -1.553292  0.0   \n",
              "2 -0.115431 -2.335321  4.968947    2.003084  0.148275 -0.47066 -2.375477  1.0   \n",
              "3 -0.375146 -1.079947  4.909473    2.618319 -0.981652 -0.47066 -1.129684  0.0   \n",
              "4 -0.351346 -1.164690  4.660362    1.717808 -0.981652 -0.47066 -1.214086  0.0   \n",
              "\n",
              "   pha  \n",
              "0  0.0  \n",
              "1  0.0  \n",
              "2  0.0  \n",
              "3  0.0  \n",
              "4  0.0  "
            ],
            "text/html": [
              "\n",
              "  <div id=\"df-0adddac1-a605-43fd-a2cd-1dcacbe52301\">\n",
              "    <div class=\"colab-df-container\">\n",
              "      <div>\n",
              "<style scoped>\n",
              "    .dataframe tbody tr th:only-of-type {\n",
              "        vertical-align: middle;\n",
              "    }\n",
              "\n",
              "    .dataframe tbody tr th {\n",
              "        vertical-align: top;\n",
              "    }\n",
              "\n",
              "    .dataframe thead th {\n",
              "        text-align: right;\n",
              "    }\n",
              "</style>\n",
              "<table border=\"1\" class=\"dataframe\">\n",
              "  <thead>\n",
              "    <tr style=\"text-align: right;\">\n",
              "      <th></th>\n",
              "      <th>a</th>\n",
              "      <th>q</th>\n",
              "      <th>data_arc</th>\n",
              "      <th>n_obs_used</th>\n",
              "      <th>H</th>\n",
              "      <th>albedo</th>\n",
              "      <th>moid</th>\n",
              "      <th>neo</th>\n",
              "      <th>pha</th>\n",
              "    </tr>\n",
              "  </thead>\n",
              "  <tbody>\n",
              "    <tr>\n",
              "      <th>0</th>\n",
              "      <td>-0.105408</td>\n",
              "      <td>-0.397108</td>\n",
              "      <td>5.067909</td>\n",
              "      <td>2.492866</td>\n",
              "      <td>-2.111580</td>\n",
              "      <td>-0.47066</td>\n",
              "      <td>-0.399530</td>\n",
              "      <td>0.0</td>\n",
              "      <td>0.0</td>\n",
              "    </tr>\n",
              "    <tr>\n",
              "      <th>1</th>\n",
              "      <td>-0.133678</td>\n",
              "      <td>-1.671668</td>\n",
              "      <td>5.466519</td>\n",
              "      <td>2.599415</td>\n",
              "      <td>-2.450558</td>\n",
              "      <td>-0.47066</td>\n",
              "      <td>-1.553292</td>\n",
              "      <td>0.0</td>\n",
              "      <td>0.0</td>\n",
              "    </tr>\n",
              "    <tr>\n",
              "      <th>2</th>\n",
              "      <td>-0.115431</td>\n",
              "      <td>-2.335321</td>\n",
              "      <td>4.968947</td>\n",
              "      <td>2.003084</td>\n",
              "      <td>0.148275</td>\n",
              "      <td>-0.47066</td>\n",
              "      <td>-2.375477</td>\n",
              "      <td>1.0</td>\n",
              "      <td>0.0</td>\n",
              "    </tr>\n",
              "    <tr>\n",
              "      <th>3</th>\n",
              "      <td>-0.375146</td>\n",
              "      <td>-1.079947</td>\n",
              "      <td>4.909473</td>\n",
              "      <td>2.618319</td>\n",
              "      <td>-0.981652</td>\n",
              "      <td>-0.47066</td>\n",
              "      <td>-1.129684</td>\n",
              "      <td>0.0</td>\n",
              "      <td>0.0</td>\n",
              "    </tr>\n",
              "    <tr>\n",
              "      <th>4</th>\n",
              "      <td>-0.351346</td>\n",
              "      <td>-1.164690</td>\n",
              "      <td>4.660362</td>\n",
              "      <td>1.717808</td>\n",
              "      <td>-0.981652</td>\n",
              "      <td>-0.47066</td>\n",
              "      <td>-1.214086</td>\n",
              "      <td>0.0</td>\n",
              "      <td>0.0</td>\n",
              "    </tr>\n",
              "  </tbody>\n",
              "</table>\n",
              "</div>\n",
              "      <button class=\"colab-df-convert\" onclick=\"convertToInteractive('df-0adddac1-a605-43fd-a2cd-1dcacbe52301')\"\n",
              "              title=\"Convert this dataframe to an interactive table.\"\n",
              "              style=\"display:none;\">\n",
              "        \n",
              "  <svg xmlns=\"http://www.w3.org/2000/svg\" height=\"24px\"viewBox=\"0 0 24 24\"\n",
              "       width=\"24px\">\n",
              "    <path d=\"M0 0h24v24H0V0z\" fill=\"none\"/>\n",
              "    <path d=\"M18.56 5.44l.94 2.06.94-2.06 2.06-.94-2.06-.94-.94-2.06-.94 2.06-2.06.94zm-11 1L8.5 8.5l.94-2.06 2.06-.94-2.06-.94L8.5 2.5l-.94 2.06-2.06.94zm10 10l.94 2.06.94-2.06 2.06-.94-2.06-.94-.94-2.06-.94 2.06-2.06.94z\"/><path d=\"M17.41 7.96l-1.37-1.37c-.4-.4-.92-.59-1.43-.59-.52 0-1.04.2-1.43.59L10.3 9.45l-7.72 7.72c-.78.78-.78 2.05 0 2.83L4 21.41c.39.39.9.59 1.41.59.51 0 1.02-.2 1.41-.59l7.78-7.78 2.81-2.81c.8-.78.8-2.07 0-2.86zM5.41 20L4 18.59l7.72-7.72 1.47 1.35L5.41 20z\"/>\n",
              "  </svg>\n",
              "      </button>\n",
              "      \n",
              "  <style>\n",
              "    .colab-df-container {\n",
              "      display:flex;\n",
              "      flex-wrap:wrap;\n",
              "      gap: 12px;\n",
              "    }\n",
              "\n",
              "    .colab-df-convert {\n",
              "      background-color: #E8F0FE;\n",
              "      border: none;\n",
              "      border-radius: 50%;\n",
              "      cursor: pointer;\n",
              "      display: none;\n",
              "      fill: #1967D2;\n",
              "      height: 32px;\n",
              "      padding: 0 0 0 0;\n",
              "      width: 32px;\n",
              "    }\n",
              "\n",
              "    .colab-df-convert:hover {\n",
              "      background-color: #E2EBFA;\n",
              "      box-shadow: 0px 1px 2px rgba(60, 64, 67, 0.3), 0px 1px 3px 1px rgba(60, 64, 67, 0.15);\n",
              "      fill: #174EA6;\n",
              "    }\n",
              "\n",
              "    [theme=dark] .colab-df-convert {\n",
              "      background-color: #3B4455;\n",
              "      fill: #D2E3FC;\n",
              "    }\n",
              "\n",
              "    [theme=dark] .colab-df-convert:hover {\n",
              "      background-color: #434B5C;\n",
              "      box-shadow: 0px 1px 3px 1px rgba(0, 0, 0, 0.15);\n",
              "      filter: drop-shadow(0px 1px 2px rgba(0, 0, 0, 0.3));\n",
              "      fill: #FFFFFF;\n",
              "    }\n",
              "  </style>\n",
              "\n",
              "      <script>\n",
              "        const buttonEl =\n",
              "          document.querySelector('#df-0adddac1-a605-43fd-a2cd-1dcacbe52301 button.colab-df-convert');\n",
              "        buttonEl.style.display =\n",
              "          google.colab.kernel.accessAllowed ? 'block' : 'none';\n",
              "\n",
              "        async function convertToInteractive(key) {\n",
              "          const element = document.querySelector('#df-0adddac1-a605-43fd-a2cd-1dcacbe52301');\n",
              "          const dataTable =\n",
              "            await google.colab.kernel.invokeFunction('convertToInteractive',\n",
              "                                                     [key], {});\n",
              "          if (!dataTable) return;\n",
              "\n",
              "          const docLinkHtml = 'Like what you see? Visit the ' +\n",
              "            '<a target=\"_blank\" href=https://colab.research.google.com/notebooks/data_table.ipynb>data table notebook</a>'\n",
              "            + ' to learn more about interactive tables.';\n",
              "          element.innerHTML = '';\n",
              "          dataTable['output_type'] = 'display_data';\n",
              "          await google.colab.output.renderOutput(dataTable, element);\n",
              "          const docLink = document.createElement('div');\n",
              "          docLink.innerHTML = docLinkHtml;\n",
              "          element.appendChild(docLink);\n",
              "        }\n",
              "      </script>\n",
              "    </div>\n",
              "  </div>\n",
              "  "
            ]
          },
          "metadata": {},
          "execution_count": 17
        }
      ]
    },
    {
      "cell_type": "markdown",
      "source": [
        "* Validation Data"
      ],
      "metadata": {
        "id": "Dve3_uDxZnY3"
      }
    },
    {
      "cell_type": "code",
      "source": [
        "xcv=xcv_norm[['a','q','data_arc','n_obs_used','H','albedo','moid']]\n",
        "xcv['neo']=xcv_neo_encode\n",
        "xcv['pha']=xcv_pha_encode\n",
        "xcv.head(5)"
      ],
      "metadata": {
        "colab": {
          "base_uri": "https://localhost:8080/",
          "height": 206
        },
        "id": "cpaPSN9NZpc3",
        "outputId": "7fb87374-6dae-4d2d-fc51-53601ee4ce75"
      },
      "execution_count": null,
      "outputs": [
        {
          "output_type": "execute_result",
          "data": {
            "text/plain": [
              "          a         q  data_arc  n_obs_used         H    albedo      moid  \\\n",
              "0 -0.311660 -1.147161 -0.276724   -0.536219  0.784683 -0.855834 -1.145684   \n",
              "1 -0.197834 -0.152285 -0.404846   -0.682169  0.855293 -0.618252 -0.176829   \n",
              "2 -0.320636 -0.884338  2.653353    2.597402 -0.627523  1.757572 -0.932238   \n",
              "3 -0.365295 -0.468528  0.960001    1.024582 -0.133251  3.603403 -0.476485   \n",
              "4 -0.155190 -0.495946 -0.108656    0.226152  0.149190  1.318958 -0.491498   \n",
              "\n",
              "   neo  pha  \n",
              "0  0.0  0.0  \n",
              "1  0.0  0.0  \n",
              "2  0.0  0.0  \n",
              "3  0.0  0.0  \n",
              "4  0.0  0.0  "
            ],
            "text/html": [
              "\n",
              "  <div id=\"df-c6614f3c-0a67-47aa-a0bd-fa4eabf6e201\">\n",
              "    <div class=\"colab-df-container\">\n",
              "      <div>\n",
              "<style scoped>\n",
              "    .dataframe tbody tr th:only-of-type {\n",
              "        vertical-align: middle;\n",
              "    }\n",
              "\n",
              "    .dataframe tbody tr th {\n",
              "        vertical-align: top;\n",
              "    }\n",
              "\n",
              "    .dataframe thead th {\n",
              "        text-align: right;\n",
              "    }\n",
              "</style>\n",
              "<table border=\"1\" class=\"dataframe\">\n",
              "  <thead>\n",
              "    <tr style=\"text-align: right;\">\n",
              "      <th></th>\n",
              "      <th>a</th>\n",
              "      <th>q</th>\n",
              "      <th>data_arc</th>\n",
              "      <th>n_obs_used</th>\n",
              "      <th>H</th>\n",
              "      <th>albedo</th>\n",
              "      <th>moid</th>\n",
              "      <th>neo</th>\n",
              "      <th>pha</th>\n",
              "    </tr>\n",
              "  </thead>\n",
              "  <tbody>\n",
              "    <tr>\n",
              "      <th>0</th>\n",
              "      <td>-0.311660</td>\n",
              "      <td>-1.147161</td>\n",
              "      <td>-0.276724</td>\n",
              "      <td>-0.536219</td>\n",
              "      <td>0.784683</td>\n",
              "      <td>-0.855834</td>\n",
              "      <td>-1.145684</td>\n",
              "      <td>0.0</td>\n",
              "      <td>0.0</td>\n",
              "    </tr>\n",
              "    <tr>\n",
              "      <th>1</th>\n",
              "      <td>-0.197834</td>\n",
              "      <td>-0.152285</td>\n",
              "      <td>-0.404846</td>\n",
              "      <td>-0.682169</td>\n",
              "      <td>0.855293</td>\n",
              "      <td>-0.618252</td>\n",
              "      <td>-0.176829</td>\n",
              "      <td>0.0</td>\n",
              "      <td>0.0</td>\n",
              "    </tr>\n",
              "    <tr>\n",
              "      <th>2</th>\n",
              "      <td>-0.320636</td>\n",
              "      <td>-0.884338</td>\n",
              "      <td>2.653353</td>\n",
              "      <td>2.597402</td>\n",
              "      <td>-0.627523</td>\n",
              "      <td>1.757572</td>\n",
              "      <td>-0.932238</td>\n",
              "      <td>0.0</td>\n",
              "      <td>0.0</td>\n",
              "    </tr>\n",
              "    <tr>\n",
              "      <th>3</th>\n",
              "      <td>-0.365295</td>\n",
              "      <td>-0.468528</td>\n",
              "      <td>0.960001</td>\n",
              "      <td>1.024582</td>\n",
              "      <td>-0.133251</td>\n",
              "      <td>3.603403</td>\n",
              "      <td>-0.476485</td>\n",
              "      <td>0.0</td>\n",
              "      <td>0.0</td>\n",
              "    </tr>\n",
              "    <tr>\n",
              "      <th>4</th>\n",
              "      <td>-0.155190</td>\n",
              "      <td>-0.495946</td>\n",
              "      <td>-0.108656</td>\n",
              "      <td>0.226152</td>\n",
              "      <td>0.149190</td>\n",
              "      <td>1.318958</td>\n",
              "      <td>-0.491498</td>\n",
              "      <td>0.0</td>\n",
              "      <td>0.0</td>\n",
              "    </tr>\n",
              "  </tbody>\n",
              "</table>\n",
              "</div>\n",
              "      <button class=\"colab-df-convert\" onclick=\"convertToInteractive('df-c6614f3c-0a67-47aa-a0bd-fa4eabf6e201')\"\n",
              "              title=\"Convert this dataframe to an interactive table.\"\n",
              "              style=\"display:none;\">\n",
              "        \n",
              "  <svg xmlns=\"http://www.w3.org/2000/svg\" height=\"24px\"viewBox=\"0 0 24 24\"\n",
              "       width=\"24px\">\n",
              "    <path d=\"M0 0h24v24H0V0z\" fill=\"none\"/>\n",
              "    <path d=\"M18.56 5.44l.94 2.06.94-2.06 2.06-.94-2.06-.94-.94-2.06-.94 2.06-2.06.94zm-11 1L8.5 8.5l.94-2.06 2.06-.94-2.06-.94L8.5 2.5l-.94 2.06-2.06.94zm10 10l.94 2.06.94-2.06 2.06-.94-2.06-.94-.94-2.06-.94 2.06-2.06.94z\"/><path d=\"M17.41 7.96l-1.37-1.37c-.4-.4-.92-.59-1.43-.59-.52 0-1.04.2-1.43.59L10.3 9.45l-7.72 7.72c-.78.78-.78 2.05 0 2.83L4 21.41c.39.39.9.59 1.41.59.51 0 1.02-.2 1.41-.59l7.78-7.78 2.81-2.81c.8-.78.8-2.07 0-2.86zM5.41 20L4 18.59l7.72-7.72 1.47 1.35L5.41 20z\"/>\n",
              "  </svg>\n",
              "      </button>\n",
              "      \n",
              "  <style>\n",
              "    .colab-df-container {\n",
              "      display:flex;\n",
              "      flex-wrap:wrap;\n",
              "      gap: 12px;\n",
              "    }\n",
              "\n",
              "    .colab-df-convert {\n",
              "      background-color: #E8F0FE;\n",
              "      border: none;\n",
              "      border-radius: 50%;\n",
              "      cursor: pointer;\n",
              "      display: none;\n",
              "      fill: #1967D2;\n",
              "      height: 32px;\n",
              "      padding: 0 0 0 0;\n",
              "      width: 32px;\n",
              "    }\n",
              "\n",
              "    .colab-df-convert:hover {\n",
              "      background-color: #E2EBFA;\n",
              "      box-shadow: 0px 1px 2px rgba(60, 64, 67, 0.3), 0px 1px 3px 1px rgba(60, 64, 67, 0.15);\n",
              "      fill: #174EA6;\n",
              "    }\n",
              "\n",
              "    [theme=dark] .colab-df-convert {\n",
              "      background-color: #3B4455;\n",
              "      fill: #D2E3FC;\n",
              "    }\n",
              "\n",
              "    [theme=dark] .colab-df-convert:hover {\n",
              "      background-color: #434B5C;\n",
              "      box-shadow: 0px 1px 3px 1px rgba(0, 0, 0, 0.15);\n",
              "      filter: drop-shadow(0px 1px 2px rgba(0, 0, 0, 0.3));\n",
              "      fill: #FFFFFF;\n",
              "    }\n",
              "  </style>\n",
              "\n",
              "      <script>\n",
              "        const buttonEl =\n",
              "          document.querySelector('#df-c6614f3c-0a67-47aa-a0bd-fa4eabf6e201 button.colab-df-convert');\n",
              "        buttonEl.style.display =\n",
              "          google.colab.kernel.accessAllowed ? 'block' : 'none';\n",
              "\n",
              "        async function convertToInteractive(key) {\n",
              "          const element = document.querySelector('#df-c6614f3c-0a67-47aa-a0bd-fa4eabf6e201');\n",
              "          const dataTable =\n",
              "            await google.colab.kernel.invokeFunction('convertToInteractive',\n",
              "                                                     [key], {});\n",
              "          if (!dataTable) return;\n",
              "\n",
              "          const docLinkHtml = 'Like what you see? Visit the ' +\n",
              "            '<a target=\"_blank\" href=https://colab.research.google.com/notebooks/data_table.ipynb>data table notebook</a>'\n",
              "            + ' to learn more about interactive tables.';\n",
              "          element.innerHTML = '';\n",
              "          dataTable['output_type'] = 'display_data';\n",
              "          await google.colab.output.renderOutput(dataTable, element);\n",
              "          const docLink = document.createElement('div');\n",
              "          docLink.innerHTML = docLinkHtml;\n",
              "          element.appendChild(docLink);\n",
              "        }\n",
              "      </script>\n",
              "    </div>\n",
              "  </div>\n",
              "  "
            ]
          },
          "metadata": {},
          "execution_count": 29
        }
      ]
    },
    {
      "cell_type": "markdown",
      "metadata": {
        "id": "OpgT6AWSvYvv"
      },
      "source": [
        "#### Building Models"
      ]
    },
    {
      "cell_type": "markdown",
      "metadata": {
        "id": "tJ6OTcIgJxJC"
      },
      "source": [
        "### Using R Squared as performance metric for the problem"
      ]
    },
    {
      "cell_type": "markdown",
      "metadata": {
        "id": "SAil-CvHveW4"
      },
      "source": [
        "* Linear Regression"
      ]
    },
    {
      "cell_type": "code",
      "execution_count": null,
      "metadata": {
        "colab": {
          "base_uri": "https://localhost:8080/"
        },
        "id": "3Cf08NZILd0U",
        "outputId": "608c585b-200e-44a4-debd-14d82b9c5a97"
      },
      "outputs": [
        {
          "output_type": "stream",
          "name": "stderr",
          "text": [
            "/usr/local/lib/python3.7/dist-packages/statsmodels/tools/_testing.py:19: FutureWarning: pandas.util.testing is deprecated. Use the functions in the public API at pandas.testing instead.\n",
            "  import pandas.util.testing as tm\n"
          ]
        },
        {
          "output_type": "stream",
          "name": "stdout",
          "text": [
            "    variables         VIF\n",
            "0           a    1.133476\n",
            "1           q  220.180090\n",
            "2    data_arc    2.534710\n",
            "3  n_obs_used    5.880809\n",
            "4           H    6.111423\n",
            "5      albedo    1.361707\n",
            "6        moid  224.130210\n",
            "7         neo    1.805184\n",
            "8         pha    1.297135\n"
          ]
        }
      ],
      "source": [
        "# Assumptions of multicollinearity\n",
        "from statsmodels.stats.outliers_influence import variance_inflation_factor\n",
        "def calc_vif(X):\n",
        "\n",
        "    # Calculating VIF\n",
        "    vif = pd.DataFrame()\n",
        "    vif[\"variables\"] = X.columns\n",
        "    vif[\"VIF\"] = [variance_inflation_factor(X.values, i) for i in range(X.shape[1])]\n",
        "\n",
        "    return(vif)\n",
        "\n",
        "print(calc_vif(xtr))"
      ]
    },
    {
      "cell_type": "markdown",
      "metadata": {
        "id": "zylzDKIUOzvH"
      },
      "source": [
        "After looking at the above observation, it can be concluded that:\n",
        "1. ‘q’ and ‘moid’ have a high VIF value, meaning they can be predicted by other independent variables in the dataset.\n",
        "2. VIF is preferred as it can show the correlation of a variable with a group of other variables.\n",
        "3. We can drop higher correlated features."
      ]
    },
    {
      "cell_type": "code",
      "execution_count": null,
      "metadata": {
        "id": "5gwW2b0hPw4Z"
      },
      "outputs": [],
      "source": [
        "xtr1=xtr.copy() # Will have highest correlated feature dropped\n",
        "xte1=xte.copy() # Will have highest correlated feature dropped\n",
        "xcv1=xcv.copy() # Will have highest correlated feature dropped"
      ]
    },
    {
      "cell_type": "code",
      "source": [
        "# for missing diameter values\n",
        "x_tr1=x_train.copy() # Will have highest correlated feature dropped\n",
        "x_te1=x_test.copy() # Will have highest correlated feature dropped"
      ],
      "metadata": {
        "id": "miUw4cTxZBUZ"
      },
      "execution_count": 18,
      "outputs": []
    },
    {
      "cell_type": "markdown",
      "metadata": {
        "id": "FamHDj4WQljz"
      },
      "source": [
        "#### Training the model for dropped correlated feature"
      ]
    },
    {
      "cell_type": "code",
      "execution_count": null,
      "metadata": {
        "id": "lOK5dMzyQOii"
      },
      "outputs": [],
      "source": [
        "\n",
        "xtr1.drop(columns=['moid'],axis=1,inplace=True)\n",
        "xte1.drop(columns=['moid'],axis=1,inplace=True)\n",
        "xcv1.drop(columns=['moid'],axis=1,inplace=True)"
      ]
    },
    {
      "cell_type": "code",
      "source": [
        "# for missing diameter values\n",
        "x_tr1.drop(columns=['moid'],axis=1,inplace=True)\n",
        "x_te1.drop(columns=['moid'],axis=1,inplace=True)"
      ],
      "metadata": {
        "id": "hMxFyYgPZLms"
      },
      "execution_count": 19,
      "outputs": []
    },
    {
      "cell_type": "code",
      "execution_count": null,
      "metadata": {
        "colab": {
          "base_uri": "https://localhost:8080/"
        },
        "id": "saGfDfKVQev0",
        "outputId": "79c22af8-ec51-4231-eccf-2ee64269b279"
      },
      "outputs": [
        {
          "output_type": "stream",
          "name": "stdout",
          "text": [
            "    variables       VIF\n",
            "0           a  1.133118\n",
            "1           q  2.173444\n",
            "2    data_arc  2.522083\n",
            "3  n_obs_used  5.552479\n",
            "4           H  5.670471\n",
            "5      albedo  1.361400\n",
            "6         neo  1.404608\n",
            "7         pha  1.296783\n"
          ]
        }
      ],
      "source": [
        "print(calc_vif(xtr1))"
      ]
    },
    {
      "cell_type": "code",
      "source": [
        "# for missing diameter values\n",
        "print(calc_vif(x_tr1))"
      ],
      "metadata": {
        "colab": {
          "base_uri": "https://localhost:8080/"
        },
        "id": "w6nJ4h8CZQNC",
        "outputId": "740c2adb-2cee-4116-f9d1-4fff64f398c0"
      },
      "execution_count": null,
      "outputs": [
        {
          "output_type": "stream",
          "name": "stdout",
          "text": [
            "    variables       VIF\n",
            "0           a  1.128233\n",
            "1           q  2.228755\n",
            "2    data_arc  2.506320\n",
            "3  n_obs_used  5.569443\n",
            "4           H  5.770094\n",
            "5      albedo  1.364866\n",
            "6         neo  1.445694\n",
            "7         pha  1.341693\n"
          ]
        }
      ]
    },
    {
      "cell_type": "code",
      "execution_count": null,
      "metadata": {
        "id": "vRe7RX1PvX4M"
      },
      "outputs": [],
      "source": [
        "lr=LinearRegression()\n",
        "lr.fit(xtr1,ytr)\n",
        "ypred=lr.predict(xte1)"
      ]
    },
    {
      "cell_type": "code",
      "execution_count": null,
      "metadata": {
        "colab": {
          "base_uri": "https://localhost:8080/"
        },
        "id": "dl3yMVGTwVu7",
        "outputId": "35821c02-a46d-48bc-88c6-66c6ce08dcba"
      },
      "outputs": [
        {
          "output_type": "stream",
          "name": "stdout",
          "text": [
            "R^2 of train data is :  0.443761567392878\n",
            "R^2 of test data is :  0.4003907440505936\n",
            "R^2 of validation data is :  0.4964776063301628\n"
          ]
        }
      ],
      "source": [
        "print(\"R^2 of train data is : \",lr.score(xtr1,ytr))\n",
        "print(\"R^2 of test data is : \",lr.score(xte1,yte))\n",
        "print(\"R^2 of validation data is : \",lr.score(xcv1,ycv))"
      ]
    },
    {
      "cell_type": "code",
      "source": [
        "# for missing diameter values\n",
        "lr=LinearRegression()\n",
        "lr.fit(x_tr1,y_train)\n",
        "ypred=lr.predict(x_te1)"
      ],
      "metadata": {
        "id": "bXaRfHwiZVm6"
      },
      "execution_count": 20,
      "outputs": []
    },
    {
      "cell_type": "code",
      "source": [
        "# for missing diameter values\n",
        "print(\"R^2 value is : \",lr.score(x_tr1,y_train))"
      ],
      "metadata": {
        "colab": {
          "base_uri": "https://localhost:8080/"
        },
        "id": "gKLQe6U0ZqGQ",
        "outputId": "e44fe3d2-c579-4c38-b0ed-1fd084d3928c"
      },
      "execution_count": 21,
      "outputs": [
        {
          "output_type": "stream",
          "name": "stdout",
          "text": [
            "R^2 value is :  0.43944935293366716\n"
          ]
        }
      ]
    },
    {
      "cell_type": "markdown",
      "metadata": {
        "id": "yjqsNcHuxg7z"
      },
      "source": [
        "* Ridge Regression"
      ]
    },
    {
      "cell_type": "code",
      "execution_count": null,
      "metadata": {
        "colab": {
          "base_uri": "https://localhost:8080/"
        },
        "id": "zB1KFFq9S90Q",
        "outputId": "ebf76e3c-00a4-46b5-fb96-2e633ce1167d"
      },
      "outputs": [
        {
          "output_type": "stream",
          "name": "stdout",
          "text": [
            "R Squared Error: 0.393\n",
            "Best Param: {'alpha': 0.001}\n"
          ]
        }
      ],
      "source": [
        "from numpy import arange\n",
        "from pandas import read_csv\n",
        "from sklearn.model_selection import GridSearchCV\n",
        "from sklearn.model_selection import RepeatedKFold\n",
        "from sklearn.linear_model import Ridge\n",
        "# load the dataset\n",
        "# define model\n",
        "model = Ridge()\n",
        "# define model evaluation method\n",
        "cv = RepeatedKFold(n_splits=10, n_repeats=3, random_state=1)\n",
        "# define grid\n",
        "grid = dict()\n",
        "grid['alpha'] = [0.001,0.01,0.1,1,10]\n",
        "# define search\n",
        "search = GridSearchCV(model, grid, scoring='r2', cv=cv, n_jobs=-1)\n",
        "# perform the search\n",
        "results = search.fit(xtr1, ytr)\n",
        "# summarize\n",
        "print('R Squared Error: %.3f' % results.best_score_)\n",
        "print('Best Param: %s' % results.best_params_)"
      ]
    },
    {
      "cell_type": "code",
      "source": [
        "rd=results.best_estimator_\n",
        "rd.fit(xtr1,ytr)"
      ],
      "metadata": {
        "colab": {
          "base_uri": "https://localhost:8080/"
        },
        "id": "NC5vozp0awKX",
        "outputId": "15e267bc-971e-46a7-b63c-a5372822b255"
      },
      "execution_count": null,
      "outputs": [
        {
          "output_type": "execute_result",
          "data": {
            "text/plain": [
              "Ridge(alpha=0.001)"
            ]
          },
          "metadata": {},
          "execution_count": 32
        }
      ]
    },
    {
      "cell_type": "code",
      "source": [
        "print(\"R^2 of train data is : \",rd.score(xtr1,ytr))\n",
        "print(\"R^2 of test data is : \",rd.score(xte1,yte))\n",
        "print(\"R^2 of validation data is : \",rd.score(xcv1,ycv))"
      ],
      "metadata": {
        "colab": {
          "base_uri": "https://localhost:8080/"
        },
        "id": "lHImARUqbEl9",
        "outputId": "0139a628-30f9-41ac-ad1d-db5f291500a5"
      },
      "execution_count": null,
      "outputs": [
        {
          "output_type": "stream",
          "name": "stdout",
          "text": [
            "R^2 of train data is :  0.4437615673928089\n",
            "R^2 of test data is :  0.40039074503627026\n",
            "R^2 of validation data is :  0.4964776057004572\n"
          ]
        }
      ]
    },
    {
      "cell_type": "code",
      "source": [
        "# for missing diameter values\n",
        "rd = Ridge(alpha=0.001)\n",
        "rd.fit(x_tr1,y_train)\n",
        "print(\"R^2 value is : \",rd.score(x_tr1,y_train))"
      ],
      "metadata": {
        "colab": {
          "base_uri": "https://localhost:8080/"
        },
        "id": "mK_dls7IaJWY",
        "outputId": "e2a7aaf7-99e2-41d9-eb8d-11f318cc7ad8"
      },
      "execution_count": 22,
      "outputs": [
        {
          "output_type": "stream",
          "name": "stdout",
          "text": [
            "R^2 value is :  0.4394493529336466\n"
          ]
        }
      ]
    },
    {
      "cell_type": "markdown",
      "metadata": {
        "id": "LA589g2D5lq-"
      },
      "source": [
        "* Lasso Regression"
      ]
    },
    {
      "cell_type": "code",
      "execution_count": null,
      "metadata": {
        "colab": {
          "base_uri": "https://localhost:8080/"
        },
        "id": "24IO3nvn5n7Z",
        "outputId": "d1c57989-039f-4939-c857-667c43f7a12a"
      },
      "outputs": [
        {
          "output_type": "stream",
          "name": "stdout",
          "text": [
            "R Squared : 0.412\n",
            "Best Params : {'alpha': 0.1}\n"
          ]
        }
      ],
      "source": [
        "# define model\n",
        "model = Lasso()\n",
        "# define model evaluation method\n",
        "cv = RepeatedKFold(n_splits=10, n_repeats=3, random_state=1)\n",
        "# define grid\n",
        "grid = dict()\n",
        "grid['alpha'] = [0.001,0.01,0.1,1,10]\n",
        "# define search\n",
        "search = GridSearchCV(model, grid, scoring='r2', cv=cv, n_jobs=-1)\n",
        "# perform the search\n",
        "results = search.fit(xtr1, ytr)\n",
        "# summarize\n",
        "print('R Squared : %.3f' % results.best_score_)\n",
        "print('Best Params : %s' % results.best_params_)"
      ]
    },
    {
      "cell_type": "code",
      "source": [
        "ls=results.best_estimator_\n",
        "ls.fit(xtr1,ytr)\n",
        "print(\"R^2 of train data is : \",ls.score(xtr1,ytr))\n",
        "print(\"R^2 of test data is : \",ls.score(xte1,yte))\n",
        "print(\"R^2 of validation data is : \",ls.score(xcv1,ycv))"
      ],
      "metadata": {
        "colab": {
          "base_uri": "https://localhost:8080/"
        },
        "id": "fXh6HTtXbY_L",
        "outputId": "fe6dcb07-eae3-4b72-f983-ea37ef6b1651"
      },
      "execution_count": null,
      "outputs": [
        {
          "output_type": "stream",
          "name": "stdout",
          "text": [
            "R^2 of train data is :  0.4342583181781601\n",
            "R^2 of test data is :  0.39384082265738307\n",
            "R^2 of validation data is :  0.4883625213478223\n"
          ]
        }
      ]
    },
    {
      "cell_type": "code",
      "source": [
        "# for missing diameter values\n",
        "ls=Lasso(alpha=0.1)\n",
        "ls.fit(x_tr1,y_train)\n",
        "print(\"R^2 value is : \",ls.score(x_tr1,y_train))"
      ],
      "metadata": {
        "colab": {
          "base_uri": "https://localhost:8080/"
        },
        "id": "GC42NIjSaVoH",
        "outputId": "831acaa9-4acc-4c55-822e-a00c0d0de604"
      },
      "execution_count": 23,
      "outputs": [
        {
          "output_type": "stream",
          "name": "stdout",
          "text": [
            "R^2 value is :  0.42916500696301507\n"
          ]
        }
      ]
    },
    {
      "cell_type": "markdown",
      "metadata": {
        "id": "QR4KvIpr2WzL"
      },
      "source": [
        "* Elastic Net"
      ]
    },
    {
      "cell_type": "code",
      "execution_count": null,
      "metadata": {
        "colab": {
          "base_uri": "https://localhost:8080/"
        },
        "id": "GWPiNPDQZZCV",
        "outputId": "ec918412-89be-4863-c1f8-1571a2372396"
      },
      "outputs": [
        {
          "output_type": "stream",
          "name": "stdout",
          "text": [
            "R Squared : 0.419\n",
            "Best Params : {'alpha': 0.1, 'l1_ratio': 0.0, 'max_iter': 100}\n"
          ]
        },
        {
          "output_type": "stream",
          "name": "stderr",
          "text": [
            "/usr/local/lib/python3.7/dist-packages/sklearn/linear_model/_coordinate_descent.py:648: ConvergenceWarning: Objective did not converge. You might want to increase the number of iterations, check the scale of the features or consider increasing regularisation. Duality gap: 2.005e+06, tolerance: 6.790e+02 Linear regression models with null weight for the l1 regularization term are more efficiently fitted using one of the solvers implemented in sklearn.linear_model.Ridge/RidgeCV instead.\n",
            "  coef_, l1_reg, l2_reg, X, y, max_iter, tol, rng, random, positive\n"
          ]
        }
      ],
      "source": [
        "# define model\n",
        "model = ElasticNet()\n",
        "# define model evaluation method\n",
        "cv = RepeatedKFold(n_splits=10, n_repeats=3, random_state=1)\n",
        "# define grid\n",
        "grid = dict()\n",
        "grid['alpha'] = [0.01,0.1,1,10]\n",
        "grid['max_iter']=[100,250,500]\n",
        "grid['l1_ratio']=arange(0, 1, 0.1)\n",
        "search = GridSearchCV(model, grid, scoring='r2', cv=cv, n_jobs=-1)\n",
        "# perform the search\n",
        "results = search.fit(xtr1, ytr)\n",
        "# summarize\n",
        "print('R Squared : %.3f' % results.best_score_)\n",
        "print('Best Params : %s' % results.best_params_)"
      ]
    },
    {
      "cell_type": "code",
      "source": [
        "el=results.best_estimator_\n",
        "el.fit(xtr1,ytr)\n",
        "print(\"R^2 of train data is : \",el.score(xtr1,ytr))\n",
        "print(\"R^2 of test data is : \",el.score(xte1,yte))\n",
        "print(\"R^2 of validation data is : \",el.score(xcv1,ycv))"
      ],
      "metadata": {
        "colab": {
          "base_uri": "https://localhost:8080/"
        },
        "id": "ZrcF5No-dEuW",
        "outputId": "6ba70d6b-0cbb-4af0-8ca3-e7bfa5509701"
      },
      "execution_count": null,
      "outputs": [
        {
          "output_type": "stream",
          "name": "stdout",
          "text": [
            "R^2 of train data is :  0.43317548101820436\n",
            "R^2 of test data is :  0.38968933506934433\n",
            "R^2 of validation data is :  0.48289225079795317\n"
          ]
        },
        {
          "output_type": "stream",
          "name": "stderr",
          "text": [
            "/usr/local/lib/python3.7/dist-packages/sklearn/linear_model/_coordinate_descent.py:648: ConvergenceWarning: Objective did not converge. You might want to increase the number of iterations, check the scale of the features or consider increasing regularisation. Duality gap: 2.005e+06, tolerance: 6.790e+02 Linear regression models with null weight for the l1 regularization term are more efficiently fitted using one of the solvers implemented in sklearn.linear_model.Ridge/RidgeCV instead.\n",
            "  coef_, l1_reg, l2_reg, X, y, max_iter, tol, rng, random, positive\n"
          ]
        }
      ]
    },
    {
      "cell_type": "code",
      "source": [
        "# for missing diameter values\n",
        "el=ElasticNet(alpha= 0.1, l1_ratio= 0.0, max_iter= 100)\n",
        "el.fit(x_tr1,y_train)\n",
        "print(\"R^2 value is : \",el.score(x_tr1,y_train))"
      ],
      "metadata": {
        "colab": {
          "base_uri": "https://localhost:8080/"
        },
        "id": "ky7qbbtlalYG",
        "outputId": "6bb497cb-f203-4037-c3b2-8dace11fd6f3"
      },
      "execution_count": 24,
      "outputs": [
        {
          "output_type": "stream",
          "name": "stdout",
          "text": [
            "R^2 value is :  0.427357544016027\n"
          ]
        },
        {
          "output_type": "stream",
          "name": "stderr",
          "text": [
            "/usr/local/lib/python3.7/dist-packages/sklearn/linear_model/_coordinate_descent.py:648: ConvergenceWarning: Objective did not converge. You might want to increase the number of iterations, check the scale of the features or consider increasing regularisation. Duality gap: 3.623e+06, tolerance: 1.212e+03 Linear regression models with null weight for the l1 regularization term are more efficiently fitted using one of the solvers implemented in sklearn.linear_model.Ridge/RidgeCV instead.\n",
            "  coef_, l1_reg, l2_reg, X, y, max_iter, tol, rng, random, positive\n"
          ]
        }
      ]
    },
    {
      "cell_type": "markdown",
      "source": [
        "* Adaboost Regressor"
      ],
      "metadata": {
        "id": "mqHoVHJtmJTu"
      }
    },
    {
      "cell_type": "code",
      "source": [
        "from sklearn.model_selection import RepeatedKFold,KFold,cross_val_score\n",
        "from sklearn.ensemble import AdaBoostRegressor\n",
        "ada=AdaBoostRegressor()\n",
        "# evaluate the model\n",
        "grid = dict()\n",
        "grid['n_estimators'] = [100, 250, 500]\n",
        "grid['learning_rate'] = [0.0001, 0.001]\n",
        "# define the grid search procedure\n",
        "grid_search = GridSearchCV(estimator=ada, param_grid=grid, n_jobs=-1, cv=10, scoring='r2',verbose=2)\n",
        "# execute the grid search\n",
        "grid_result = grid_search.fit(xtr, ytr)\n",
        "# summarize the best score and configuration\n",
        "print(\"Best: %f using %s\" % (grid_result.best_score_, grid_result.best_params_))"
      ],
      "metadata": {
        "colab": {
          "base_uri": "https://localhost:8080/"
        },
        "id": "uUpk69CrmLuP",
        "outputId": "6ee6d3e2-7dde-402a-9f1c-f5382976ba82"
      },
      "execution_count": null,
      "outputs": [
        {
          "output_type": "stream",
          "name": "stdout",
          "text": [
            "Fitting 10 folds for each of 6 candidates, totalling 60 fits\n",
            "Best: 0.835125 using {'learning_rate': 0.001, 'n_estimators': 500}\n"
          ]
        }
      ]
    },
    {
      "cell_type": "code",
      "source": [
        "ada=grid_result.best_estimator_\n",
        "ada.fit(xtr,ytr)\n",
        "print(\"R^2 of train model is : \",ada.score(xtr,ytr))\n",
        "print(\"R^2 of test model is : \",ada.score(xte,yte))\n",
        "print(\"R^2 of validation model is : \",ada.score(xcv,ycv))"
      ],
      "metadata": {
        "colab": {
          "base_uri": "https://localhost:8080/"
        },
        "id": "vRC2zsm7CwYW",
        "outputId": "e5016292-f31a-46df-99f9-fe0c3f7e07b7"
      },
      "execution_count": null,
      "outputs": [
        {
          "output_type": "stream",
          "name": "stdout",
          "text": [
            "R^2 of train model is :  0.879941896541697\n",
            "R^2 of test model is :  0.8351957465370801\n",
            "R^2 of validation model is :  0.8647748518272709\n"
          ]
        }
      ]
    },
    {
      "cell_type": "code",
      "source": [
        "xtr.shape"
      ],
      "metadata": {
        "colab": {
          "base_uri": "https://localhost:8080/"
        },
        "id": "jkTyc7Spbo8s",
        "outputId": "12d69aee-efb0-4f0f-d70c-8f9afbfa873f"
      },
      "execution_count": null,
      "outputs": [
        {
          "output_type": "execute_result",
          "data": {
            "text/plain": [
              "(73796, 9)"
            ]
          },
          "metadata": {},
          "execution_count": 76
        }
      ]
    },
    {
      "cell_type": "code",
      "source": [
        "# for missing diameter values\n",
        "from sklearn.ensemble import AdaBoostRegressor\n",
        "ada=AdaBoostRegressor(learning_rate= 0.001, n_estimators= 500)\n",
        "ada.fit(x_train,y_train)\n",
        "print(\"R^2 value is : \",ada.score(x_train,y_train))"
      ],
      "metadata": {
        "colab": {
          "base_uri": "https://localhost:8080/"
        },
        "id": "ks7CEwGmay7p",
        "outputId": "b482eb32-9d61-450f-e040-219daeb1d809"
      },
      "execution_count": 25,
      "outputs": [
        {
          "output_type": "stream",
          "name": "stdout",
          "text": [
            "R^2 value is :  0.8678820798050715\n"
          ]
        }
      ]
    },
    {
      "cell_type": "markdown",
      "metadata": {
        "id": "FSbfbi3_-vyT"
      },
      "source": [
        "* Random Forest Regressor"
      ]
    },
    {
      "cell_type": "code",
      "execution_count": null,
      "metadata": {
        "colab": {
          "base_uri": "https://localhost:8080/"
        },
        "id": "psn2TEs0-0cX",
        "outputId": "72cea657-af2a-457f-8ea7-24739482beb9"
      },
      "outputs": [
        {
          "output_type": "stream",
          "name": "stdout",
          "text": [
            "Fitting 10 folds for each of 6 candidates, totalling 60 fits\n",
            "R Squared : 0.940\n",
            "Best Params : {'max_depth': 5, 'n_estimators': 500}\n"
          ]
        }
      ],
      "source": [
        "param_grid = {\n",
        "    'max_depth': [3,5],\n",
        "    'n_estimators': [100,250,500]\n",
        "}\n",
        "# Create a based model\n",
        "rf = RandomForestRegressor()\n",
        "# Instantiate the grid search model\n",
        "grid_search = GridSearchCV(estimator = rf,scoring=\"r2\", param_grid = param_grid, \n",
        "                          cv = 10 , n_jobs = -1, verbose = 2)\n",
        "\n",
        "# Fit the grid search to the data\n",
        "grid_search.fit(xtr,ytr)\n",
        "print('R Squared : %.3f' % grid_search.best_score_)\n",
        "print('Best Params : %s' % grid_search.best_params_)"
      ]
    },
    {
      "cell_type": "code",
      "source": [
        "rf=grid_search.best_estimator_\n",
        "rf.fit(xtr,ytr)\n",
        "print(\"R^2 of train model is : \",rf.score(xtr,ytr))\n",
        "print(\"R^2 of test model is : \",rf.score(xte,yte))\n",
        "print(\"R^2 of validation model is : \",rf.score(xcv,ycv))"
      ],
      "metadata": {
        "colab": {
          "base_uri": "https://localhost:8080/"
        },
        "id": "spRWIXtBhgX9",
        "outputId": "e229dc6d-15e0-484b-e7f5-d5478f1b9e6c"
      },
      "execution_count": null,
      "outputs": [
        {
          "output_type": "stream",
          "name": "stdout",
          "text": [
            "R^2 of train model is :  0.9686573148243734\n",
            "R^2 of test model is :  0.9330159393661889\n",
            "R^2 of validation model is :  0.9675411461195876\n"
          ]
        }
      ]
    },
    {
      "cell_type": "code",
      "source": [
        "# for missing diameter values\n",
        "rf = RandomForestRegressor(max_depth=5,n_estimators=500)\n",
        "rf.fit(x_train,y_train)\n",
        "print(\"R^2 value is : \",rf.score(x_train,y_train))"
      ],
      "metadata": {
        "colab": {
          "base_uri": "https://localhost:8080/"
        },
        "id": "TXN_SvstcjRp",
        "outputId": "f517d85a-d95d-42f8-cc72-5aca3f325874"
      },
      "execution_count": 26,
      "outputs": [
        {
          "output_type": "stream",
          "name": "stdout",
          "text": [
            "R^2 value is :  0.969346040128229\n"
          ]
        }
      ]
    },
    {
      "cell_type": "markdown",
      "source": [
        "#### XGBoost Regressor"
      ],
      "metadata": {
        "id": "1gn_KZ7hR5Dd"
      }
    },
    {
      "cell_type": "code",
      "execution_count": null,
      "metadata": {
        "colab": {
          "base_uri": "https://localhost:8080/"
        },
        "id": "TSYy9QyuA7kp",
        "outputId": "d47a4471-24d6-46ee-ed4e-230e59f073ba"
      },
      "outputs": [
        {
          "output_type": "stream",
          "name": "stdout",
          "text": [
            "Fitting 10 folds for each of 6 candidates, totalling 60 fits\n",
            "[15:12:07] WARNING: /workspace/src/objective/regression_obj.cu:152: reg:linear is now deprecated in favor of reg:squarederror.\n",
            "R Squared : 0.954\n",
            "Best Params : {'max_depth': 3, 'n_estimators': 500}\n"
          ]
        }
      ],
      "source": [
        "param_grid = {\n",
        "    'max_depth': [3,5],\n",
        "    'n_estimators': [100,250,500]\n",
        "}\n",
        "# Create a based model\n",
        "xgb = XGBRegressor()\n",
        "# Instantiate the grid search model\n",
        "grid_search = GridSearchCV(estimator = xgb,scoring=\"r2\", param_grid = param_grid, \n",
        "                          cv = 10 , n_jobs = -1, verbose = 2)\n",
        "\n",
        "# Fit the grid search to the data\n",
        "grid_search.fit(xtr,ytr)\n",
        "print('R Squared : %.3f' % grid_search.best_score_)\n",
        "print('Best Params : %s' % grid_search.best_params_)"
      ]
    },
    {
      "cell_type": "code",
      "source": [
        "xgb=grid_search.best_estimator_\n",
        "xgb.fit(xtr,ytr)\n",
        "print(\"R^2 of train data is : \",xgb.score(xtr,ytr))\n",
        "print(\"R^2 of test data is : \",xgb.score(xte,yte))\n",
        "print(\"R^2 of validation data is : \",xgb.score(xcv,ycv))"
      ],
      "metadata": {
        "colab": {
          "base_uri": "https://localhost:8080/"
        },
        "id": "S8USrUFMg-ax",
        "outputId": "bfed7f46-aa4f-44ad-b939-e31c3abdba44"
      },
      "execution_count": null,
      "outputs": [
        {
          "output_type": "stream",
          "name": "stdout",
          "text": [
            "[15:12:35] WARNING: /workspace/src/objective/regression_obj.cu:152: reg:linear is now deprecated in favor of reg:squarederror.\n",
            "R^2 of train data is :  0.9944674393109414\n",
            "R^2 of test data is :  0.9496517986487836\n",
            "R^2 of validation data is :  0.9839819565400414\n"
          ]
        }
      ]
    },
    {
      "cell_type": "code",
      "source": [
        "# for missing diameter values\n",
        "xgb=XGBRegressor(max_depth=3,n_estimators=500)\n",
        "xgb.fit(x_train,y_train)\n",
        "print(\"R^2 of train model is : \",xgb.score(x_train,y_train))"
      ],
      "metadata": {
        "colab": {
          "base_uri": "https://localhost:8080/"
        },
        "id": "8XFX9hx5dZOC",
        "outputId": "16c275c0-2879-4761-c8c7-7586d880f327"
      },
      "execution_count": 27,
      "outputs": [
        {
          "output_type": "stream",
          "name": "stdout",
          "text": [
            "R^2 of train model is :  0.9954176833142238\n"
          ]
        }
      ]
    },
    {
      "cell_type": "markdown",
      "source": [
        "## Negative Mean Absolute Error\n",
        "\n",
        "* This is the negative value of mean absolute error.\n",
        "* The best value is 0.\n",
        "* Value closer to 0 indicates less error.\n",
        "* Value farther from 0 indicates higher error.   "
      ],
      "metadata": {
        "id": "Q_-0cOVmgNp0"
      }
    },
    {
      "cell_type": "code",
      "source": [
        "# Using the previously trained LR Model\n",
        "trpred=lr.predict(xtr1)\n",
        "tepred=lr.predict(xte1)\n",
        "cvpred=lr.predict(xcv1)\n",
        "print(\"Negative Mean Absolute Error of Train Data\",-(mean_absolute_error(ytr, trpred)))\n",
        "print(\"Negative Mean Absolute Error of Test Data\",-(mean_absolute_error(yte, tepred)))\n",
        "print(\"Negative Mean Absolute Error of Validation Data\",-(mean_absolute_error(ycv, cvpred)))"
      ],
      "metadata": {
        "colab": {
          "base_uri": "https://localhost:8080/"
        },
        "id": "0tfwIx5294up",
        "outputId": "d9460b51-287b-41ce-d60b-8d7546327ea4"
      },
      "execution_count": null,
      "outputs": [
        {
          "output_type": "stream",
          "name": "stdout",
          "text": [
            "Negative Mean Absolute Error of Train Data -2.7245993242050397\n",
            "Negative Mean Absolute Error of Test Data -2.729776323479229\n",
            "Negative Mean Absolute Error of Validation Data -2.722722040864397\n"
          ]
        }
      ]
    },
    {
      "cell_type": "code",
      "source": [
        "# Using the previously trained LR Model\n",
        "trpred=lr.predict(x_tr1)\n",
        "tepred=lr.predict(x_te1)\n",
        "print(\"Negative Mean Absolute Error is\",-(mean_absolute_error(y_train, trpred)))"
      ],
      "metadata": {
        "colab": {
          "base_uri": "https://localhost:8080/"
        },
        "id": "WB0Ob4_geN2j",
        "outputId": "11cbaaaf-50e7-4ec8-981f-bf6111c17bd9"
      },
      "execution_count": 28,
      "outputs": [
        {
          "output_type": "stream",
          "name": "stdout",
          "text": [
            "Negative Mean Absolute Error is -2.6154995998283495\n"
          ]
        }
      ]
    },
    {
      "cell_type": "markdown",
      "source": [
        "#### Ridge Regression"
      ],
      "metadata": {
        "id": "W_mDHxAi0tn2"
      }
    },
    {
      "cell_type": "code",
      "source": [
        "# Using the previously trained Ridge Model\n",
        "trpred=rd.predict(xtr1)\n",
        "tepred=rd.predict(xte1)\n",
        "cvpred=rd.predict(xcv1)\n",
        "print(\"Negative Mean Absolute Error of Train Data\",-(mean_absolute_error(ytr, trpred)))\n",
        "print(\"Negative Mean Absolute Error of Test Data\",-(mean_absolute_error(yte, tepred)))\n",
        "print(\"Negative Mean Absolute Error of Validation Data\",-(mean_absolute_error(ycv, cvpred)))"
      ],
      "metadata": {
        "colab": {
          "base_uri": "https://localhost:8080/"
        },
        "id": "gkpwhDJ9lwVv",
        "outputId": "463063e2-a06b-4f27-cfd9-9bc89c7fe0dc"
      },
      "execution_count": null,
      "outputs": [
        {
          "output_type": "stream",
          "name": "stdout",
          "text": [
            "Negative Mean Absolute Error of Train Data -2.7245990642839795\n",
            "Negative Mean Absolute Error of Test Data -2.7297760354204788\n",
            "Negative Mean Absolute Error of Validation Data -2.722721765569699\n"
          ]
        }
      ]
    },
    {
      "cell_type": "code",
      "source": [
        "# Using the previously trained Ridge Model\n",
        "# for missing diameter values\n",
        "trpred=rd.predict(x_tr1)\n",
        "tepred=rd.predict(x_te1)\n",
        "print(\"Negative Mean Absolute Error is\",-(mean_absolute_error(y_train, trpred)))"
      ],
      "metadata": {
        "colab": {
          "base_uri": "https://localhost:8080/"
        },
        "id": "DkuAk0AgelUB",
        "outputId": "77e49199-4d23-4b5e-abe3-a7cfbea9f3d7"
      },
      "execution_count": 29,
      "outputs": [
        {
          "output_type": "stream",
          "name": "stdout",
          "text": [
            "Negative Mean Absolute Error is -2.615499444077749\n"
          ]
        }
      ]
    },
    {
      "cell_type": "markdown",
      "source": [
        "#### Lasso Regression"
      ],
      "metadata": {
        "id": "zFewmW510x4_"
      }
    },
    {
      "cell_type": "code",
      "source": [
        "# Using Previously trained Lasso Model \n",
        "trpred=ls.predict(xtr1)\n",
        "tepred=ls.predict(xte1)\n",
        "cvpred=ls.predict(xcv1)\n",
        "print(\"Negative Mean Absolute Error of Train Data\",-(mean_absolute_error(ytr, trpred)))\n",
        "print(\"Negative Mean Absolute Error of Test Data\",-(mean_absolute_error(yte, tepred)))\n",
        "print(\"Negative Mean Absolute Error of Validation Data\",-(mean_absolute_error(ycv, cvpred)))"
      ],
      "metadata": {
        "colab": {
          "base_uri": "https://localhost:8080/"
        },
        "id": "5FEA2Amxykh9",
        "outputId": "d09198b2-d206-4036-8c5a-90d29dc85420"
      },
      "execution_count": null,
      "outputs": [
        {
          "output_type": "stream",
          "name": "stdout",
          "text": [
            "Negative Mean Absolute Error of Train Data -2.598078900715931\n",
            "Negative Mean Absolute Error of Test Data -2.596430925377259\n",
            "Negative Mean Absolute Error of Validation Data -2.5887777551964737\n"
          ]
        }
      ]
    },
    {
      "cell_type": "code",
      "source": [
        "# Using Previously trained Lasso Model \n",
        "# for missing diameter values\n",
        "trpred=ls.predict(x_tr1)\n",
        "tepred=ls.predict(x_te1)\n",
        "print(\"Negative Mean Absolute Error is\",-(mean_absolute_error(y_train, trpred)))"
      ],
      "metadata": {
        "colab": {
          "base_uri": "https://localhost:8080/"
        },
        "id": "TFPst-lFexgi",
        "outputId": "015752f8-ade2-4e3d-b859-78be2d694661"
      },
      "execution_count": 30,
      "outputs": [
        {
          "output_type": "stream",
          "name": "stdout",
          "text": [
            "Negative Mean Absolute Error is -2.4857373518807693\n"
          ]
        }
      ]
    },
    {
      "cell_type": "markdown",
      "source": [
        "#### ElasticNet Regression"
      ],
      "metadata": {
        "id": "FswNFuQh02us"
      }
    },
    {
      "cell_type": "code",
      "source": [
        "# Using Previously trained Enet Model \n",
        "trpred=el.predict(xtr1)\n",
        "tepred=el.predict(xte1)\n",
        "cvpred=el.predict(xcv1)\n",
        "print(\"Negative Mean Absolute Error of Train Data\",-(mean_absolute_error(ytr, trpred)))\n",
        "print(\"Negative Mean Absolute Error of Test Data\",-(mean_absolute_error(yte, tepred)))\n",
        "print(\"Negative Mean Absolute Error of Validation Data\",-(mean_absolute_error(ycv, cvpred)))"
      ],
      "metadata": {
        "colab": {
          "base_uri": "https://localhost:8080/"
        },
        "id": "ZuhczNtlywdB",
        "outputId": "0698be93-7682-4926-bd4e-a52ca055ac41"
      },
      "execution_count": null,
      "outputs": [
        {
          "output_type": "stream",
          "name": "stdout",
          "text": [
            "Negative Mean Absolute Error of Train Data -2.5238968630157887\n",
            "Negative Mean Absolute Error of Test Data -2.5202216921853493\n",
            "Negative Mean Absolute Error of Validation Data -2.5194974727749058\n"
          ]
        }
      ]
    },
    {
      "cell_type": "code",
      "source": [
        "# Using Previously trained Enet Model \n",
        "# for missing diameter values\n",
        "trpred=el.predict(x_tr1)\n",
        "tepred=el.predict(x_te1)\n",
        "print(\"Negative Mean Absolute Error is\",-(mean_absolute_error(y_train, trpred)))"
      ],
      "metadata": {
        "colab": {
          "base_uri": "https://localhost:8080/"
        },
        "id": "s3-c-ddYe75l",
        "outputId": "ab2cb281-57e2-4df8-8b53-5cab2ca82e98"
      },
      "execution_count": 31,
      "outputs": [
        {
          "output_type": "stream",
          "name": "stdout",
          "text": [
            "Negative Mean Absolute Error is -2.4029816355595863\n"
          ]
        }
      ]
    },
    {
      "cell_type": "markdown",
      "source": [
        "#### AdaBoost Regressor"
      ],
      "metadata": {
        "id": "FiByguxI0pgZ"
      }
    },
    {
      "cell_type": "code",
      "source": [
        "# Using Previously trained AdaBoost Model \n",
        "trpred=ada.predict(xtr)\n",
        "tepred=ada.predict(xte)\n",
        "cvpred=ada.predict(xcv)\n",
        "print(\"Negative Mean Absolute Error of Train Data\",-(mean_absolute_error(ytr, trpred)))\n",
        "print(\"Negative Mean Absolute Error of Test Data\",-(mean_absolute_error(yte, tepred)))\n",
        "print(\"Negative Mean Absolute Error of Validation Data\",-(mean_absolute_error(ycv, cvpred)))"
      ],
      "metadata": {
        "colab": {
          "base_uri": "https://localhost:8080/"
        },
        "id": "JpCPxgMSWaI5",
        "outputId": "cb9b5596-6339-4761-c8ac-6a7fc00bb9b3"
      },
      "execution_count": null,
      "outputs": [
        {
          "output_type": "stream",
          "name": "stdout",
          "text": [
            "Negative Mean Absolute Error of Train Data -1.7828337827086074\n",
            "Negative Mean Absolute Error of Test Data -1.8054492244950557\n",
            "Negative Mean Absolute Error of Validation Data -1.7975714407365178\n"
          ]
        }
      ]
    },
    {
      "cell_type": "code",
      "source": [
        "# Using Previously trained AdaBoost Model \n",
        "# for missing diameter values\n",
        "trpred=ada.predict(x_train)\n",
        "#tepred=ada.predict(x_test)\n",
        "print(\"Negative Mean Absolute Error is\",-(mean_absolute_error(y_train, trpred)))"
      ],
      "metadata": {
        "colab": {
          "base_uri": "https://localhost:8080/"
        },
        "id": "DUz8iCdNg3s_",
        "outputId": "ea3dd26d-68a7-4b00-facb-7e5adeaeb6d1"
      },
      "execution_count": 32,
      "outputs": [
        {
          "output_type": "stream",
          "name": "stdout",
          "text": [
            "Negative Mean Absolute Error is -1.7959175559182532\n"
          ]
        }
      ]
    },
    {
      "cell_type": "markdown",
      "source": [
        "#### Random Forest Regressor"
      ],
      "metadata": {
        "id": "dswUR-1J0k9t"
      }
    },
    {
      "cell_type": "code",
      "source": [
        "# Using Previously Trained Random Forest Model\n",
        "trpred=rf.predict(xtr)\n",
        "tepred=rf.predict(xte)\n",
        "cvpred=rf.predict(xcv)\n",
        "print(\"Negative Mean Absolute Error of Train Data\",-(mean_absolute_error(ytr, trpred)))\n",
        "print(\"Negative Mean Absolute Error of Test Data\",-(mean_absolute_error(yte, tepred)))\n",
        "print(\"Negative Mean Absolute Error of Validation Data\",-(mean_absolute_error(ycv, cvpred)))"
      ],
      "metadata": {
        "colab": {
          "base_uri": "https://localhost:8080/"
        },
        "id": "9Anq1z53Pro1",
        "outputId": "f31effa2-9bb6-4ec5-d876-9c4cc61d1a88"
      },
      "execution_count": null,
      "outputs": [
        {
          "output_type": "stream",
          "name": "stdout",
          "text": [
            "Negative Mean Absolute Error of Train Data -0.9117090614476029\n",
            "Negative Mean Absolute Error of Test Data -0.920098430760104\n",
            "Negative Mean Absolute Error of Validation Data -0.9172345556942838\n"
          ]
        }
      ]
    },
    {
      "cell_type": "code",
      "source": [
        "# Using Previously Trained Random Forest Model\n",
        "# for diameter missing values\n",
        "trpred=rf.predict(x_train)\n",
        "tepred=rf.predict(x_test)\n",
        "print(\"Negative Mean Absolute Error is\",-(mean_absolute_error(y_train, trpred)))"
      ],
      "metadata": {
        "colab": {
          "base_uri": "https://localhost:8080/"
        },
        "id": "GTFIsXVYfI08",
        "outputId": "8930f439-8cfb-4f31-97c2-4bb35749f3e3"
      },
      "execution_count": 33,
      "outputs": [
        {
          "output_type": "stream",
          "name": "stdout",
          "text": [
            "Negative Mean Absolute Error is -0.9129400066668372\n"
          ]
        }
      ]
    },
    {
      "cell_type": "markdown",
      "source": [
        "#### XGBoost Regressor"
      ],
      "metadata": {
        "id": "tyrhes-I0it0"
      }
    },
    {
      "cell_type": "code",
      "source": [
        "# Using Previously Trained XGBoost Model\n",
        "trpred=xgb.predict(xtr)\n",
        "tepred=xgb.predict(xte)\n",
        "cvpred=xgb.predict(xcv)\n",
        "print(\"Negative Mean Absolute Error of Train Data\",-(mean_absolute_error(ytr, trpred)))\n",
        "print(\"Negative Mean Absolute Error of Test Data\",-(mean_absolute_error(yte, tepred)))\n",
        "print(\"Negative Mean Absolute Error of Validation Data\",-(mean_absolute_error(ycv, cvpred)))"
      ],
      "metadata": {
        "colab": {
          "base_uri": "https://localhost:8080/"
        },
        "id": "kMHDnVK-z-kT",
        "outputId": "41c8f432-4f6f-49e5-ee33-7339068d0198"
      },
      "execution_count": null,
      "outputs": [
        {
          "output_type": "stream",
          "name": "stdout",
          "text": [
            "Negative Mean Absolute Error of Train Data -0.3807907607597713\n",
            "Negative Mean Absolute Error of Test Data -0.42141800896918613\n",
            "Negative Mean Absolute Error of Validation Data -0.4181520152589881\n"
          ]
        }
      ]
    },
    {
      "cell_type": "code",
      "source": [
        "# Using Previously Trained XGBoost Model\n",
        "# for diameter missing values\n",
        "trpred=xgb.predict(x_train)\n",
        "tepred=xgb.predict(x_test)\n",
        "print(\"Negative Mean Absolute Error is\",-(mean_absolute_error(y_train, trpred)))"
      ],
      "metadata": {
        "colab": {
          "base_uri": "https://localhost:8080/"
        },
        "id": "UDG-EJ3TfYt-",
        "outputId": "ae122742-5765-49cb-e356-ccdb34ea7f9c"
      },
      "execution_count": 34,
      "outputs": [
        {
          "output_type": "stream",
          "name": "stdout",
          "text": [
            "Negative Mean Absolute Error is -0.3630875416468981\n"
          ]
        }
      ]
    },
    {
      "cell_type": "markdown",
      "source": [
        "### Pretty Table Observations"
      ],
      "metadata": {
        "id": "tddvAMjF7qM7"
      }
    },
    {
      "cell_type": "markdown",
      "source": [
        "#### For R Squared Error"
      ],
      "metadata": {
        "id": "BEGeYPy1CYt8"
      }
    },
    {
      "cell_type": "code",
      "source": [
        "from prettytable import PrettyTable\n",
        "tab = PrettyTable([\"Sr No\", \"Model\", \"Best Hyperparameters\",\"R Squared Scores of all data\"])\n",
        "# Add rows\n",
        "tab.add_row([\"1.\", \"Linear Regression\", \"-\",\"1.Train Data :  0.444 \\n 2.Test Data : 0.400 \\n 3.Validation Data :  0.497\\n\"])\n",
        "tab.add_row([\"2.\", \"Ridge Regression\", \"{'alpha' : 0.001}\",\"1.Train Data :  0.444 \\n 2.Test Data : 0.400 \\n 3.Validation Data :  0.497\\n\"])\n",
        "tab.add_row([\"3.\", \"Lasso Regression\", \"{'alpha' : 0.1}\",\"1.Train Data :  0.434 \\n 2.Test Data : 0.394 \\n 3.Validation Data :  0.488\\n\"])\n",
        "tab.add_row([\"4.\", \"ElasticNet Regression\", \"{'alpha' : 0.1,'l1_ratio': 0.0, 'max_iter': 100}\",\"1.Train Data :  0.433 \\n 2.Test Data : 0.390 \\n 3.Validation Data :  0.483\\n\"])\n",
        "tab.add_row([\"5.\",\"Adaboost Regressor\",\"{'learning_rate': 0.001, 'n_estimators': 500}\",\"1.Train Data :  0.881 \\n 2.Test Data : 0.835 \\n 3.Validation Data :  0.865\\n\"])\n",
        "tab.add_row([\"6.\",\"Random Forest Regressor\",\"{'max_depth': 5, 'n_estimators': 100}\",\"1.Train Data :  0.967 \\n 2.Test Data : 0.931 \\n 3.Validation Data :  0.968\\n\"])\n",
        "tab.add_row([\"7.\",\"XGBoost Regressor\",\"{'max_depth': 3, 'n_estimators': 500}\",\"1.Train Data :  0.995 \\n 2.Test Data : 0.950 \\n 3.Validation Data :  0.984\\n\"])\n",
        "print(tab)"
      ],
      "metadata": {
        "colab": {
          "base_uri": "https://localhost:8080/"
        },
        "id": "WpQtLS5f7onu",
        "outputId": "68122c8b-8dd7-4fb8-c566-3ad92749f55a"
      },
      "execution_count": null,
      "outputs": [
        {
          "output_type": "stream",
          "name": "stdout",
          "text": [
            "+-------+-------------------------+--------------------------------------------------+------------------------------+\n",
            "| Sr No |          Model          |               Best Hyperparameters               | R Squared Scores of all data |\n",
            "+-------+-------------------------+--------------------------------------------------+------------------------------+\n",
            "|   1.  |    Linear Regression    |                        -                         |    1.Train Data :  0.444     |\n",
            "|       |                         |                                                  |     2.Test Data : 0.400      |\n",
            "|       |                         |                                                  |  3.Validation Data :  0.497  |\n",
            "|       |                         |                                                  |                              |\n",
            "|   2.  |     Ridge Regression    |                {'alpha' : 0.001}                 |    1.Train Data :  0.444     |\n",
            "|       |                         |                                                  |     2.Test Data : 0.400      |\n",
            "|       |                         |                                                  |  3.Validation Data :  0.497  |\n",
            "|       |                         |                                                  |                              |\n",
            "|   3.  |     Lasso Regression    |                 {'alpha' : 0.1}                  |    1.Train Data :  0.434     |\n",
            "|       |                         |                                                  |     2.Test Data : 0.394      |\n",
            "|       |                         |                                                  |  3.Validation Data :  0.488  |\n",
            "|       |                         |                                                  |                              |\n",
            "|   4.  |  ElasticNet Regression  | {'alpha' : 0.1,'l1_ratio': 0.0, 'max_iter': 100} |    1.Train Data :  0.433     |\n",
            "|       |                         |                                                  |     2.Test Data : 0.390      |\n",
            "|       |                         |                                                  |  3.Validation Data :  0.483  |\n",
            "|       |                         |                                                  |                              |\n",
            "|   5.  |    Adaboost Regressor   |  {'learning_rate': 0.001, 'n_estimators': 500}   |    1.Train Data :  0.881     |\n",
            "|       |                         |                                                  |     2.Test Data : 0.835      |\n",
            "|       |                         |                                                  |  3.Validation Data :  0.865  |\n",
            "|       |                         |                                                  |                              |\n",
            "|   6.  | Random Forest Regressor |      {'max_depth': 5, 'n_estimators': 100}       |    1.Train Data :  0.967     |\n",
            "|       |                         |                                                  |     2.Test Data : 0.931      |\n",
            "|       |                         |                                                  |  3.Validation Data :  0.968  |\n",
            "|       |                         |                                                  |                              |\n",
            "|   7.  |    XGBoost Regressor    |      {'max_depth': 3, 'n_estimators': 500}       |    1.Train Data :  0.995     |\n",
            "|       |                         |                                                  |     2.Test Data : 0.950      |\n",
            "|       |                         |                                                  |  3.Validation Data :  0.984  |\n",
            "|       |                         |                                                  |                              |\n",
            "+-------+-------------------------+--------------------------------------------------+------------------------------+\n"
          ]
        }
      ]
    },
    {
      "cell_type": "markdown",
      "source": [
        "#### For Missing Diameter values as Test Data"
      ],
      "metadata": {
        "id": "5CvIjvTTdt7G"
      }
    },
    {
      "cell_type": "code",
      "source": [
        "from prettytable import PrettyTable\n",
        "tab = PrettyTable([\"Sr No\", \"Model\", \"Best Hyperparameters\",\"R Squared Value\"])\n",
        "# Add rows\n",
        "tab.add_row([\"1.\", \"Linear Regression\", \"-\",\"0.440\"])\n",
        "tab.add_row([\"2.\", \"Ridge Regression\", \"{'alpha' : 0.001}\",\"0.440\"])\n",
        "tab.add_row([\"3.\", \"Lasso Regression\", \"{'alpha' : 0.1}\",\"0.429\"])\n",
        "tab.add_row([\"4.\", \"ElasticNet Regression\", \"{'alpha' : 0.1,'l1_ratio': 0.0, 'max_iter': 100}\",\"0.427\"])\n",
        "tab.add_row([\"5.\",\"Adaboost Regressor\",\"{'learning_rate': 0.001, 'n_estimators': 500}\",\"0.868\"])\n",
        "tab.add_row([\"6.\",\"Random Forest Regressor\",\"{'max_depth': 5, 'n_estimators': 100}\",\"0.969\"])\n",
        "tab.add_row([\"7.\",\"XGBoost Regressor\",\"{'max_depth': 3, 'n_estimators': 500}\",\"0.995\"])\n",
        "print(tab)"
      ],
      "metadata": {
        "colab": {
          "base_uri": "https://localhost:8080/"
        },
        "id": "lauNPL3ldoBV",
        "outputId": "b788e3e6-728a-4d96-ac43-54497dcffd66"
      },
      "execution_count": 37,
      "outputs": [
        {
          "output_type": "stream",
          "name": "stdout",
          "text": [
            "+-------+-------------------------+--------------------------------------------------+-----------------+\n",
            "| Sr No |          Model          |               Best Hyperparameters               | R Squared Value |\n",
            "+-------+-------------------------+--------------------------------------------------+-----------------+\n",
            "|   1.  |    Linear Regression    |                        -                         |      0.440      |\n",
            "|   2.  |     Ridge Regression    |                {'alpha' : 0.001}                 |      0.440      |\n",
            "|   3.  |     Lasso Regression    |                 {'alpha' : 0.1}                  |      0.429      |\n",
            "|   4.  |  ElasticNet Regression  | {'alpha' : 0.1,'l1_ratio': 0.0, 'max_iter': 100} |      0.427      |\n",
            "|   5.  |    Adaboost Regressor   |  {'learning_rate': 0.001, 'n_estimators': 500}   |      0.868      |\n",
            "|   6.  | Random Forest Regressor |      {'max_depth': 5, 'n_estimators': 100}       |      0.969      |\n",
            "|   7.  |    XGBoost Regressor    |      {'max_depth': 3, 'n_estimators': 500}       |      0.995      |\n",
            "+-------+-------------------------+--------------------------------------------------+-----------------+\n"
          ]
        }
      ]
    },
    {
      "cell_type": "markdown",
      "source": [
        "#### Negative Mean Absolute Error"
      ],
      "metadata": {
        "id": "kW75hTRFDaAe"
      }
    },
    {
      "cell_type": "code",
      "source": [
        "from prettytable import PrettyTable\n",
        "tab = PrettyTable([\"Sr No\", \"Model\", \"Best Hyperparameters\",\"Negative Absolute Error of all Data\"])\n",
        "# Add rows\n",
        "tab.add_row([\"1.\", \"Linear Regression\", \"-\",\"1.Train Data :  -2.725 \\n 2.Test Data : -2.723 \\n 3.Validation Data :  -2.723\\n\"])\n",
        "tab.add_row([\"2.\", \"Ridge Regression\", \"{'alpha' : 0.001}\",\"1.Train Data :  -2.725 \\n 2.Test Data : -2.723 \\n 3.Validation Data :  -2.723\\n\"])\n",
        "tab.add_row([\"3.\", \"Lasso Regression\", \"{'alpha' : 0.1}\",\"1.Train Data :  -2.598 \\n 2.Test Data : -2.596 \\n 3.Validation Data :  -2.589\\n\"])\n",
        "tab.add_row([\"4.\", \"ElasticNet Regression\", \"{'alpha' : 0.1,'l1_ratio': 0.0, 'max_iter': 100}\",\"1.Train Data :  -2.524 \\n 2.Test Data : -2.520 \\n 3.Validation Data :  -2.520\\n\"])\n",
        "tab.add_row([\"5.\",\"Adaboost Regressor\",\"{'learning_rate': 0.001, 'n_estimators': 500}\",\"1.Train Data :  -1.783 \\n 2.Test Data : -1.806 \\n 3.Validation Data :  -1.798\\n\"])\n",
        "tab.add_row([\"6.\",\"Random Forest Regressor\",\"{'max_depth': 5, 'n_estimators': 100}\",\"1.Train Data :  -0.912 \\n 2.Test Data : -0.920 \\n 3.Validation Data :  -0.917\\n\"])\n",
        "tab.add_row([\"7.\",\"XGBoost Regressor\",\"{'max_depth': 3, 'n_estimators': 500}\",\"1.Train Data :  -0.381 \\n 2.Test Data : -0.421 \\n 3.Validation Data :  -0.418\\n\"])\n",
        "print(tab)"
      ],
      "metadata": {
        "id": "q42EMALrDcka",
        "colab": {
          "base_uri": "https://localhost:8080/"
        },
        "outputId": "0de809a8-0e97-4815-8b30-5ef7065d6e6e"
      },
      "execution_count": null,
      "outputs": [
        {
          "output_type": "stream",
          "name": "stdout",
          "text": [
            "+-------+-------------------------+--------------------------------------------------+-------------------------------------+\n",
            "| Sr No |          Model          |               Best Hyperparameters               | Negative Absolute Error of all Data |\n",
            "+-------+-------------------------+--------------------------------------------------+-------------------------------------+\n",
            "|   1.  |    Linear Regression    |                        -                         |       1.Train Data :  -2.725        |\n",
            "|       |                         |                                                  |         2.Test Data : -2.723        |\n",
            "|       |                         |                                                  |      3.Validation Data :  -2.723    |\n",
            "|       |                         |                                                  |                                     |\n",
            "|   2.  |     Ridge Regression    |                {'alpha' : 0.001}                 |       1.Train Data :  -2.725        |\n",
            "|       |                         |                                                  |         2.Test Data : -2.723        |\n",
            "|       |                         |                                                  |      3.Validation Data :  -2.723    |\n",
            "|       |                         |                                                  |                                     |\n",
            "|   3.  |     Lasso Regression    |                 {'alpha' : 0.1}                  |       1.Train Data :  -2.598        |\n",
            "|       |                         |                                                  |         2.Test Data : -2.596        |\n",
            "|       |                         |                                                  |      3.Validation Data :  -2.589    |\n",
            "|       |                         |                                                  |                                     |\n",
            "|   4.  |  ElasticNet Regression  | {'alpha' : 0.1,'l1_ratio': 0.0, 'max_iter': 100} |       1.Train Data :  -2.524        |\n",
            "|       |                         |                                                  |         2.Test Data : -2.520        |\n",
            "|       |                         |                                                  |      3.Validation Data :  -2.520    |\n",
            "|       |                         |                                                  |                                     |\n",
            "|   5.  |    Adaboost Regressor   |  {'learning_rate': 0.001, 'n_estimators': 500}   |       1.Train Data :  -1.783        |\n",
            "|       |                         |                                                  |         2.Test Data : -1.806        |\n",
            "|       |                         |                                                  |      3.Validation Data :  -1.798    |\n",
            "|       |                         |                                                  |                                     |\n",
            "|   6.  | Random Forest Regressor |      {'max_depth': 5, 'n_estimators': 100}       |       1.Train Data :  -0.912        |\n",
            "|       |                         |                                                  |         2.Test Data : -0.920        |\n",
            "|       |                         |                                                  |      3.Validation Data :  -0.917    |\n",
            "|       |                         |                                                  |                                     |\n",
            "|   7.  |    XGBoost Regressor    |      {'max_depth': 3, 'n_estimators': 500}       |       1.Train Data :  -0.381        |\n",
            "|       |                         |                                                  |         2.Test Data : -0.421        |\n",
            "|       |                         |                                                  |      3.Validation Data :  -0.418    |\n",
            "|       |                         |                                                  |                                     |\n",
            "+-------+-------------------------+--------------------------------------------------+-------------------------------------+\n"
          ]
        }
      ]
    },
    {
      "cell_type": "markdown",
      "source": [
        "#### For Missing Diameter values as Test Data"
      ],
      "metadata": {
        "id": "mS6BFZYjdcGU"
      }
    },
    {
      "cell_type": "code",
      "source": [
        "from prettytable import PrettyTable\n",
        "tab = PrettyTable([\"Sr No\", \"Model\", \"Best Hyperparameters\",\"Negative Mean Absolute Error\"])\n",
        "# Add rows\n",
        "tab.add_row([\"1.\", \"Linear Regression\", \"-\",\"-2.616\"])\n",
        "tab.add_row([\"2.\", \"Ridge Regression\", \"{'alpha' : 0.001}\",\"-2.616\"])\n",
        "tab.add_row([\"3.\", \"Lasso Regression\", \"{'alpha' : 0.1}\",\"-2.486\"])\n",
        "tab.add_row([\"4.\", \"ElasticNet Regression\", \"{'alpha' : 0.1,'l1_ratio': 0.0, 'max_iter': 100}\",\"-2.403\"])\n",
        "tab.add_row([\"5.\",\"Adaboost Regressor\",\"{'learning_rate': 0.001, 'n_estimators': 500}\",\"-1.80\"])\n",
        "tab.add_row([\"6.\",\"Random Forest Regressor\",\"{'max_depth': 5, 'n_estimators': 100}\",\"-0.913\"])\n",
        "tab.add_row([\"7.\",\"XGBoost Regressor\",\"{'max_depth': 3, 'n_estimators': 500}\",\"-0.363\"])\n",
        "print(tab)"
      ],
      "metadata": {
        "colab": {
          "base_uri": "https://localhost:8080/"
        },
        "id": "hDXLUVW0bnBG",
        "outputId": "c7282a47-6766-4a38-c960-9c3268d8c2e6"
      },
      "execution_count": 36,
      "outputs": [
        {
          "output_type": "stream",
          "name": "stdout",
          "text": [
            "+-------+------------------------------------------+--------------------------------------------------+------------------------------+\n",
            "| Sr No |                  Model                   |               Best Hyperparameters               | Negative Mean Absolute Error |\n",
            "+-------+------------------------------------------+--------------------------------------------------+------------------------------+\n",
            "|  **** | For Missing Diameter values as Test Data |                       ****                       |             ----             |\n",
            "|   1.  |            Linear Regression             |                        -                         |            -2.616            |\n",
            "|   2.  |             Ridge Regression             |                {'alpha' : 0.001}                 |            -2.616            |\n",
            "|   3.  |             Lasso Regression             |                 {'alpha' : 0.1}                  |            -2.486            |\n",
            "|   4.  |          ElasticNet Regression           | {'alpha' : 0.1,'l1_ratio': 0.0, 'max_iter': 100} |            -2.403            |\n",
            "|   5.  |            Adaboost Regressor            |  {'learning_rate': 0.001, 'n_estimators': 500}   |            -1.80             |\n",
            "|   6.  |         Random Forest Regressor          |      {'max_depth': 5, 'n_estimators': 100}       |            -0.913            |\n",
            "|   7.  |            XGBoost Regressor             |      {'max_depth': 3, 'n_estimators': 500}       |            -0.363            |\n",
            "+-------+------------------------------------------+--------------------------------------------------+------------------------------+\n"
          ]
        }
      ]
    },
    {
      "cell_type": "markdown",
      "metadata": {
        "id": "s6aQ9UUwmKsN"
      },
      "source": [
        "### Conclusion:\n",
        "\n",
        "<b>For R squared:</b>\n",
        "1. After lots of model training, It can be observed that XGBoost Regressor performs best out of all models.\n",
        "\n",
        "2. Lasso, Ridge and Elastic Net Regression has almost similar performance.\n",
        "\n",
        "3. Out of all Models, Linear Regression performs poorly.\n",
        "\n",
        "4. R^2 Error is taken as performance metric in this regression problem.\n",
        "\n",
        "5. All of the ensembles perform very well.\n",
        "\n",
        "6. Higher values of R-square determines the less difference between the predicted values and actual values and hence represents a good model.\n",
        "\n",
        "\n",
        "\n",
        "<b> For Negative Mean Absolute Error : </b>\n",
        "\n",
        "1. After lots of model training, It can be observed that XGBoost Regressor performs best in terms of negative mean absolute error out of all models.\n",
        "\n",
        "2. Lasso Performs better than Ridge whereas ElasticNet gives out the best performance out of all Linear Regression models.\n",
        "\n",
        "3. Negative Mean Absolute Error is taken as performance metric in this regression problem.\n",
        "\n",
        "4. All of the ensembles perform very well.\n",
        "\n",
        "5. Higher values of Negative Mean Absolute Error determines the less difference between the predicted values and actual values and hence represents a good model.\n"
      ]
    },
    {
      "cell_type": "code",
      "source": [
        "import pickle\n",
        "pickle.dump(enc,open(\"One-Hot-Encoder.sav\",'wb'))\n",
        "pickle.dump(xgb,open(\"XGB_Updated_with_137681_pts.pkl\",'wb'))"
      ],
      "metadata": {
        "id": "2BmcX3A6ItnL"
      },
      "execution_count": 39,
      "outputs": []
    }
  ],
  "metadata": {
    "colab": {
      "name": "Asteroid_FE_and_Model_building_updated_as_per_instructions.ipynb",
      "provenance": []
    },
    "gpuClass": "standard",
    "kernelspec": {
      "display_name": "Python 3",
      "name": "python3"
    },
    "language_info": {
      "name": "python"
    }
  },
  "nbformat": 4,
  "nbformat_minor": 0
}